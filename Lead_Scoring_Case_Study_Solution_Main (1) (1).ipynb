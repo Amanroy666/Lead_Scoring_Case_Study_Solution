{
 "cells": [
  {
   "cell_type": "markdown",
   "id": "aca932d3",
   "metadata": {},
   "source": [
    "# Importing Libraries"
   ]
  },
  {
   "cell_type": "code",
   "execution_count": 1,
   "id": "0c176075",
   "metadata": {},
   "outputs": [],
   "source": [
    "import numpy as np\n",
    "import pandas as pd\n",
    "import matplotlib.pyplot as plt\n",
    "import seaborn as sns\n",
    "import warnings\n",
    "warnings.filterwarnings('ignore')"
   ]
  },
  {
   "cell_type": "markdown",
   "id": "87bce6ea",
   "metadata": {},
   "source": [
    "# Loading and cleaning the dataset"
   ]
  },
  {
   "cell_type": "code",
   "execution_count": 2,
   "id": "6d62041b",
   "metadata": {},
   "outputs": [
    {
     "data": {
      "text/html": [
       "<div>\n",
       "<style scoped>\n",
       "    .dataframe tbody tr th:only-of-type {\n",
       "        vertical-align: middle;\n",
       "    }\n",
       "\n",
       "    .dataframe tbody tr th {\n",
       "        vertical-align: top;\n",
       "    }\n",
       "\n",
       "    .dataframe thead th {\n",
       "        text-align: right;\n",
       "    }\n",
       "</style>\n",
       "<table border=\"1\" class=\"dataframe\">\n",
       "  <thead>\n",
       "    <tr style=\"text-align: right;\">\n",
       "      <th></th>\n",
       "      <th>Prospect ID</th>\n",
       "      <th>Lead Number</th>\n",
       "      <th>Lead Origin</th>\n",
       "      <th>Lead Source</th>\n",
       "      <th>Do Not Email</th>\n",
       "      <th>Do Not Call</th>\n",
       "      <th>Converted</th>\n",
       "      <th>TotalVisits</th>\n",
       "      <th>Total Time Spent on Website</th>\n",
       "      <th>Page Views Per Visit</th>\n",
       "      <th>...</th>\n",
       "      <th>Get updates on DM Content</th>\n",
       "      <th>Lead Profile</th>\n",
       "      <th>City</th>\n",
       "      <th>Asymmetrique Activity Index</th>\n",
       "      <th>Asymmetrique Profile Index</th>\n",
       "      <th>Asymmetrique Activity Score</th>\n",
       "      <th>Asymmetrique Profile Score</th>\n",
       "      <th>I agree to pay the amount through cheque</th>\n",
       "      <th>A free copy of Mastering The Interview</th>\n",
       "      <th>Last Notable Activity</th>\n",
       "    </tr>\n",
       "  </thead>\n",
       "  <tbody>\n",
       "    <tr>\n",
       "      <th>0</th>\n",
       "      <td>7927b2df-8bba-4d29-b9a2-b6e0beafe620</td>\n",
       "      <td>660737</td>\n",
       "      <td>API</td>\n",
       "      <td>Olark Chat</td>\n",
       "      <td>No</td>\n",
       "      <td>No</td>\n",
       "      <td>0</td>\n",
       "      <td>0.0</td>\n",
       "      <td>0</td>\n",
       "      <td>0.0</td>\n",
       "      <td>...</td>\n",
       "      <td>No</td>\n",
       "      <td>Select</td>\n",
       "      <td>Select</td>\n",
       "      <td>02.Medium</td>\n",
       "      <td>02.Medium</td>\n",
       "      <td>15.0</td>\n",
       "      <td>15.0</td>\n",
       "      <td>No</td>\n",
       "      <td>No</td>\n",
       "      <td>Modified</td>\n",
       "    </tr>\n",
       "    <tr>\n",
       "      <th>1</th>\n",
       "      <td>2a272436-5132-4136-86fa-dcc88c88f482</td>\n",
       "      <td>660728</td>\n",
       "      <td>API</td>\n",
       "      <td>Organic Search</td>\n",
       "      <td>No</td>\n",
       "      <td>No</td>\n",
       "      <td>0</td>\n",
       "      <td>5.0</td>\n",
       "      <td>674</td>\n",
       "      <td>2.5</td>\n",
       "      <td>...</td>\n",
       "      <td>No</td>\n",
       "      <td>Select</td>\n",
       "      <td>Select</td>\n",
       "      <td>02.Medium</td>\n",
       "      <td>02.Medium</td>\n",
       "      <td>15.0</td>\n",
       "      <td>15.0</td>\n",
       "      <td>No</td>\n",
       "      <td>No</td>\n",
       "      <td>Email Opened</td>\n",
       "    </tr>\n",
       "    <tr>\n",
       "      <th>2</th>\n",
       "      <td>8cc8c611-a219-4f35-ad23-fdfd2656bd8a</td>\n",
       "      <td>660727</td>\n",
       "      <td>Landing Page Submission</td>\n",
       "      <td>Direct Traffic</td>\n",
       "      <td>No</td>\n",
       "      <td>No</td>\n",
       "      <td>1</td>\n",
       "      <td>2.0</td>\n",
       "      <td>1532</td>\n",
       "      <td>2.0</td>\n",
       "      <td>...</td>\n",
       "      <td>No</td>\n",
       "      <td>Potential Lead</td>\n",
       "      <td>Mumbai</td>\n",
       "      <td>02.Medium</td>\n",
       "      <td>01.High</td>\n",
       "      <td>14.0</td>\n",
       "      <td>20.0</td>\n",
       "      <td>No</td>\n",
       "      <td>Yes</td>\n",
       "      <td>Email Opened</td>\n",
       "    </tr>\n",
       "    <tr>\n",
       "      <th>3</th>\n",
       "      <td>0cc2df48-7cf4-4e39-9de9-19797f9b38cc</td>\n",
       "      <td>660719</td>\n",
       "      <td>Landing Page Submission</td>\n",
       "      <td>Direct Traffic</td>\n",
       "      <td>No</td>\n",
       "      <td>No</td>\n",
       "      <td>0</td>\n",
       "      <td>1.0</td>\n",
       "      <td>305</td>\n",
       "      <td>1.0</td>\n",
       "      <td>...</td>\n",
       "      <td>No</td>\n",
       "      <td>Select</td>\n",
       "      <td>Mumbai</td>\n",
       "      <td>02.Medium</td>\n",
       "      <td>01.High</td>\n",
       "      <td>13.0</td>\n",
       "      <td>17.0</td>\n",
       "      <td>No</td>\n",
       "      <td>No</td>\n",
       "      <td>Modified</td>\n",
       "    </tr>\n",
       "    <tr>\n",
       "      <th>4</th>\n",
       "      <td>3256f628-e534-4826-9d63-4a8b88782852</td>\n",
       "      <td>660681</td>\n",
       "      <td>Landing Page Submission</td>\n",
       "      <td>Google</td>\n",
       "      <td>No</td>\n",
       "      <td>No</td>\n",
       "      <td>1</td>\n",
       "      <td>2.0</td>\n",
       "      <td>1428</td>\n",
       "      <td>1.0</td>\n",
       "      <td>...</td>\n",
       "      <td>No</td>\n",
       "      <td>Select</td>\n",
       "      <td>Mumbai</td>\n",
       "      <td>02.Medium</td>\n",
       "      <td>01.High</td>\n",
       "      <td>15.0</td>\n",
       "      <td>18.0</td>\n",
       "      <td>No</td>\n",
       "      <td>No</td>\n",
       "      <td>Modified</td>\n",
       "    </tr>\n",
       "  </tbody>\n",
       "</table>\n",
       "<p>5 rows × 37 columns</p>\n",
       "</div>"
      ],
      "text/plain": [
       "                            Prospect ID  Lead Number              Lead Origin  \\\n",
       "0  7927b2df-8bba-4d29-b9a2-b6e0beafe620       660737                      API   \n",
       "1  2a272436-5132-4136-86fa-dcc88c88f482       660728                      API   \n",
       "2  8cc8c611-a219-4f35-ad23-fdfd2656bd8a       660727  Landing Page Submission   \n",
       "3  0cc2df48-7cf4-4e39-9de9-19797f9b38cc       660719  Landing Page Submission   \n",
       "4  3256f628-e534-4826-9d63-4a8b88782852       660681  Landing Page Submission   \n",
       "\n",
       "      Lead Source Do Not Email Do Not Call  Converted  TotalVisits  \\\n",
       "0      Olark Chat           No          No          0          0.0   \n",
       "1  Organic Search           No          No          0          5.0   \n",
       "2  Direct Traffic           No          No          1          2.0   \n",
       "3  Direct Traffic           No          No          0          1.0   \n",
       "4          Google           No          No          1          2.0   \n",
       "\n",
       "   Total Time Spent on Website  Page Views Per Visit  ...  \\\n",
       "0                            0                   0.0  ...   \n",
       "1                          674                   2.5  ...   \n",
       "2                         1532                   2.0  ...   \n",
       "3                          305                   1.0  ...   \n",
       "4                         1428                   1.0  ...   \n",
       "\n",
       "  Get updates on DM Content    Lead Profile    City  \\\n",
       "0                        No          Select  Select   \n",
       "1                        No          Select  Select   \n",
       "2                        No  Potential Lead  Mumbai   \n",
       "3                        No          Select  Mumbai   \n",
       "4                        No          Select  Mumbai   \n",
       "\n",
       "  Asymmetrique Activity Index Asymmetrique Profile Index  \\\n",
       "0                   02.Medium                  02.Medium   \n",
       "1                   02.Medium                  02.Medium   \n",
       "2                   02.Medium                    01.High   \n",
       "3                   02.Medium                    01.High   \n",
       "4                   02.Medium                    01.High   \n",
       "\n",
       "  Asymmetrique Activity Score Asymmetrique Profile Score  \\\n",
       "0                        15.0                       15.0   \n",
       "1                        15.0                       15.0   \n",
       "2                        14.0                       20.0   \n",
       "3                        13.0                       17.0   \n",
       "4                        15.0                       18.0   \n",
       "\n",
       "  I agree to pay the amount through cheque  \\\n",
       "0                                       No   \n",
       "1                                       No   \n",
       "2                                       No   \n",
       "3                                       No   \n",
       "4                                       No   \n",
       "\n",
       "  A free copy of Mastering The Interview Last Notable Activity  \n",
       "0                                     No              Modified  \n",
       "1                                     No          Email Opened  \n",
       "2                                    Yes          Email Opened  \n",
       "3                                     No              Modified  \n",
       "4                                     No              Modified  \n",
       "\n",
       "[5 rows x 37 columns]"
      ]
     },
     "execution_count": 2,
     "metadata": {},
     "output_type": "execute_result"
    }
   ],
   "source": [
    "leads_data = pd.read_csv(\"C:\\\\Users\\\\GOOD HAPPY\\\\Downloads\\\\Lead Scoring Assignment\\\\Leads.csv\")\n",
    "leads_data.head()"
   ]
  },
  {
   "cell_type": "markdown",
   "id": "fff31b52",
   "metadata": {},
   "source": [
    "## Checking the dataframe"
   ]
  },
  {
   "cell_type": "code",
   "execution_count": 3,
   "id": "4d8f7b4c",
   "metadata": {},
   "outputs": [
    {
     "name": "stdout",
     "output_type": "stream",
     "text": [
      "<class 'pandas.core.frame.DataFrame'>\n",
      "RangeIndex: 9240 entries, 0 to 9239\n",
      "Data columns (total 37 columns):\n",
      " #   Column                                         Non-Null Count  Dtype  \n",
      "---  ------                                         --------------  -----  \n",
      " 0   Prospect ID                                    9240 non-null   object \n",
      " 1   Lead Number                                    9240 non-null   int64  \n",
      " 2   Lead Origin                                    9240 non-null   object \n",
      " 3   Lead Source                                    9204 non-null   object \n",
      " 4   Do Not Email                                   9240 non-null   object \n",
      " 5   Do Not Call                                    9240 non-null   object \n",
      " 6   Converted                                      9240 non-null   int64  \n",
      " 7   TotalVisits                                    9103 non-null   float64\n",
      " 8   Total Time Spent on Website                    9240 non-null   int64  \n",
      " 9   Page Views Per Visit                           9103 non-null   float64\n",
      " 10  Last Activity                                  9137 non-null   object \n",
      " 11  Country                                        6779 non-null   object \n",
      " 12  Specialization                                 7802 non-null   object \n",
      " 13  How did you hear about X Education             7033 non-null   object \n",
      " 14  What is your current occupation                6550 non-null   object \n",
      " 15  What matters most to you in choosing a course  6531 non-null   object \n",
      " 16  Search                                         9240 non-null   object \n",
      " 17  Magazine                                       9240 non-null   object \n",
      " 18  Newspaper Article                              9240 non-null   object \n",
      " 19  X Education Forums                             9240 non-null   object \n",
      " 20  Newspaper                                      9240 non-null   object \n",
      " 21  Digital Advertisement                          9240 non-null   object \n",
      " 22  Through Recommendations                        9240 non-null   object \n",
      " 23  Receive More Updates About Our Courses         9240 non-null   object \n",
      " 24  Tags                                           5887 non-null   object \n",
      " 25  Lead Quality                                   4473 non-null   object \n",
      " 26  Update me on Supply Chain Content              9240 non-null   object \n",
      " 27  Get updates on DM Content                      9240 non-null   object \n",
      " 28  Lead Profile                                   6531 non-null   object \n",
      " 29  City                                           7820 non-null   object \n",
      " 30  Asymmetrique Activity Index                    5022 non-null   object \n",
      " 31  Asymmetrique Profile Index                     5022 non-null   object \n",
      " 32  Asymmetrique Activity Score                    5022 non-null   float64\n",
      " 33  Asymmetrique Profile Score                     5022 non-null   float64\n",
      " 34  I agree to pay the amount through cheque       9240 non-null   object \n",
      " 35  A free copy of Mastering The Interview         9240 non-null   object \n",
      " 36  Last Notable Activity                          9240 non-null   object \n",
      "dtypes: float64(4), int64(3), object(30)\n",
      "memory usage: 2.6+ MB\n"
     ]
    }
   ],
   "source": [
    "#Checking the summary of the dataframe\n",
    "leads_data.info()"
   ]
  },
  {
   "cell_type": "code",
   "execution_count": 4,
   "id": "cf388c5b",
   "metadata": {},
   "outputs": [
    {
     "data": {
      "text/html": [
       "<div>\n",
       "<style scoped>\n",
       "    .dataframe tbody tr th:only-of-type {\n",
       "        vertical-align: middle;\n",
       "    }\n",
       "\n",
       "    .dataframe tbody tr th {\n",
       "        vertical-align: top;\n",
       "    }\n",
       "\n",
       "    .dataframe thead th {\n",
       "        text-align: right;\n",
       "    }\n",
       "</style>\n",
       "<table border=\"1\" class=\"dataframe\">\n",
       "  <thead>\n",
       "    <tr style=\"text-align: right;\">\n",
       "      <th></th>\n",
       "      <th>Lead Number</th>\n",
       "      <th>Converted</th>\n",
       "      <th>TotalVisits</th>\n",
       "      <th>Total Time Spent on Website</th>\n",
       "      <th>Page Views Per Visit</th>\n",
       "      <th>Asymmetrique Activity Score</th>\n",
       "      <th>Asymmetrique Profile Score</th>\n",
       "    </tr>\n",
       "  </thead>\n",
       "  <tbody>\n",
       "    <tr>\n",
       "      <th>count</th>\n",
       "      <td>9240.000000</td>\n",
       "      <td>9240.000000</td>\n",
       "      <td>9103.000000</td>\n",
       "      <td>9240.000000</td>\n",
       "      <td>9103.000000</td>\n",
       "      <td>5022.000000</td>\n",
       "      <td>5022.000000</td>\n",
       "    </tr>\n",
       "    <tr>\n",
       "      <th>mean</th>\n",
       "      <td>617188.435606</td>\n",
       "      <td>0.385390</td>\n",
       "      <td>3.445238</td>\n",
       "      <td>487.698268</td>\n",
       "      <td>2.362820</td>\n",
       "      <td>14.306252</td>\n",
       "      <td>16.344883</td>\n",
       "    </tr>\n",
       "    <tr>\n",
       "      <th>std</th>\n",
       "      <td>23405.995698</td>\n",
       "      <td>0.486714</td>\n",
       "      <td>4.854853</td>\n",
       "      <td>548.021466</td>\n",
       "      <td>2.161418</td>\n",
       "      <td>1.386694</td>\n",
       "      <td>1.811395</td>\n",
       "    </tr>\n",
       "    <tr>\n",
       "      <th>min</th>\n",
       "      <td>579533.000000</td>\n",
       "      <td>0.000000</td>\n",
       "      <td>0.000000</td>\n",
       "      <td>0.000000</td>\n",
       "      <td>0.000000</td>\n",
       "      <td>7.000000</td>\n",
       "      <td>11.000000</td>\n",
       "    </tr>\n",
       "    <tr>\n",
       "      <th>25%</th>\n",
       "      <td>596484.500000</td>\n",
       "      <td>0.000000</td>\n",
       "      <td>1.000000</td>\n",
       "      <td>12.000000</td>\n",
       "      <td>1.000000</td>\n",
       "      <td>14.000000</td>\n",
       "      <td>15.000000</td>\n",
       "    </tr>\n",
       "    <tr>\n",
       "      <th>50%</th>\n",
       "      <td>615479.000000</td>\n",
       "      <td>0.000000</td>\n",
       "      <td>3.000000</td>\n",
       "      <td>248.000000</td>\n",
       "      <td>2.000000</td>\n",
       "      <td>14.000000</td>\n",
       "      <td>16.000000</td>\n",
       "    </tr>\n",
       "    <tr>\n",
       "      <th>75%</th>\n",
       "      <td>637387.250000</td>\n",
       "      <td>1.000000</td>\n",
       "      <td>5.000000</td>\n",
       "      <td>936.000000</td>\n",
       "      <td>3.000000</td>\n",
       "      <td>15.000000</td>\n",
       "      <td>18.000000</td>\n",
       "    </tr>\n",
       "    <tr>\n",
       "      <th>max</th>\n",
       "      <td>660737.000000</td>\n",
       "      <td>1.000000</td>\n",
       "      <td>251.000000</td>\n",
       "      <td>2272.000000</td>\n",
       "      <td>55.000000</td>\n",
       "      <td>18.000000</td>\n",
       "      <td>20.000000</td>\n",
       "    </tr>\n",
       "  </tbody>\n",
       "</table>\n",
       "</div>"
      ],
      "text/plain": [
       "         Lead Number    Converted  TotalVisits  Total Time Spent on Website  \\\n",
       "count    9240.000000  9240.000000  9103.000000                  9240.000000   \n",
       "mean   617188.435606     0.385390     3.445238                   487.698268   \n",
       "std     23405.995698     0.486714     4.854853                   548.021466   \n",
       "min    579533.000000     0.000000     0.000000                     0.000000   \n",
       "25%    596484.500000     0.000000     1.000000                    12.000000   \n",
       "50%    615479.000000     0.000000     3.000000                   248.000000   \n",
       "75%    637387.250000     1.000000     5.000000                   936.000000   \n",
       "max    660737.000000     1.000000   251.000000                  2272.000000   \n",
       "\n",
       "       Page Views Per Visit  Asymmetrique Activity Score  \\\n",
       "count           9103.000000                  5022.000000   \n",
       "mean               2.362820                    14.306252   \n",
       "std                2.161418                     1.386694   \n",
       "min                0.000000                     7.000000   \n",
       "25%                1.000000                    14.000000   \n",
       "50%                2.000000                    14.000000   \n",
       "75%                3.000000                    15.000000   \n",
       "max               55.000000                    18.000000   \n",
       "\n",
       "       Asymmetrique Profile Score  \n",
       "count                 5022.000000  \n",
       "mean                    16.344883  \n",
       "std                      1.811395  \n",
       "min                     11.000000  \n",
       "25%                     15.000000  \n",
       "50%                     16.000000  \n",
       "75%                     18.000000  \n",
       "max                     20.000000  "
      ]
     },
     "execution_count": 4,
     "metadata": {},
     "output_type": "execute_result"
    }
   ],
   "source": [
    "#Checking the spread of numerical values present in the data\n",
    "leads_data.describe()"
   ]
  },
  {
   "cell_type": "code",
   "execution_count": 5,
   "id": "e1aa3d48",
   "metadata": {},
   "outputs": [
    {
     "data": {
      "text/plain": [
       "(9240, 37)"
      ]
     },
     "execution_count": 5,
     "metadata": {},
     "output_type": "execute_result"
    }
   ],
   "source": [
    "#Checking the no. of rows and columns in the dataframe\n",
    "leads_data.shape"
   ]
  },
  {
   "cell_type": "markdown",
   "id": "211f8fe6",
   "metadata": {},
   "source": [
    "## Cleaning the dataframe"
   ]
  },
  {
   "cell_type": "code",
   "execution_count": 6,
   "id": "a1ccb92b",
   "metadata": {},
   "outputs": [],
   "source": [
    "# Transforming all the values present in the dataframe to lower case\n",
    "leads_data = leads_data.applymap(lambda v:v.lower() if type(v) == str else v)"
   ]
  },
  {
   "cell_type": "code",
   "execution_count": 7,
   "id": "806c4e1b",
   "metadata": {},
   "outputs": [
    {
     "data": {
      "text/plain": [
       "Prospect ID                                         0\n",
       "Lead Number                                         0\n",
       "Lead Origin                                         0\n",
       "Lead Source                                        36\n",
       "Do Not Email                                        0\n",
       "Do Not Call                                         0\n",
       "Converted                                           0\n",
       "TotalVisits                                       137\n",
       "Total Time Spent on Website                         0\n",
       "Page Views Per Visit                              137\n",
       "Last Activity                                     103\n",
       "Country                                          2461\n",
       "Specialization                                   1438\n",
       "How did you hear about X Education               2207\n",
       "What is your current occupation                  2690\n",
       "What matters most to you in choosing a course    2709\n",
       "Search                                              0\n",
       "Magazine                                            0\n",
       "Newspaper Article                                   0\n",
       "X Education Forums                                  0\n",
       "Newspaper                                           0\n",
       "Digital Advertisement                               0\n",
       "Through Recommendations                             0\n",
       "Receive More Updates About Our Courses              0\n",
       "Tags                                             3353\n",
       "Lead Quality                                     4767\n",
       "Update me on Supply Chain Content                   0\n",
       "Get updates on DM Content                           0\n",
       "Lead Profile                                     2709\n",
       "City                                             1420\n",
       "Asymmetrique Activity Index                      4218\n",
       "Asymmetrique Profile Index                       4218\n",
       "Asymmetrique Activity Score                      4218\n",
       "Asymmetrique Profile Score                       4218\n",
       "I agree to pay the amount through cheque            0\n",
       "A free copy of Mastering The Interview              0\n",
       "Last Notable Activity                               0\n",
       "dtype: int64"
      ]
     },
     "execution_count": 7,
     "metadata": {},
     "output_type": "execute_result"
    }
   ],
   "source": [
    "# Checking the column wise null count\n",
    "leads_data.isnull().sum()"
   ]
  },
  {
   "cell_type": "markdown",
   "id": "e0f95705",
   "metadata": {},
   "source": [
    "comments-\n",
    "<br>\n",
    "          - It can be seen that there are a lot of null values present in the dataframe."
   ]
  },
  {
   "cell_type": "code",
   "execution_count": 8,
   "id": "49d84234",
   "metadata": {},
   "outputs": [],
   "source": [
    "# Replacing the 'Select' value with NaN as it symbolizes that no option has been selected\n",
    "leads_data = leads_data.replace('select',np.nan)"
   ]
  },
  {
   "cell_type": "code",
   "execution_count": 9,
   "id": "5bd3e94e",
   "metadata": {},
   "outputs": [
    {
     "data": {
      "text/plain": [
       "Prospect ID                                       0.00\n",
       "Lead Number                                       0.00\n",
       "Lead Origin                                       0.00\n",
       "Lead Source                                       0.39\n",
       "Do Not Email                                      0.00\n",
       "Do Not Call                                       0.00\n",
       "Converted                                         0.00\n",
       "TotalVisits                                       1.48\n",
       "Total Time Spent on Website                       0.00\n",
       "Page Views Per Visit                              1.48\n",
       "Last Activity                                     1.11\n",
       "Country                                          26.63\n",
       "Specialization                                   36.58\n",
       "How did you hear about X Education               78.46\n",
       "What is your current occupation                  29.11\n",
       "What matters most to you in choosing a course    29.32\n",
       "Search                                            0.00\n",
       "Magazine                                          0.00\n",
       "Newspaper Article                                 0.00\n",
       "X Education Forums                                0.00\n",
       "Newspaper                                         0.00\n",
       "Digital Advertisement                             0.00\n",
       "Through Recommendations                           0.00\n",
       "Receive More Updates About Our Courses            0.00\n",
       "Tags                                             36.29\n",
       "Lead Quality                                     51.59\n",
       "Update me on Supply Chain Content                 0.00\n",
       "Get updates on DM Content                         0.00\n",
       "Lead Profile                                     74.19\n",
       "City                                             39.71\n",
       "Asymmetrique Activity Index                      45.65\n",
       "Asymmetrique Profile Index                       45.65\n",
       "Asymmetrique Activity Score                      45.65\n",
       "Asymmetrique Profile Score                       45.65\n",
       "I agree to pay the amount through cheque          0.00\n",
       "A free copy of Mastering The Interview            0.00\n",
       "Last Notable Activity                             0.00\n",
       "dtype: float64"
      ]
     },
     "execution_count": 9,
     "metadata": {},
     "output_type": "execute_result"
    }
   ],
   "source": [
    "# Checking the column wise null percentage\n",
    "round(100*(leads_data.isnull().sum()/len(leads_data.index)), 2)"
   ]
  },
  {
   "cell_type": "markdown",
   "id": "c98d8516",
   "metadata": {},
   "source": [
    "### Dropping the columns having more than 35% null values"
   ]
  },
  {
   "cell_type": "code",
   "execution_count": 10,
   "id": "0a6e25f6",
   "metadata": {},
   "outputs": [
    {
     "data": {
      "text/plain": [
       "Prospect ID                                       0.00\n",
       "Lead Number                                       0.00\n",
       "Lead Origin                                       0.00\n",
       "Lead Source                                       0.39\n",
       "Do Not Email                                      0.00\n",
       "Do Not Call                                       0.00\n",
       "Converted                                         0.00\n",
       "TotalVisits                                       1.48\n",
       "Total Time Spent on Website                       0.00\n",
       "Page Views Per Visit                              1.48\n",
       "Last Activity                                     1.11\n",
       "Country                                          26.63\n",
       "What is your current occupation                  29.11\n",
       "What matters most to you in choosing a course    29.32\n",
       "Search                                            0.00\n",
       "Magazine                                          0.00\n",
       "Newspaper Article                                 0.00\n",
       "X Education Forums                                0.00\n",
       "Newspaper                                         0.00\n",
       "Digital Advertisement                             0.00\n",
       "Through Recommendations                           0.00\n",
       "Receive More Updates About Our Courses            0.00\n",
       "Update me on Supply Chain Content                 0.00\n",
       "Get updates on DM Content                         0.00\n",
       "I agree to pay the amount through cheque          0.00\n",
       "A free copy of Mastering The Interview            0.00\n",
       "Last Notable Activity                             0.00\n",
       "dtype: float64"
      ]
     },
     "execution_count": 10,
     "metadata": {},
     "output_type": "execute_result"
    }
   ],
   "source": [
    "# Dropping the columns having null values greater than 35% and checking the null value percentage once again\n",
    "leads_data = leads_data.drop('Specialization', axis=1)\n",
    "leads_data = leads_data.drop('How did you hear about X Education', axis=1)\n",
    "leads_data = leads_data.drop('Tags', axis=1)\n",
    "leads_data = leads_data.drop('Lead Quality', axis=1)\n",
    "leads_data = leads_data.drop('Lead Profile', axis=1)\n",
    "leads_data = leads_data.drop('City', axis=1)\n",
    "leads_data = leads_data.drop('Asymmetrique Activity Index', axis=1)\n",
    "leads_data = leads_data.drop('Asymmetrique Profile Index', axis=1)\n",
    "leads_data = leads_data.drop('Asymmetrique Activity Score', axis=1)\n",
    "leads_data = leads_data.drop('Asymmetrique Profile Score', axis=1)\n",
    "round(100*(leads_data.isnull().sum()/len(leads_data.index)), 2)"
   ]
  },
  {
   "cell_type": "code",
   "execution_count": 11,
   "id": "9ba1a896",
   "metadata": {},
   "outputs": [
    {
     "data": {
      "text/plain": [
       "india                   95.77\n",
       "united states            1.02\n",
       "united arab emirates     0.78\n",
       "singapore                0.35\n",
       "saudi arabia             0.31\n",
       "united kingdom           0.22\n",
       "australia                0.19\n",
       "qatar                    0.15\n",
       "hong kong                0.10\n",
       "bahrain                  0.10\n",
       "oman                     0.09\n",
       "france                   0.09\n",
       "unknown                  0.07\n",
       "south africa             0.06\n",
       "nigeria                  0.06\n",
       "germany                  0.06\n",
       "kuwait                   0.06\n",
       "canada                   0.06\n",
       "sweden                   0.04\n",
       "china                    0.03\n",
       "asia/pacific region      0.03\n",
       "uganda                   0.03\n",
       "bangladesh               0.03\n",
       "italy                    0.03\n",
       "belgium                  0.03\n",
       "netherlands              0.03\n",
       "ghana                    0.03\n",
       "philippines              0.03\n",
       "russia                   0.01\n",
       "switzerland              0.01\n",
       "vietnam                  0.01\n",
       "denmark                  0.01\n",
       "tanzania                 0.01\n",
       "liberia                  0.01\n",
       "malaysia                 0.01\n",
       "kenya                    0.01\n",
       "sri lanka                0.01\n",
       "indonesia                0.01\n",
       "Name: Country, dtype: float64"
      ]
     },
     "execution_count": 11,
     "metadata": {},
     "output_type": "execute_result"
    }
   ],
   "source": [
    "# Checking the percentage occurrence of values in country\n",
    "round((leads_data['Country'].value_counts()/leads_data['Country'].count())*100,2)"
   ]
  },
  {
   "cell_type": "code",
   "execution_count": 12,
   "id": "65c69246",
   "metadata": {},
   "outputs": [],
   "source": [
    "# Dropping the column Country as more than 95% of values in the column is india and it doesn't capture enough variance\n",
    "leads_data = leads_data.drop('Country', axis=1)"
   ]
  },
  {
   "cell_type": "code",
   "execution_count": 13,
   "id": "bb35d650",
   "metadata": {},
   "outputs": [
    {
     "data": {
      "text/plain": [
       "better career prospects      99.95\n",
       "flexibility & convenience     0.03\n",
       "other                         0.02\n",
       "Name: What matters most to you in choosing a course, dtype: float64"
      ]
     },
     "execution_count": 13,
     "metadata": {},
     "output_type": "execute_result"
    }
   ],
   "source": [
    "#Checking the percentage occurrence of values in 'What matters most to you in choosing a course'\n",
    "round((leads_data['What matters most to you in choosing a course'].value_counts()/leads_data['What matters most to you in choosing a course'].count())*100,2)"
   ]
  },
  {
   "cell_type": "code",
   "execution_count": 14,
   "id": "1b9794f3",
   "metadata": {},
   "outputs": [
    {
     "data": {
      "text/plain": [
       "unemployed              85.50\n",
       "working professional    10.78\n",
       "student                  3.21\n",
       "other                    0.24\n",
       "housewife                0.15\n",
       "businessman              0.12\n",
       "Name: What is your current occupation, dtype: float64"
      ]
     },
     "execution_count": 14,
     "metadata": {},
     "output_type": "execute_result"
    }
   ],
   "source": [
    "#Checking the percentage occurrence of values in 'What is your current occupation'\n",
    "round((leads_data['What is your current occupation'].value_counts()/leads_data['What is your current occupation'].count())*100,2)"
   ]
  },
  {
   "cell_type": "code",
   "execution_count": 15,
   "id": "033f59e2",
   "metadata": {},
   "outputs": [],
   "source": [
    "#Removing above two columns as not much variance is being covered and also the null values are high in these columns.\n",
    "leads_data = leads_data.drop('What matters most to you in choosing a course', axis=1)\n",
    "leads_data = leads_data.drop('What is your current occupation', axis=1)"
   ]
  },
  {
   "cell_type": "code",
   "execution_count": 16,
   "id": "a50e35a5",
   "metadata": {},
   "outputs": [
    {
     "data": {
      "text/plain": [
       "Prospect ID                                 0.00\n",
       "Lead Number                                 0.00\n",
       "Lead Origin                                 0.00\n",
       "Lead Source                                 0.39\n",
       "Do Not Email                                0.00\n",
       "Do Not Call                                 0.00\n",
       "Converted                                   0.00\n",
       "TotalVisits                                 1.48\n",
       "Total Time Spent on Website                 0.00\n",
       "Page Views Per Visit                        1.48\n",
       "Last Activity                               1.11\n",
       "Search                                      0.00\n",
       "Magazine                                    0.00\n",
       "Newspaper Article                           0.00\n",
       "X Education Forums                          0.00\n",
       "Newspaper                                   0.00\n",
       "Digital Advertisement                       0.00\n",
       "Through Recommendations                     0.00\n",
       "Receive More Updates About Our Courses      0.00\n",
       "Update me on Supply Chain Content           0.00\n",
       "Get updates on DM Content                   0.00\n",
       "I agree to pay the amount through cheque    0.00\n",
       "A free copy of Mastering The Interview      0.00\n",
       "Last Notable Activity                       0.00\n",
       "dtype: float64"
      ]
     },
     "execution_count": 16,
     "metadata": {},
     "output_type": "execute_result"
    }
   ],
   "source": [
    "# Checking the null values percentage in rest of the columns\n",
    "round(100*(leads_data.isnull().sum()/len(leads_data.index)), 2)"
   ]
  },
  {
   "cell_type": "code",
   "execution_count": 17,
   "id": "d30696e8",
   "metadata": {},
   "outputs": [
    {
     "data": {
      "text/plain": [
       "Prospect ID                                 0.00\n",
       "Lead Number                                 0.00\n",
       "Lead Origin                                 0.00\n",
       "Lead Source                                 0.32\n",
       "Do Not Email                                0.00\n",
       "Do Not Call                                 0.00\n",
       "Converted                                   0.00\n",
       "TotalVisits                                 0.00\n",
       "Total Time Spent on Website                 0.00\n",
       "Page Views Per Visit                        0.00\n",
       "Last Activity                               0.00\n",
       "Search                                      0.00\n",
       "Magazine                                    0.00\n",
       "Newspaper Article                           0.00\n",
       "X Education Forums                          0.00\n",
       "Newspaper                                   0.00\n",
       "Digital Advertisement                       0.00\n",
       "Through Recommendations                     0.00\n",
       "Receive More Updates About Our Courses      0.00\n",
       "Update me on Supply Chain Content           0.00\n",
       "Get updates on DM Content                   0.00\n",
       "I agree to pay the amount through cheque    0.00\n",
       "A free copy of Mastering The Interview      0.00\n",
       "Last Notable Activity                       0.00\n",
       "dtype: float64"
      ]
     },
     "execution_count": 17,
     "metadata": {},
     "output_type": "execute_result"
    }
   ],
   "source": [
    "# Dropping the rows containing null values as the missing value percentage is quite low now\n",
    "leads_data = leads_data[~np.isnan(leads_data['TotalVisits'])]\n",
    "leads_data = leads_data[~np.isnan(leads_data['Page Views Per Visit'])]\n",
    "round(100*(leads_data.isnull().sum()/len(leads_data.index)), 2)"
   ]
  },
  {
   "cell_type": "code",
   "execution_count": 18,
   "id": "7b21dd23",
   "metadata": {},
   "outputs": [
    {
     "data": {
      "text/plain": [
       "Prospect ID                                 0.0\n",
       "Lead Number                                 0.0\n",
       "Lead Origin                                 0.0\n",
       "Lead Source                                 0.0\n",
       "Do Not Email                                0.0\n",
       "Do Not Call                                 0.0\n",
       "Converted                                   0.0\n",
       "TotalVisits                                 0.0\n",
       "Total Time Spent on Website                 0.0\n",
       "Page Views Per Visit                        0.0\n",
       "Last Activity                               0.0\n",
       "Search                                      0.0\n",
       "Magazine                                    0.0\n",
       "Newspaper Article                           0.0\n",
       "X Education Forums                          0.0\n",
       "Newspaper                                   0.0\n",
       "Digital Advertisement                       0.0\n",
       "Through Recommendations                     0.0\n",
       "Receive More Updates About Our Courses      0.0\n",
       "Update me on Supply Chain Content           0.0\n",
       "Get updates on DM Content                   0.0\n",
       "I agree to pay the amount through cheque    0.0\n",
       "A free copy of Mastering The Interview      0.0\n",
       "Last Notable Activity                       0.0\n",
       "dtype: float64"
      ]
     },
     "execution_count": 18,
     "metadata": {},
     "output_type": "execute_result"
    }
   ],
   "source": [
    "# Removing the rows containing null values in the column 'Lead Source'\n",
    "leads_data = leads_data[pd.notnull(leads_data['Lead Source'])]\n",
    "round(100*(leads_data.isnull().sum()/len(leads_data.index)), 2)"
   ]
  },
  {
   "cell_type": "code",
   "execution_count": 19,
   "id": "0e96c812",
   "metadata": {},
   "outputs": [
    {
     "data": {
      "text/plain": [
       "(9074, 24)"
      ]
     },
     "execution_count": 19,
     "metadata": {},
     "output_type": "execute_result"
    }
   ],
   "source": [
    "# Checking the no. of rows and columns in the dataframe\n",
    "leads_data.shape"
   ]
  },
  {
   "cell_type": "markdown",
   "id": "73f055e1",
   "metadata": {},
   "source": [
    "#### All the null values have been dropped and still more than 98% of values are present in the dataframe"
   ]
  },
  {
   "cell_type": "markdown",
   "id": "586cee81",
   "metadata": {},
   "source": [
    "##### The rest of the columns which doesn't offer much variance will be dropped now"
   ]
  },
  {
   "cell_type": "code",
   "execution_count": 20,
   "id": "09965c8d",
   "metadata": {},
   "outputs": [
    {
     "data": {
      "text/plain": [
       "no     92.11\n",
       "yes     7.89\n",
       "Name: Do Not Email, dtype: float64"
      ]
     },
     "execution_count": 20,
     "metadata": {},
     "output_type": "execute_result"
    }
   ],
   "source": [
    "# Checking the column 'Do Not Email' for variance\n",
    "round((leads_data['Do Not Email'].value_counts()/leads_data['Do Not Email'].count())*100,2)"
   ]
  },
  {
   "cell_type": "code",
   "execution_count": 21,
   "id": "24319788",
   "metadata": {},
   "outputs": [
    {
     "data": {
      "text/plain": [
       "no     99.98\n",
       "yes     0.02\n",
       "Name: Do Not Call, dtype: float64"
      ]
     },
     "execution_count": 21,
     "metadata": {},
     "output_type": "execute_result"
    }
   ],
   "source": [
    "# Checking the column 'Do Not Call' for variance\n",
    "round((leads_data['Do Not Call'].value_counts()/leads_data['Do Not Call'].count())*100,2)"
   ]
  },
  {
   "cell_type": "code",
   "execution_count": 22,
   "id": "a1063c15",
   "metadata": {},
   "outputs": [
    {
     "data": {
      "text/plain": [
       "no     99.85\n",
       "yes     0.15\n",
       "Name: Search, dtype: float64"
      ]
     },
     "execution_count": 22,
     "metadata": {},
     "output_type": "execute_result"
    }
   ],
   "source": [
    "# Checking the column 'Search' for variance\n",
    "round((leads_data['Search'].value_counts()/leads_data['Search'].count())*100,2)"
   ]
  },
  {
   "cell_type": "code",
   "execution_count": 23,
   "id": "b492e599",
   "metadata": {},
   "outputs": [
    {
     "data": {
      "text/plain": [
       "no    100.0\n",
       "Name: Magazine, dtype: float64"
      ]
     },
     "execution_count": 23,
     "metadata": {},
     "output_type": "execute_result"
    }
   ],
   "source": [
    "# Checking the column 'Magzine' for variance\n",
    "round((leads_data['Magazine'].value_counts()/leads_data['Magazine'].count())*100,2)"
   ]
  },
  {
   "cell_type": "code",
   "execution_count": 24,
   "id": "41ff2bf9",
   "metadata": {},
   "outputs": [
    {
     "data": {
      "text/plain": [
       "no     99.98\n",
       "yes     0.02\n",
       "Name: Newspaper Article, dtype: float64"
      ]
     },
     "execution_count": 24,
     "metadata": {},
     "output_type": "execute_result"
    }
   ],
   "source": [
    "# Checking the column 'Newspaper Article' for variance\n",
    "round((leads_data['Newspaper Article'].value_counts()/leads_data['Newspaper Article'].count())*100,2)"
   ]
  },
  {
   "cell_type": "code",
   "execution_count": 25,
   "id": "76b9cfb5",
   "metadata": {},
   "outputs": [
    {
     "data": {
      "text/plain": [
       "no     99.99\n",
       "yes     0.01\n",
       "Name: X Education Forums, dtype: float64"
      ]
     },
     "execution_count": 25,
     "metadata": {},
     "output_type": "execute_result"
    }
   ],
   "source": [
    "# Checking the column 'X Education Forums' for variance\n",
    "round((leads_data['X Education Forums'].value_counts()/leads_data['X Education Forums'].count())*100,2)"
   ]
  },
  {
   "cell_type": "code",
   "execution_count": 26,
   "id": "aa8680e4",
   "metadata": {},
   "outputs": [
    {
     "data": {
      "text/plain": [
       "no     99.99\n",
       "yes     0.01\n",
       "Name: Newspaper, dtype: float64"
      ]
     },
     "execution_count": 26,
     "metadata": {},
     "output_type": "execute_result"
    }
   ],
   "source": [
    "# Checking the column 'Newspaper' for variance\n",
    "round((leads_data['Newspaper'].value_counts()/leads_data['Newspaper'].count())*100,2)"
   ]
  },
  {
   "cell_type": "code",
   "execution_count": 27,
   "id": "3680d8e9",
   "metadata": {},
   "outputs": [
    {
     "data": {
      "text/plain": [
       "no     99.96\n",
       "yes     0.04\n",
       "Name: Digital Advertisement, dtype: float64"
      ]
     },
     "execution_count": 27,
     "metadata": {},
     "output_type": "execute_result"
    }
   ],
   "source": [
    "# Checking the column 'Digital Advertisement' for variance\n",
    "round((leads_data['Digital Advertisement'].value_counts()/leads_data['Digital Advertisement'].count())*100,2)"
   ]
  },
  {
   "cell_type": "code",
   "execution_count": 28,
   "id": "7ce4101c",
   "metadata": {},
   "outputs": [
    {
     "data": {
      "text/plain": [
       "no     99.92\n",
       "yes     0.08\n",
       "Name: Through Recommendations, dtype: float64"
      ]
     },
     "execution_count": 28,
     "metadata": {},
     "output_type": "execute_result"
    }
   ],
   "source": [
    "# Checking the column 'Through Recommendations' for variance\n",
    "round((leads_data['Through Recommendations'].value_counts()/leads_data['Through Recommendations'].count())*100,2)"
   ]
  },
  {
   "cell_type": "code",
   "execution_count": 29,
   "id": "5e1e1c52",
   "metadata": {},
   "outputs": [
    {
     "data": {
      "text/plain": [
       "no    100.0\n",
       "Name: Receive More Updates About Our Courses, dtype: float64"
      ]
     },
     "execution_count": 29,
     "metadata": {},
     "output_type": "execute_result"
    }
   ],
   "source": [
    "# Checking the column 'Receive More Updates About Our Courses' for variance\n",
    "round((leads_data['Receive More Updates About Our Courses'].value_counts()/leads_data['Receive More Updates About Our Courses'].count())*100,2)"
   ]
  },
  {
   "cell_type": "code",
   "execution_count": 30,
   "id": "3da0bc8b",
   "metadata": {},
   "outputs": [
    {
     "data": {
      "text/plain": [
       "no    100.0\n",
       "Name: Update me on Supply Chain Content, dtype: float64"
      ]
     },
     "execution_count": 30,
     "metadata": {},
     "output_type": "execute_result"
    }
   ],
   "source": [
    "#Checking the column 'Update me on Supply Chain Content' for variance\n",
    "round((leads_data['Update me on Supply Chain Content'].value_counts()/leads_data['Update me on Supply Chain Content'].count())*100,2)"
   ]
  },
  {
   "cell_type": "code",
   "execution_count": 31,
   "id": "0263e59c",
   "metadata": {},
   "outputs": [
    {
     "data": {
      "text/plain": [
       "no    100.0\n",
       "Name: I agree to pay the amount through cheque, dtype: float64"
      ]
     },
     "execution_count": 31,
     "metadata": {},
     "output_type": "execute_result"
    }
   ],
   "source": [
    "#Checking the column 'I agree to pay the amount through cheque' for variance\n",
    "round((leads_data['I agree to pay the amount through cheque'].value_counts()/leads_data['I agree to pay the amount through cheque'].count())*100,2)"
   ]
  },
  {
   "cell_type": "code",
   "execution_count": 32,
   "id": "afa4d157",
   "metadata": {},
   "outputs": [
    {
     "data": {
      "text/plain": [
       "no    100.0\n",
       "Name: Get updates on DM Content, dtype: float64"
      ]
     },
     "execution_count": 32,
     "metadata": {},
     "output_type": "execute_result"
    }
   ],
   "source": [
    "#Checking the column 'Get updates on DM Content' for variance\n",
    "round((leads_data['Get updates on DM Content'].value_counts()/leads_data['Get updates on DM Content'].count())*100,2)"
   ]
  },
  {
   "cell_type": "code",
   "execution_count": 33,
   "id": "5972a058",
   "metadata": {},
   "outputs": [
    {
     "data": {
      "text/plain": [
       "no     68.17\n",
       "yes    31.83\n",
       "Name: A free copy of Mastering The Interview, dtype: float64"
      ]
     },
     "execution_count": 33,
     "metadata": {},
     "output_type": "execute_result"
    }
   ],
   "source": [
    "#Checking the column 'A free copy of Mastering The Interview' for variance\n",
    "round((leads_data['A free copy of Mastering The Interview'].value_counts()/leads_data['A free copy of Mastering The Interview'].count())*100,2)"
   ]
  },
  {
   "cell_type": "markdown",
   "id": "b43a1f1e",
   "metadata": {},
   "source": [
    "##### Dropping all the columns which doesn't offer much variance"
   ]
  },
  {
   "cell_type": "code",
   "execution_count": 34,
   "id": "c66552f2",
   "metadata": {},
   "outputs": [],
   "source": [
    "leads_data = leads_data.drop('Do Not Call', axis=1)\n",
    "leads_data = leads_data.drop('Search', axis=1)\n",
    "leads_data = leads_data.drop('Magazine', axis=1)\n",
    "leads_data = leads_data.drop('Newspaper Article', axis=1)\n",
    "leads_data = leads_data.drop('X Education Forums', axis=1)\n",
    "leads_data = leads_data.drop('Newspaper', axis=1)\n",
    "leads_data = leads_data.drop('Digital Advertisement', axis=1)\n",
    "leads_data = leads_data.drop('Through Recommendations', axis=1)\n",
    "leads_data = leads_data.drop('Receive More Updates About Our Courses', axis=1)\n",
    "leads_data = leads_data.drop('Update me on Supply Chain Content', axis=1)\n",
    "leads_data = leads_data.drop('Get updates on DM Content', axis=1)\n",
    "leads_data = leads_data.drop('I agree to pay the amount through cheque', axis=1)"
   ]
  },
  {
   "cell_type": "code",
   "execution_count": 35,
   "id": "7cd11dc0",
   "metadata": {},
   "outputs": [
    {
     "data": {
      "text/plain": [
       "(9074, 12)"
      ]
     },
     "execution_count": 35,
     "metadata": {},
     "output_type": "execute_result"
    }
   ],
   "source": [
    "# Checking out the data frame now\n",
    "leads_data.shape"
   ]
  },
  {
   "cell_type": "code",
   "execution_count": 36,
   "id": "79ff33c8",
   "metadata": {},
   "outputs": [
    {
     "data": {
      "text/html": [
       "<div>\n",
       "<style scoped>\n",
       "    .dataframe tbody tr th:only-of-type {\n",
       "        vertical-align: middle;\n",
       "    }\n",
       "\n",
       "    .dataframe tbody tr th {\n",
       "        vertical-align: top;\n",
       "    }\n",
       "\n",
       "    .dataframe thead th {\n",
       "        text-align: right;\n",
       "    }\n",
       "</style>\n",
       "<table border=\"1\" class=\"dataframe\">\n",
       "  <thead>\n",
       "    <tr style=\"text-align: right;\">\n",
       "      <th></th>\n",
       "      <th>Prospect ID</th>\n",
       "      <th>Lead Number</th>\n",
       "      <th>Lead Origin</th>\n",
       "      <th>Lead Source</th>\n",
       "      <th>Do Not Email</th>\n",
       "      <th>Converted</th>\n",
       "      <th>TotalVisits</th>\n",
       "      <th>Total Time Spent on Website</th>\n",
       "      <th>Page Views Per Visit</th>\n",
       "      <th>Last Activity</th>\n",
       "      <th>A free copy of Mastering The Interview</th>\n",
       "      <th>Last Notable Activity</th>\n",
       "    </tr>\n",
       "  </thead>\n",
       "  <tbody>\n",
       "    <tr>\n",
       "      <th>0</th>\n",
       "      <td>7927b2df-8bba-4d29-b9a2-b6e0beafe620</td>\n",
       "      <td>660737</td>\n",
       "      <td>api</td>\n",
       "      <td>olark chat</td>\n",
       "      <td>no</td>\n",
       "      <td>0</td>\n",
       "      <td>0.0</td>\n",
       "      <td>0</td>\n",
       "      <td>0.0</td>\n",
       "      <td>page visited on website</td>\n",
       "      <td>no</td>\n",
       "      <td>modified</td>\n",
       "    </tr>\n",
       "    <tr>\n",
       "      <th>1</th>\n",
       "      <td>2a272436-5132-4136-86fa-dcc88c88f482</td>\n",
       "      <td>660728</td>\n",
       "      <td>api</td>\n",
       "      <td>organic search</td>\n",
       "      <td>no</td>\n",
       "      <td>0</td>\n",
       "      <td>5.0</td>\n",
       "      <td>674</td>\n",
       "      <td>2.5</td>\n",
       "      <td>email opened</td>\n",
       "      <td>no</td>\n",
       "      <td>email opened</td>\n",
       "    </tr>\n",
       "    <tr>\n",
       "      <th>2</th>\n",
       "      <td>8cc8c611-a219-4f35-ad23-fdfd2656bd8a</td>\n",
       "      <td>660727</td>\n",
       "      <td>landing page submission</td>\n",
       "      <td>direct traffic</td>\n",
       "      <td>no</td>\n",
       "      <td>1</td>\n",
       "      <td>2.0</td>\n",
       "      <td>1532</td>\n",
       "      <td>2.0</td>\n",
       "      <td>email opened</td>\n",
       "      <td>yes</td>\n",
       "      <td>email opened</td>\n",
       "    </tr>\n",
       "    <tr>\n",
       "      <th>3</th>\n",
       "      <td>0cc2df48-7cf4-4e39-9de9-19797f9b38cc</td>\n",
       "      <td>660719</td>\n",
       "      <td>landing page submission</td>\n",
       "      <td>direct traffic</td>\n",
       "      <td>no</td>\n",
       "      <td>0</td>\n",
       "      <td>1.0</td>\n",
       "      <td>305</td>\n",
       "      <td>1.0</td>\n",
       "      <td>unreachable</td>\n",
       "      <td>no</td>\n",
       "      <td>modified</td>\n",
       "    </tr>\n",
       "    <tr>\n",
       "      <th>4</th>\n",
       "      <td>3256f628-e534-4826-9d63-4a8b88782852</td>\n",
       "      <td>660681</td>\n",
       "      <td>landing page submission</td>\n",
       "      <td>google</td>\n",
       "      <td>no</td>\n",
       "      <td>1</td>\n",
       "      <td>2.0</td>\n",
       "      <td>1428</td>\n",
       "      <td>1.0</td>\n",
       "      <td>converted to lead</td>\n",
       "      <td>no</td>\n",
       "      <td>modified</td>\n",
       "    </tr>\n",
       "  </tbody>\n",
       "</table>\n",
       "</div>"
      ],
      "text/plain": [
       "                            Prospect ID  Lead Number              Lead Origin  \\\n",
       "0  7927b2df-8bba-4d29-b9a2-b6e0beafe620       660737                      api   \n",
       "1  2a272436-5132-4136-86fa-dcc88c88f482       660728                      api   \n",
       "2  8cc8c611-a219-4f35-ad23-fdfd2656bd8a       660727  landing page submission   \n",
       "3  0cc2df48-7cf4-4e39-9de9-19797f9b38cc       660719  landing page submission   \n",
       "4  3256f628-e534-4826-9d63-4a8b88782852       660681  landing page submission   \n",
       "\n",
       "      Lead Source Do Not Email  Converted  TotalVisits  \\\n",
       "0      olark chat           no          0          0.0   \n",
       "1  organic search           no          0          5.0   \n",
       "2  direct traffic           no          1          2.0   \n",
       "3  direct traffic           no          0          1.0   \n",
       "4          google           no          1          2.0   \n",
       "\n",
       "   Total Time Spent on Website  Page Views Per Visit            Last Activity  \\\n",
       "0                            0                   0.0  page visited on website   \n",
       "1                          674                   2.5             email opened   \n",
       "2                         1532                   2.0             email opened   \n",
       "3                          305                   1.0              unreachable   \n",
       "4                         1428                   1.0        converted to lead   \n",
       "\n",
       "  A free copy of Mastering The Interview Last Notable Activity  \n",
       "0                                     no              modified  \n",
       "1                                     no          email opened  \n",
       "2                                    yes          email opened  \n",
       "3                                     no              modified  \n",
       "4                                     no              modified  "
      ]
     },
     "execution_count": 36,
     "metadata": {},
     "output_type": "execute_result"
    }
   ],
   "source": [
    "leads_data.head()"
   ]
  },
  {
   "cell_type": "code",
   "execution_count": 37,
   "id": "9ba8de02",
   "metadata": {},
   "outputs": [
    {
     "data": {
      "text/html": [
       "<div>\n",
       "<style scoped>\n",
       "    .dataframe tbody tr th:only-of-type {\n",
       "        vertical-align: middle;\n",
       "    }\n",
       "\n",
       "    .dataframe tbody tr th {\n",
       "        vertical-align: top;\n",
       "    }\n",
       "\n",
       "    .dataframe thead th {\n",
       "        text-align: right;\n",
       "    }\n",
       "</style>\n",
       "<table border=\"1\" class=\"dataframe\">\n",
       "  <thead>\n",
       "    <tr style=\"text-align: right;\">\n",
       "      <th></th>\n",
       "      <th>Prospect ID</th>\n",
       "      <th>Lead Number</th>\n",
       "      <th>Lead Origin</th>\n",
       "      <th>Lead Source</th>\n",
       "      <th>Do Not Email</th>\n",
       "      <th>Converted</th>\n",
       "      <th>TotalVisits</th>\n",
       "      <th>Total Time Spent on Website</th>\n",
       "      <th>Page Views Per Visit</th>\n",
       "      <th>Last Activity</th>\n",
       "      <th>A free copy of Mastering The Interview</th>\n",
       "      <th>Last Notable Activity</th>\n",
       "    </tr>\n",
       "  </thead>\n",
       "  <tbody>\n",
       "    <tr>\n",
       "      <th>0</th>\n",
       "      <td>7927b2df-8bba-4d29-b9a2-b6e0beafe620</td>\n",
       "      <td>660737</td>\n",
       "      <td>api</td>\n",
       "      <td>olark chat</td>\n",
       "      <td>0</td>\n",
       "      <td>0</td>\n",
       "      <td>0.0</td>\n",
       "      <td>0</td>\n",
       "      <td>0.0</td>\n",
       "      <td>page visited on website</td>\n",
       "      <td>0</td>\n",
       "      <td>modified</td>\n",
       "    </tr>\n",
       "    <tr>\n",
       "      <th>1</th>\n",
       "      <td>2a272436-5132-4136-86fa-dcc88c88f482</td>\n",
       "      <td>660728</td>\n",
       "      <td>api</td>\n",
       "      <td>organic search</td>\n",
       "      <td>0</td>\n",
       "      <td>0</td>\n",
       "      <td>5.0</td>\n",
       "      <td>674</td>\n",
       "      <td>2.5</td>\n",
       "      <td>email opened</td>\n",
       "      <td>0</td>\n",
       "      <td>email opened</td>\n",
       "    </tr>\n",
       "    <tr>\n",
       "      <th>2</th>\n",
       "      <td>8cc8c611-a219-4f35-ad23-fdfd2656bd8a</td>\n",
       "      <td>660727</td>\n",
       "      <td>landing page submission</td>\n",
       "      <td>direct traffic</td>\n",
       "      <td>0</td>\n",
       "      <td>1</td>\n",
       "      <td>2.0</td>\n",
       "      <td>1532</td>\n",
       "      <td>2.0</td>\n",
       "      <td>email opened</td>\n",
       "      <td>1</td>\n",
       "      <td>email opened</td>\n",
       "    </tr>\n",
       "    <tr>\n",
       "      <th>3</th>\n",
       "      <td>0cc2df48-7cf4-4e39-9de9-19797f9b38cc</td>\n",
       "      <td>660719</td>\n",
       "      <td>landing page submission</td>\n",
       "      <td>direct traffic</td>\n",
       "      <td>0</td>\n",
       "      <td>0</td>\n",
       "      <td>1.0</td>\n",
       "      <td>305</td>\n",
       "      <td>1.0</td>\n",
       "      <td>unreachable</td>\n",
       "      <td>0</td>\n",
       "      <td>modified</td>\n",
       "    </tr>\n",
       "    <tr>\n",
       "      <th>4</th>\n",
       "      <td>3256f628-e534-4826-9d63-4a8b88782852</td>\n",
       "      <td>660681</td>\n",
       "      <td>landing page submission</td>\n",
       "      <td>google</td>\n",
       "      <td>0</td>\n",
       "      <td>1</td>\n",
       "      <td>2.0</td>\n",
       "      <td>1428</td>\n",
       "      <td>1.0</td>\n",
       "      <td>converted to lead</td>\n",
       "      <td>0</td>\n",
       "      <td>modified</td>\n",
       "    </tr>\n",
       "  </tbody>\n",
       "</table>\n",
       "</div>"
      ],
      "text/plain": [
       "                            Prospect ID  Lead Number              Lead Origin  \\\n",
       "0  7927b2df-8bba-4d29-b9a2-b6e0beafe620       660737                      api   \n",
       "1  2a272436-5132-4136-86fa-dcc88c88f482       660728                      api   \n",
       "2  8cc8c611-a219-4f35-ad23-fdfd2656bd8a       660727  landing page submission   \n",
       "3  0cc2df48-7cf4-4e39-9de9-19797f9b38cc       660719  landing page submission   \n",
       "4  3256f628-e534-4826-9d63-4a8b88782852       660681  landing page submission   \n",
       "\n",
       "      Lead Source  Do Not Email  Converted  TotalVisits  \\\n",
       "0      olark chat             0          0          0.0   \n",
       "1  organic search             0          0          5.0   \n",
       "2  direct traffic             0          1          2.0   \n",
       "3  direct traffic             0          0          1.0   \n",
       "4          google             0          1          2.0   \n",
       "\n",
       "   Total Time Spent on Website  Page Views Per Visit            Last Activity  \\\n",
       "0                            0                   0.0  page visited on website   \n",
       "1                          674                   2.5             email opened   \n",
       "2                         1532                   2.0             email opened   \n",
       "3                          305                   1.0              unreachable   \n",
       "4                         1428                   1.0        converted to lead   \n",
       "\n",
       "   A free copy of Mastering The Interview Last Notable Activity  \n",
       "0                                       0              modified  \n",
       "1                                       0          email opened  \n",
       "2                                       1          email opened  \n",
       "3                                       0              modified  \n",
       "4                                       0              modified  "
      ]
     },
     "execution_count": 37,
     "metadata": {},
     "output_type": "execute_result"
    }
   ],
   "source": [
    "# Transforming yes to 1 and no to 0\n",
    "leads_data['Do Not Email'] = leads_data['Do Not Email'].map({'yes': 1, 'no': 0})\n",
    "leads_data['A free copy of Mastering The Interview'] = leads_data['A free copy of Mastering The Interview'].map({'yes': 1, 'no': 0})\n",
    "leads_data.head()"
   ]
  },
  {
   "cell_type": "markdown",
   "id": "9305fb26",
   "metadata": {},
   "source": [
    "#### Checking for duplicates"
   ]
  },
  {
   "cell_type": "code",
   "execution_count": 38,
   "id": "6c029c0a",
   "metadata": {},
   "outputs": [],
   "source": [
    "# Prospect ID will be dropped as both prospect id and lead number are unique and lead number will be considered as key here for evaluation\n",
    "leads_data = leads_data.drop('Prospect ID', axis=1)"
   ]
  },
  {
   "cell_type": "code",
   "execution_count": 40,
   "id": "27f9c468",
   "metadata": {},
   "outputs": [
    {
     "name": "stdout",
     "output_type": "stream",
     "text": [
      "False\n"
     ]
    }
   ],
   "source": [
    "print(any(leads_data['Lead Number'].duplicated())) "
   ]
  },
  {
   "cell_type": "markdown",
   "id": "d43dc819",
   "metadata": {},
   "source": [
    "# EDA"
   ]
  },
  {
   "cell_type": "code",
   "execution_count": 41,
   "id": "ee5d9f4c",
   "metadata": {},
   "outputs": [
    {
     "name": "stdout",
     "output_type": "stream",
     "text": [
      "<class 'pandas.core.frame.DataFrame'>\n",
      "Int64Index: 9074 entries, 0 to 9239\n",
      "Data columns (total 11 columns):\n",
      " #   Column                                  Non-Null Count  Dtype  \n",
      "---  ------                                  --------------  -----  \n",
      " 0   Lead Number                             9074 non-null   int64  \n",
      " 1   Lead Origin                             9074 non-null   object \n",
      " 2   Lead Source                             9074 non-null   object \n",
      " 3   Do Not Email                            9074 non-null   int64  \n",
      " 4   Converted                               9074 non-null   int64  \n",
      " 5   TotalVisits                             9074 non-null   float64\n",
      " 6   Total Time Spent on Website             9074 non-null   int64  \n",
      " 7   Page Views Per Visit                    9074 non-null   float64\n",
      " 8   Last Activity                           9074 non-null   object \n",
      " 9   A free copy of Mastering The Interview  9074 non-null   int64  \n",
      " 10  Last Notable Activity                   9074 non-null   object \n",
      "dtypes: float64(2), int64(5), object(4)\n",
      "memory usage: 850.7+ KB\n"
     ]
    }
   ],
   "source": [
    "# Checking out the dataframe after data cleaning\n",
    "leads_data.info()"
   ]
  },
  {
   "cell_type": "markdown",
   "id": "e0c31307",
   "metadata": {},
   "source": [
    "## Checking out the categorical variables"
   ]
  },
  {
   "cell_type": "code",
   "execution_count": 46,
   "id": "0f9ef3b9",
   "metadata": {},
   "outputs": [
    {
     "data": {
      "image/png": "[encoded data removed]",
      "text/plain": [
       "<Figure size 1440x2880 with 4 Axes>"
      ]
     },
     "metadata": {
      "needs_background": "light"
     },
     "output_type": "display_data"
    }
   ],
   "source": [
    "plt.figure(figsize = (20,40))\n",
    "\n",
    "plt.subplot(6,2,1)\n",
    "sns.countplot(leads_data['Lead Origin'])\n",
    "plt.title('Lead Origin')\n",
    "\n",
    "plt.subplot(6,2,2)\n",
    "sns.countplot(leads_data['Do Not Email'])\n",
    "plt.title('Do Not Email')\n",
    "\n",
    "plt.subplot(6,2,3)\n",
    "sns.countplot(leads_data['A free copy of Mastering The Interview'])\n",
    "plt.title('A free copy of Mastering The Interview')\n",
    "\n",
    "plt.subplot(6,2,4)\n",
    "sns.countplot(leads_data['Last Notable Activity']).tick_params(axis='x', rotation = 90)\n",
    "plt.title('Last Notable Activity')\n",
    "\n",
    "\n",
    "plt.show()\n"
   ]
  },
  {
   "cell_type": "markdown",
   "id": "07ca272b",
   "metadata": {},
   "source": [
    "Comments-<br>\n",
    "       \n",
    "         - The distribution of data among each column can be easily seen over here."
   ]
  },
  {
   "cell_type": "code",
   "execution_count": 47,
   "id": "569b3c76",
   "metadata": {},
   "outputs": [
    {
     "data": {
      "image/png": "[encoded data removed]",
      "text/plain": [
       "<Figure size 432x288 with 1 Axes>"
      ]
     },
     "metadata": {
      "needs_background": "light"
     },
     "output_type": "display_data"
    }
   ],
   "source": [
    "sns.countplot(leads_data['Lead Source']).tick_params(axis='x', rotation = 90)\n",
    "plt.title('Lead Source')\n",
    "plt.show()"
   ]
  },
  {
   "cell_type": "code",
   "execution_count": 48,
   "id": "4eb9a089",
   "metadata": {},
   "outputs": [
    {
     "data": {
      "image/png": "[encoded data removed]",
      "text/plain": [
       "<Figure size 1440x2160 with 1 Axes>"
      ]
     },
     "metadata": {
      "needs_background": "light"
     },
     "output_type": "display_data"
    }
   ],
   "source": [
    "plt.figure(figsize = (20,30))\n",
    "plt.subplot(2,2,1)\n",
    "sns.countplot(leads_data['Last Activity']).tick_params(axis='x', rotation = 90)\n",
    "plt.title('Last Activity')\n",
    "plt.show()"
   ]
  },
  {
   "cell_type": "code",
   "execution_count": 50,
   "id": "216ca96f",
   "metadata": {},
   "outputs": [
    {
     "data": {
      "image/png": "[encoded data removed]",
      "text/plain": [
       "<Figure size 432x288 with 1 Axes>"
      ]
     },
     "metadata": {
      "needs_background": "light"
     },
     "output_type": "display_data"
    }
   ],
   "source": [
    "sns.countplot(leads_data['Converted'])\n",
    "plt.title('Converted(\"Y variable\")')\n",
    "plt.show()"
   ]
  },
  {
   "cell_type": "markdown",
   "id": "b4a125a4",
   "metadata": {},
   "source": [
    "## Checking out the numerical variables"
   ]
  },
  {
   "cell_type": "code",
   "execution_count": 51,
   "id": "4c21ba16",
   "metadata": {},
   "outputs": [
    {
     "name": "stdout",
     "output_type": "stream",
     "text": [
      "<class 'pandas.core.frame.DataFrame'>\n",
      "Int64Index: 9074 entries, 0 to 9239\n",
      "Data columns (total 11 columns):\n",
      " #   Column                                  Non-Null Count  Dtype  \n",
      "---  ------                                  --------------  -----  \n",
      " 0   Lead Number                             9074 non-null   int64  \n",
      " 1   Lead Origin                             9074 non-null   object \n",
      " 2   Lead Source                             9074 non-null   object \n",
      " 3   Do Not Email                            9074 non-null   int64  \n",
      " 4   Converted                               9074 non-null   int64  \n",
      " 5   TotalVisits                             9074 non-null   float64\n",
      " 6   Total Time Spent on Website             9074 non-null   int64  \n",
      " 7   Page Views Per Visit                    9074 non-null   float64\n",
      " 8   Last Activity                           9074 non-null   object \n",
      " 9   A free copy of Mastering The Interview  9074 non-null   int64  \n",
      " 10  Last Notable Activity                   9074 non-null   object \n",
      "dtypes: float64(2), int64(5), object(4)\n",
      "memory usage: 1.1+ MB\n"
     ]
    }
   ],
   "source": [
    "leads_data.info()"
   ]
  },
  {
   "cell_type": "code",
   "execution_count": 53,
   "id": "28b89626",
   "metadata": {},
   "outputs": [
    {
     "data": {
      "image/png": "[encoded data removed]",
      "text/plain": [
       "<Figure size 720x720 with 3 Axes>"
      ]
     },
     "metadata": {
      "needs_background": "light"
     },
     "output_type": "display_data"
    }
   ],
   "source": [
    "plt.figure(figsize = (10,10))\n",
    "plt.subplot(2,2,1)\n",
    "plt.hist(leads_data['TotalVisits'], bins = 200)\n",
    "plt.title('Total Visits')\n",
    "plt.xlim(0,25)\n",
    "\n",
    "plt.subplot(2,2,2)\n",
    "plt.hist(leads_data['Total Time Spent on Website'], bins = 10)\n",
    "plt.title('Total Time Spent on Website')\n",
    "\n",
    "plt.subplot(2,2,3)\n",
    "plt.hist(leads_data['Page Views Per Visit'], bins = 20)\n",
    "plt.title('Page Views Per Visit')\n",
    "plt.xlim(0,20)\n",
    "plt.show()"
   ]
  },
  {
   "cell_type": "markdown",
   "id": "1020bd2a",
   "metadata": {},
   "source": [
    "Comments-<br>\n",
    "         \n",
    "         - The distribution of data points in these columns can be easily seen over here."
   ]
  },
  {
   "cell_type": "markdown",
   "id": "14178440",
   "metadata": {},
   "source": [
    "## Relating the categorical variables to the target variable"
   ]
  },
  {
   "cell_type": "code",
   "execution_count": 54,
   "id": "9e465bc2",
   "metadata": {},
   "outputs": [
    {
     "data": {
      "image/png": "[encoded data removed]",
      "text/plain": [
       "<Figure size 1080x720 with 2 Axes>"
      ]
     },
     "metadata": {
      "needs_background": "light"
     },
     "output_type": "display_data"
    }
   ],
   "source": [
    "plt.figure(figsize = (15,10))\n",
    "\n",
    "plt.subplot(1,2,1)\n",
    "sns.countplot(x='Lead Origin', hue='Converted', data= leads_data).tick_params(axis='x', rotation = 90)\n",
    "plt.title('Lead Origin')\n",
    "\n",
    "plt.subplot(1,2,2)\n",
    "sns.countplot(x='Lead Source', hue='Converted', data= leads_data).tick_params(axis='x', rotation = 90)\n",
    "plt.title('Lead Source')\n",
    "plt.show()"
   ]
  },
  {
   "cell_type": "code",
   "execution_count": 58,
   "id": "782731a7",
   "metadata": {},
   "outputs": [
    {
     "data": {
      "image/png": "[encoded data removed]",
      "text/plain": [
       "<Figure size 1080x720 with 2 Axes>"
      ]
     },
     "metadata": {
      "needs_background": "light"
     },
     "output_type": "display_data"
    }
   ],
   "source": [
    "plt.figure(figsize = (15,10))\n",
    "\n",
    "plt.subplot(1,2,1)\n",
    "sns.countplot(x='Do Not Email', hue='Converted', data= leads_data).tick_params(axis='x', rotation = 90)\n",
    "plt.title('Do Not Email')\n",
    "\n",
    "plt.subplot(1,2,2)\n",
    "sns.countplot(x='Last Activity', hue='Converted', data= leads_data).tick_params(axis='x', rotation = 90)\n",
    "plt.title('Last Activity')\n",
    "\n",
    "plt.show()\n",
    "\n"
   ]
  },
  {
   "cell_type": "code",
   "execution_count": 60,
   "id": "6fbd5d4e",
   "metadata": {},
   "outputs": [
    {
     "data": {
      "image/png": "[encoded data removed]",
      "text/plain": [
       "<Figure size 1080x720 with 2 Axes>"
      ]
     },
     "metadata": {
      "needs_background": "light"
     },
     "output_type": "display_data"
    }
   ],
   "source": [
    "plt.figure(figsize = (15,10))\n",
    "\n",
    "plt.subplot(1,2,1)\n",
    "sns.countplot(x='A free copy of Mastering The Interview', hue='Converted', data= leads_data).tick_params(axis='x', rotation = 90)\n",
    "plt.title('A free copy of Mastering The Interview')\n",
    "plt.subplot(1,2,2)\n",
    "sns.countplot(x='Last Notable Activity', hue='Converted', data= leads_data).tick_params(axis='x', rotation = 90)\n",
    "plt.title('Last Notable Activity')\n",
    "\n",
    "plt.show()\n"
   ]
  },
  {
   "cell_type": "markdown",
   "id": "2c97e0c9",
   "metadata": {},
   "source": [
    "## Checking for correlation among numerical variables"
   ]
  },
  {
   "cell_type": "code",
   "execution_count": 61,
   "id": "b04aee95",
   "metadata": {},
   "outputs": [
    {
     "data": {
      "image/png": "[encoded data removed]",
      "text/plain": [
       "<Figure size 1080x720 with 2 Axes>"
      ]
     },
     "metadata": {
      "needs_background": "light"
     },
     "output_type": "display_data"
    }
   ],
   "source": [
    "plt.figure(figsize=(15,10))\n",
    "sns.heatmap(leads_data.corr())\n",
    "plt.show()"
   ]
  },
  {
   "cell_type": "markdown",
   "id": "109aeb44",
   "metadata": {},
   "source": [
    "Comments-<br>\n",
    "         \n",
    "         - It can be seen that there isn't too much correlation among the data."
   ]
  },
  {
   "cell_type": "markdown",
   "id": "c1c51f09",
   "metadata": {},
   "source": [
    "## Checking for outliers in the continuous variables"
   ]
  },
  {
   "cell_type": "code",
   "execution_count": 62,
   "id": "cb6c3a8f",
   "metadata": {},
   "outputs": [],
   "source": [
    "numerical = leads_data[['TotalVisits','Total Time Spent on Website','Page Views Per Visit']]"
   ]
  },
  {
   "cell_type": "code",
   "execution_count": 63,
   "id": "c443e21c",
   "metadata": {},
   "outputs": [
    {
     "data": {
      "text/html": [
       "<div>\n",
       "<style scoped>\n",
       "    .dataframe tbody tr th:only-of-type {\n",
       "        vertical-align: middle;\n",
       "    }\n",
       "\n",
       "    .dataframe tbody tr th {\n",
       "        vertical-align: top;\n",
       "    }\n",
       "\n",
       "    .dataframe thead th {\n",
       "        text-align: right;\n",
       "    }\n",
       "</style>\n",
       "<table border=\"1\" class=\"dataframe\">\n",
       "  <thead>\n",
       "    <tr style=\"text-align: right;\">\n",
       "      <th></th>\n",
       "      <th>TotalVisits</th>\n",
       "      <th>Total Time Spent on Website</th>\n",
       "      <th>Page Views Per Visit</th>\n",
       "    </tr>\n",
       "  </thead>\n",
       "  <tbody>\n",
       "    <tr>\n",
       "      <th>count</th>\n",
       "      <td>9074.000000</td>\n",
       "      <td>9074.000000</td>\n",
       "      <td>9074.000000</td>\n",
       "    </tr>\n",
       "    <tr>\n",
       "      <th>mean</th>\n",
       "      <td>3.456028</td>\n",
       "      <td>482.887481</td>\n",
       "      <td>2.370151</td>\n",
       "    </tr>\n",
       "    <tr>\n",
       "      <th>std</th>\n",
       "      <td>4.858802</td>\n",
       "      <td>545.256560</td>\n",
       "      <td>2.160871</td>\n",
       "    </tr>\n",
       "    <tr>\n",
       "      <th>min</th>\n",
       "      <td>0.000000</td>\n",
       "      <td>0.000000</td>\n",
       "      <td>0.000000</td>\n",
       "    </tr>\n",
       "    <tr>\n",
       "      <th>25%</th>\n",
       "      <td>1.000000</td>\n",
       "      <td>11.000000</td>\n",
       "      <td>1.000000</td>\n",
       "    </tr>\n",
       "    <tr>\n",
       "      <th>50%</th>\n",
       "      <td>3.000000</td>\n",
       "      <td>246.000000</td>\n",
       "      <td>2.000000</td>\n",
       "    </tr>\n",
       "    <tr>\n",
       "      <th>75%</th>\n",
       "      <td>5.000000</td>\n",
       "      <td>922.750000</td>\n",
       "      <td>3.200000</td>\n",
       "    </tr>\n",
       "    <tr>\n",
       "      <th>90%</th>\n",
       "      <td>7.000000</td>\n",
       "      <td>1373.000000</td>\n",
       "      <td>5.000000</td>\n",
       "    </tr>\n",
       "    <tr>\n",
       "      <th>95%</th>\n",
       "      <td>10.000000</td>\n",
       "      <td>1557.000000</td>\n",
       "      <td>6.000000</td>\n",
       "    </tr>\n",
       "    <tr>\n",
       "      <th>99%</th>\n",
       "      <td>17.000000</td>\n",
       "      <td>1839.000000</td>\n",
       "      <td>9.000000</td>\n",
       "    </tr>\n",
       "    <tr>\n",
       "      <th>max</th>\n",
       "      <td>251.000000</td>\n",
       "      <td>2272.000000</td>\n",
       "      <td>55.000000</td>\n",
       "    </tr>\n",
       "  </tbody>\n",
       "</table>\n",
       "</div>"
      ],
      "text/plain": [
       "       TotalVisits  Total Time Spent on Website  Page Views Per Visit\n",
       "count  9074.000000                  9074.000000           9074.000000\n",
       "mean      3.456028                   482.887481              2.370151\n",
       "std       4.858802                   545.256560              2.160871\n",
       "min       0.000000                     0.000000              0.000000\n",
       "25%       1.000000                    11.000000              1.000000\n",
       "50%       3.000000                   246.000000              2.000000\n",
       "75%       5.000000                   922.750000              3.200000\n",
       "90%       7.000000                  1373.000000              5.000000\n",
       "95%      10.000000                  1557.000000              6.000000\n",
       "99%      17.000000                  1839.000000              9.000000\n",
       "max     251.000000                  2272.000000             55.000000"
      ]
     },
     "execution_count": 63,
     "metadata": {},
     "output_type": "execute_result"
    }
   ],
   "source": [
    "# Checking outliers at 25%,50%,75%,90%,95% and 99%\n",
    "numerical.describe(percentiles=[.25,.5,.75,.90,.95,.99])"
   ]
  },
  {
   "cell_type": "markdown",
   "id": "f8d37706",
   "metadata": {},
   "source": [
    "Comments-<br>\n",
    "         - It can be seen that some outliers are present in the column 'TotalVisits' and 'Page View Per Visit' and these outliers needs to be treated."
   ]
  },
  {
   "cell_type": "code",
   "execution_count": 65,
   "id": "a42158b2",
   "metadata": {},
   "outputs": [
    {
     "data": {
      "text/html": [
       "<div>\n",
       "<style scoped>\n",
       "    .dataframe tbody tr th:only-of-type {\n",
       "        vertical-align: middle;\n",
       "    }\n",
       "\n",
       "    .dataframe tbody tr th {\n",
       "        vertical-align: top;\n",
       "    }\n",
       "\n",
       "    .dataframe thead th {\n",
       "        text-align: right;\n",
       "    }\n",
       "</style>\n",
       "<table border=\"1\" class=\"dataframe\">\n",
       "  <thead>\n",
       "    <tr style=\"text-align: right;\">\n",
       "      <th></th>\n",
       "      <th>TotalVisits</th>\n",
       "      <th>Page Views Per Visit</th>\n",
       "    </tr>\n",
       "  </thead>\n",
       "  <tbody>\n",
       "    <tr>\n",
       "      <th>0.00</th>\n",
       "      <td>0.0</td>\n",
       "      <td>0.0</td>\n",
       "    </tr>\n",
       "    <tr>\n",
       "      <th>0.99</th>\n",
       "      <td>17.0</td>\n",
       "      <td>9.0</td>\n",
       "    </tr>\n",
       "  </tbody>\n",
       "</table>\n",
       "</div>"
      ],
      "text/plain": [
       "      TotalVisits  Page Views Per Visit\n",
       "0.00          0.0                   0.0\n",
       "0.99         17.0                   9.0"
      ]
     },
     "execution_count": 65,
     "metadata": {},
     "output_type": "execute_result"
    }
   ],
   "source": [
    "filtering_cols= leads_data[['TotalVisits','Page Views Per Visit']]\n",
    "low = .00\n",
    "high = .99\n",
    "quantified = filtering_cols.quantile([low, high])\n",
    "quantified"
   ]
  },
  {
   "cell_type": "code",
   "execution_count": 66,
   "id": "b3ef0324",
   "metadata": {},
   "outputs": [],
   "source": [
    "filtering_cols = filtering_cols.apply(lambda x: x[(x>=quantified.loc[low,x.name]) & \n",
    "                                    (x <= quantified.loc[high,x.name])], axis=0)"
   ]
  },
  {
   "cell_type": "code",
   "execution_count": 67,
   "id": "9cd14a71",
   "metadata": {},
   "outputs": [],
   "source": [
    "#Merging it with the leads_data dataframe\n",
    "leads_data = pd.concat([leads_data.loc[:, ~leads_data.columns.isin(['TotalVisits','Page Views Per Visit'])], filtering_cols], axis=1)"
   ]
  },
  {
   "cell_type": "code",
   "execution_count": null,
   "id": "24fcfda7",
   "metadata": {},
   "outputs": [],
   "source": []
  },
  {
   "cell_type": "markdown",
   "id": "f193ea6c",
   "metadata": {},
   "source": [
    "## Creating dummy variables for categorical variables having more than 2 values"
   ]
  },
  {
   "cell_type": "code",
   "execution_count": 68,
   "id": "9e977892",
   "metadata": {},
   "outputs": [],
   "source": [
    "# Creating a dummy variable for the variable 'Lead Origin' and dropping the first one.\n",
    "lead_origin = pd.get_dummies(leads_data['Lead Origin'],prefix='Lead Origin',drop_first=True)\n",
    "#Adding the results to the master dataframe\n",
    "leads_data = pd.concat([leads_data,lead_origin],axis=1)\n",
    "\n",
    "# Creating a dummy variable for the variable 'Lead Source' and dropping the first one.\n",
    "lead_source = pd.get_dummies(leads_data['Lead Source'],prefix='Lead Source',drop_first=True)\n",
    "#Adding the results to the master dataframe\n",
    "leads_data = pd.concat([leads_data,lead_source],axis=1)\n",
    "\n",
    "# Creating a dummy variable for the variable 'Last Activity' and dropping the first one.\n",
    "last_activity = pd.get_dummies(leads_data['Last Activity'],prefix='Last Activity',drop_first=True)\n",
    "#Adding the results to the master dataframe\n",
    "leads_data = pd.concat([leads_data,last_activity],axis=1)\n",
    "\n",
    "# Creating a dummy variable for the variable 'Last Notable Activity' and dropping the first one.\n",
    "last_notble_activity = pd.get_dummies(leads_data['Last Notable Activity'],prefix='Last Notable Activity',drop_first=True)\n",
    "#Adding the results to the master dataframe\n",
    "leads_data = pd.concat([leads_data,last_notble_activity],axis=1)"
   ]
  },
  {
   "cell_type": "code",
   "execution_count": 69,
   "id": "47d6aea6",
   "metadata": {},
   "outputs": [
    {
     "data": {
      "text/plain": [
       "(9074, 64)"
      ]
     },
     "execution_count": 69,
     "metadata": {},
     "output_type": "execute_result"
    }
   ],
   "source": [
    "leads_data.shape"
   ]
  },
  {
   "cell_type": "code",
   "execution_count": 70,
   "id": "8f8ed1e6",
   "metadata": {},
   "outputs": [
    {
     "data": {
      "text/html": [
       "<div>\n",
       "<style scoped>\n",
       "    .dataframe tbody tr th:only-of-type {\n",
       "        vertical-align: middle;\n",
       "    }\n",
       "\n",
       "    .dataframe tbody tr th {\n",
       "        vertical-align: top;\n",
       "    }\n",
       "\n",
       "    .dataframe thead th {\n",
       "        text-align: right;\n",
       "    }\n",
       "</style>\n",
       "<table border=\"1\" class=\"dataframe\">\n",
       "  <thead>\n",
       "    <tr style=\"text-align: right;\">\n",
       "      <th></th>\n",
       "      <th>Lead Number</th>\n",
       "      <th>Lead Origin</th>\n",
       "      <th>Lead Source</th>\n",
       "      <th>Do Not Email</th>\n",
       "      <th>Converted</th>\n",
       "      <th>Total Time Spent on Website</th>\n",
       "      <th>Last Activity</th>\n",
       "      <th>A free copy of Mastering The Interview</th>\n",
       "      <th>Last Notable Activity</th>\n",
       "      <th>TotalVisits</th>\n",
       "      <th>...</th>\n",
       "      <th>Last Notable Activity_form submitted on website</th>\n",
       "      <th>Last Notable Activity_had a phone conversation</th>\n",
       "      <th>Last Notable Activity_modified</th>\n",
       "      <th>Last Notable Activity_olark chat conversation</th>\n",
       "      <th>Last Notable Activity_page visited on website</th>\n",
       "      <th>Last Notable Activity_resubscribed to emails</th>\n",
       "      <th>Last Notable Activity_sms sent</th>\n",
       "      <th>Last Notable Activity_unreachable</th>\n",
       "      <th>Last Notable Activity_unsubscribed</th>\n",
       "      <th>Last Notable Activity_view in browser link clicked</th>\n",
       "    </tr>\n",
       "  </thead>\n",
       "  <tbody>\n",
       "    <tr>\n",
       "      <th>0</th>\n",
       "      <td>660737</td>\n",
       "      <td>api</td>\n",
       "      <td>olark chat</td>\n",
       "      <td>0</td>\n",
       "      <td>0</td>\n",
       "      <td>0</td>\n",
       "      <td>page visited on website</td>\n",
       "      <td>0</td>\n",
       "      <td>modified</td>\n",
       "      <td>0.0</td>\n",
       "      <td>...</td>\n",
       "      <td>0</td>\n",
       "      <td>0</td>\n",
       "      <td>1</td>\n",
       "      <td>0</td>\n",
       "      <td>0</td>\n",
       "      <td>0</td>\n",
       "      <td>0</td>\n",
       "      <td>0</td>\n",
       "      <td>0</td>\n",
       "      <td>0</td>\n",
       "    </tr>\n",
       "    <tr>\n",
       "      <th>1</th>\n",
       "      <td>660728</td>\n",
       "      <td>api</td>\n",
       "      <td>organic search</td>\n",
       "      <td>0</td>\n",
       "      <td>0</td>\n",
       "      <td>674</td>\n",
       "      <td>email opened</td>\n",
       "      <td>0</td>\n",
       "      <td>email opened</td>\n",
       "      <td>5.0</td>\n",
       "      <td>...</td>\n",
       "      <td>0</td>\n",
       "      <td>0</td>\n",
       "      <td>0</td>\n",
       "      <td>0</td>\n",
       "      <td>0</td>\n",
       "      <td>0</td>\n",
       "      <td>0</td>\n",
       "      <td>0</td>\n",
       "      <td>0</td>\n",
       "      <td>0</td>\n",
       "    </tr>\n",
       "    <tr>\n",
       "      <th>2</th>\n",
       "      <td>660727</td>\n",
       "      <td>landing page submission</td>\n",
       "      <td>direct traffic</td>\n",
       "      <td>0</td>\n",
       "      <td>1</td>\n",
       "      <td>1532</td>\n",
       "      <td>email opened</td>\n",
       "      <td>1</td>\n",
       "      <td>email opened</td>\n",
       "      <td>2.0</td>\n",
       "      <td>...</td>\n",
       "      <td>0</td>\n",
       "      <td>0</td>\n",
       "      <td>0</td>\n",
       "      <td>0</td>\n",
       "      <td>0</td>\n",
       "      <td>0</td>\n",
       "      <td>0</td>\n",
       "      <td>0</td>\n",
       "      <td>0</td>\n",
       "      <td>0</td>\n",
       "    </tr>\n",
       "    <tr>\n",
       "      <th>3</th>\n",
       "      <td>660719</td>\n",
       "      <td>landing page submission</td>\n",
       "      <td>direct traffic</td>\n",
       "      <td>0</td>\n",
       "      <td>0</td>\n",
       "      <td>305</td>\n",
       "      <td>unreachable</td>\n",
       "      <td>0</td>\n",
       "      <td>modified</td>\n",
       "      <td>1.0</td>\n",
       "      <td>...</td>\n",
       "      <td>0</td>\n",
       "      <td>0</td>\n",
       "      <td>1</td>\n",
       "      <td>0</td>\n",
       "      <td>0</td>\n",
       "      <td>0</td>\n",
       "      <td>0</td>\n",
       "      <td>0</td>\n",
       "      <td>0</td>\n",
       "      <td>0</td>\n",
       "    </tr>\n",
       "    <tr>\n",
       "      <th>4</th>\n",
       "      <td>660681</td>\n",
       "      <td>landing page submission</td>\n",
       "      <td>google</td>\n",
       "      <td>0</td>\n",
       "      <td>1</td>\n",
       "      <td>1428</td>\n",
       "      <td>converted to lead</td>\n",
       "      <td>0</td>\n",
       "      <td>modified</td>\n",
       "      <td>2.0</td>\n",
       "      <td>...</td>\n",
       "      <td>0</td>\n",
       "      <td>0</td>\n",
       "      <td>1</td>\n",
       "      <td>0</td>\n",
       "      <td>0</td>\n",
       "      <td>0</td>\n",
       "      <td>0</td>\n",
       "      <td>0</td>\n",
       "      <td>0</td>\n",
       "      <td>0</td>\n",
       "    </tr>\n",
       "  </tbody>\n",
       "</table>\n",
       "<p>5 rows × 64 columns</p>\n",
       "</div>"
      ],
      "text/plain": [
       "   Lead Number              Lead Origin     Lead Source  Do Not Email  \\\n",
       "0       660737                      api      olark chat             0   \n",
       "1       660728                      api  organic search             0   \n",
       "2       660727  landing page submission  direct traffic             0   \n",
       "3       660719  landing page submission  direct traffic             0   \n",
       "4       660681  landing page submission          google             0   \n",
       "\n",
       "   Converted  Total Time Spent on Website            Last Activity  \\\n",
       "0          0                            0  page visited on website   \n",
       "1          0                          674             email opened   \n",
       "2          1                         1532             email opened   \n",
       "3          0                          305              unreachable   \n",
       "4          1                         1428        converted to lead   \n",
       "\n",
       "   A free copy of Mastering The Interview Last Notable Activity  TotalVisits  \\\n",
       "0                                       0              modified          0.0   \n",
       "1                                       0          email opened          5.0   \n",
       "2                                       1          email opened          2.0   \n",
       "3                                       0              modified          1.0   \n",
       "4                                       0              modified          2.0   \n",
       "\n",
       "   ...  Last Notable Activity_form submitted on website  \\\n",
       "0  ...                                                0   \n",
       "1  ...                                                0   \n",
       "2  ...                                                0   \n",
       "3  ...                                                0   \n",
       "4  ...                                                0   \n",
       "\n",
       "   Last Notable Activity_had a phone conversation  \\\n",
       "0                                               0   \n",
       "1                                               0   \n",
       "2                                               0   \n",
       "3                                               0   \n",
       "4                                               0   \n",
       "\n",
       "   Last Notable Activity_modified  \\\n",
       "0                               1   \n",
       "1                               0   \n",
       "2                               0   \n",
       "3                               1   \n",
       "4                               1   \n",
       "\n",
       "   Last Notable Activity_olark chat conversation  \\\n",
       "0                                              0   \n",
       "1                                              0   \n",
       "2                                              0   \n",
       "3                                              0   \n",
       "4                                              0   \n",
       "\n",
       "   Last Notable Activity_page visited on website  \\\n",
       "0                                              0   \n",
       "1                                              0   \n",
       "2                                              0   \n",
       "3                                              0   \n",
       "4                                              0   \n",
       "\n",
       "   Last Notable Activity_resubscribed to emails  \\\n",
       "0                                             0   \n",
       "1                                             0   \n",
       "2                                             0   \n",
       "3                                             0   \n",
       "4                                             0   \n",
       "\n",
       "   Last Notable Activity_sms sent  Last Notable Activity_unreachable  \\\n",
       "0                               0                                  0   \n",
       "1                               0                                  0   \n",
       "2                               0                                  0   \n",
       "3                               0                                  0   \n",
       "4                               0                                  0   \n",
       "\n",
       "   Last Notable Activity_unsubscribed  \\\n",
       "0                                   0   \n",
       "1                                   0   \n",
       "2                                   0   \n",
       "3                                   0   \n",
       "4                                   0   \n",
       "\n",
       "   Last Notable Activity_view in browser link clicked  \n",
       "0                                                  0   \n",
       "1                                                  0   \n",
       "2                                                  0   \n",
       "3                                                  0   \n",
       "4                                                  0   \n",
       "\n",
       "[5 rows x 64 columns]"
      ]
     },
     "execution_count": 70,
     "metadata": {},
     "output_type": "execute_result"
    }
   ],
   "source": [
    "leads_data.head()"
   ]
  },
  {
   "cell_type": "code",
   "execution_count": 72,
   "id": "9fa36483",
   "metadata": {},
   "outputs": [],
   "source": [
    "#Dropping original features.\n",
    "leads_data = leads_data.drop(['Lead Origin','Lead Source','Last Activity','Last Notable Activity'], axis=1)"
   ]
  },
  {
   "cell_type": "code",
   "execution_count": 73,
   "id": "d1060371",
   "metadata": {},
   "outputs": [
    {
     "name": "stdout",
     "output_type": "stream",
     "text": [
      "<class 'pandas.core.frame.DataFrame'>\n",
      "Int64Index: 9074 entries, 0 to 9239\n",
      "Data columns (total 60 columns):\n",
      " #   Column                                              Non-Null Count  Dtype  \n",
      "---  ------                                              --------------  -----  \n",
      " 0   Lead Number                                         9074 non-null   int64  \n",
      " 1   Do Not Email                                        9074 non-null   int64  \n",
      " 2   Converted                                           9074 non-null   int64  \n",
      " 3   Total Time Spent on Website                         9074 non-null   int64  \n",
      " 4   A free copy of Mastering The Interview              9074 non-null   int64  \n",
      " 5   TotalVisits                                         8991 non-null   float64\n",
      " 6   Page Views Per Visit                                8999 non-null   float64\n",
      " 7   Lead Origin_landing page submission                 9074 non-null   uint8  \n",
      " 8   Lead Origin_lead add form                           9074 non-null   uint8  \n",
      " 9   Lead Origin_lead import                             9074 non-null   uint8  \n",
      " 10  Lead Source_blog                                    9074 non-null   uint8  \n",
      " 11  Lead Source_click2call                              9074 non-null   uint8  \n",
      " 12  Lead Source_direct traffic                          9074 non-null   uint8  \n",
      " 13  Lead Source_facebook                                9074 non-null   uint8  \n",
      " 14  Lead Source_google                                  9074 non-null   uint8  \n",
      " 15  Lead Source_live chat                               9074 non-null   uint8  \n",
      " 16  Lead Source_nc_edm                                  9074 non-null   uint8  \n",
      " 17  Lead Source_olark chat                              9074 non-null   uint8  \n",
      " 18  Lead Source_organic search                          9074 non-null   uint8  \n",
      " 19  Lead Source_pay per click ads                       9074 non-null   uint8  \n",
      " 20  Lead Source_press_release                           9074 non-null   uint8  \n",
      " 21  Lead Source_reference                               9074 non-null   uint8  \n",
      " 22  Lead Source_referral sites                          9074 non-null   uint8  \n",
      " 23  Lead Source_social media                            9074 non-null   uint8  \n",
      " 24  Lead Source_testone                                 9074 non-null   uint8  \n",
      " 25  Lead Source_welearn                                 9074 non-null   uint8  \n",
      " 26  Lead Source_welearnblog_home                        9074 non-null   uint8  \n",
      " 27  Lead Source_welingak website                        9074 non-null   uint8  \n",
      " 28  Lead Source_youtubechannel                          9074 non-null   uint8  \n",
      " 29  Last Activity_converted to lead                     9074 non-null   uint8  \n",
      " 30  Last Activity_email bounced                         9074 non-null   uint8  \n",
      " 31  Last Activity_email link clicked                    9074 non-null   uint8  \n",
      " 32  Last Activity_email marked spam                     9074 non-null   uint8  \n",
      " 33  Last Activity_email opened                          9074 non-null   uint8  \n",
      " 34  Last Activity_email received                        9074 non-null   uint8  \n",
      " 35  Last Activity_form submitted on website             9074 non-null   uint8  \n",
      " 36  Last Activity_had a phone conversation              9074 non-null   uint8  \n",
      " 37  Last Activity_olark chat conversation               9074 non-null   uint8  \n",
      " 38  Last Activity_page visited on website               9074 non-null   uint8  \n",
      " 39  Last Activity_resubscribed to emails                9074 non-null   uint8  \n",
      " 40  Last Activity_sms sent                              9074 non-null   uint8  \n",
      " 41  Last Activity_unreachable                           9074 non-null   uint8  \n",
      " 42  Last Activity_unsubscribed                          9074 non-null   uint8  \n",
      " 43  Last Activity_view in browser link clicked          9074 non-null   uint8  \n",
      " 44  Last Activity_visited booth in tradeshow            9074 non-null   uint8  \n",
      " 45  Last Notable Activity_email bounced                 9074 non-null   uint8  \n",
      " 46  Last Notable Activity_email link clicked            9074 non-null   uint8  \n",
      " 47  Last Notable Activity_email marked spam             9074 non-null   uint8  \n",
      " 48  Last Notable Activity_email opened                  9074 non-null   uint8  \n",
      " 49  Last Notable Activity_email received                9074 non-null   uint8  \n",
      " 50  Last Notable Activity_form submitted on website     9074 non-null   uint8  \n",
      " 51  Last Notable Activity_had a phone conversation      9074 non-null   uint8  \n",
      " 52  Last Notable Activity_modified                      9074 non-null   uint8  \n",
      " 53  Last Notable Activity_olark chat conversation       9074 non-null   uint8  \n",
      " 54  Last Notable Activity_page visited on website       9074 non-null   uint8  \n",
      " 55  Last Notable Activity_resubscribed to emails        9074 non-null   uint8  \n",
      " 56  Last Notable Activity_sms sent                      9074 non-null   uint8  \n",
      " 57  Last Notable Activity_unreachable                   9074 non-null   uint8  \n",
      " 58  Last Notable Activity_unsubscribed                  9074 non-null   uint8  \n",
      " 59  Last Notable Activity_view in browser link clicked  9074 non-null   uint8  \n",
      "dtypes: float64(2), int64(5), uint8(53)\n",
      "memory usage: 1.0 MB\n"
     ]
    }
   ],
   "source": [
    "leads_data.info()"
   ]
  },
  {
   "cell_type": "code",
   "execution_count": 74,
   "id": "aa542f76",
   "metadata": {},
   "outputs": [
    {
     "name": "stdout",
     "output_type": "stream",
     "text": [
      "<class 'pandas.core.frame.DataFrame'>\n",
      "Int64Index: 8924 entries, 0 to 9239\n",
      "Data columns (total 60 columns):\n",
      " #   Column                                              Non-Null Count  Dtype  \n",
      "---  ------                                              --------------  -----  \n",
      " 0   Lead Number                                         8924 non-null   int64  \n",
      " 1   Do Not Email                                        8924 non-null   int64  \n",
      " 2   Converted                                           8924 non-null   int64  \n",
      " 3   Total Time Spent on Website                         8924 non-null   int64  \n",
      " 4   A free copy of Mastering The Interview              8924 non-null   int64  \n",
      " 5   TotalVisits                                         8924 non-null   float64\n",
      " 6   Page Views Per Visit                                8924 non-null   float64\n",
      " 7   Lead Origin_landing page submission                 8924 non-null   uint8  \n",
      " 8   Lead Origin_lead add form                           8924 non-null   uint8  \n",
      " 9   Lead Origin_lead import                             8924 non-null   uint8  \n",
      " 10  Lead Source_blog                                    8924 non-null   uint8  \n",
      " 11  Lead Source_click2call                              8924 non-null   uint8  \n",
      " 12  Lead Source_direct traffic                          8924 non-null   uint8  \n",
      " 13  Lead Source_facebook                                8924 non-null   uint8  \n",
      " 14  Lead Source_google                                  8924 non-null   uint8  \n",
      " 15  Lead Source_live chat                               8924 non-null   uint8  \n",
      " 16  Lead Source_nc_edm                                  8924 non-null   uint8  \n",
      " 17  Lead Source_olark chat                              8924 non-null   uint8  \n",
      " 18  Lead Source_organic search                          8924 non-null   uint8  \n",
      " 19  Lead Source_pay per click ads                       8924 non-null   uint8  \n",
      " 20  Lead Source_press_release                           8924 non-null   uint8  \n",
      " 21  Lead Source_reference                               8924 non-null   uint8  \n",
      " 22  Lead Source_referral sites                          8924 non-null   uint8  \n",
      " 23  Lead Source_social media                            8924 non-null   uint8  \n",
      " 24  Lead Source_testone                                 8924 non-null   uint8  \n",
      " 25  Lead Source_welearn                                 8924 non-null   uint8  \n",
      " 26  Lead Source_welearnblog_home                        8924 non-null   uint8  \n",
      " 27  Lead Source_welingak website                        8924 non-null   uint8  \n",
      " 28  Lead Source_youtubechannel                          8924 non-null   uint8  \n",
      " 29  Last Activity_converted to lead                     8924 non-null   uint8  \n",
      " 30  Last Activity_email bounced                         8924 non-null   uint8  \n",
      " 31  Last Activity_email link clicked                    8924 non-null   uint8  \n",
      " 32  Last Activity_email marked spam                     8924 non-null   uint8  \n",
      " 33  Last Activity_email opened                          8924 non-null   uint8  \n",
      " 34  Last Activity_email received                        8924 non-null   uint8  \n",
      " 35  Last Activity_form submitted on website             8924 non-null   uint8  \n",
      " 36  Last Activity_had a phone conversation              8924 non-null   uint8  \n",
      " 37  Last Activity_olark chat conversation               8924 non-null   uint8  \n",
      " 38  Last Activity_page visited on website               8924 non-null   uint8  \n",
      " 39  Last Activity_resubscribed to emails                8924 non-null   uint8  \n",
      " 40  Last Activity_sms sent                              8924 non-null   uint8  \n",
      " 41  Last Activity_unreachable                           8924 non-null   uint8  \n",
      " 42  Last Activity_unsubscribed                          8924 non-null   uint8  \n",
      " 43  Last Activity_view in browser link clicked          8924 non-null   uint8  \n",
      " 44  Last Activity_visited booth in tradeshow            8924 non-null   uint8  \n",
      " 45  Last Notable Activity_email bounced                 8924 non-null   uint8  \n",
      " 46  Last Notable Activity_email link clicked            8924 non-null   uint8  \n",
      " 47  Last Notable Activity_email marked spam             8924 non-null   uint8  \n",
      " 48  Last Notable Activity_email opened                  8924 non-null   uint8  \n",
      " 49  Last Notable Activity_email received                8924 non-null   uint8  \n",
      " 50  Last Notable Activity_form submitted on website     8924 non-null   uint8  \n",
      " 51  Last Notable Activity_had a phone conversation      8924 non-null   uint8  \n",
      " 52  Last Notable Activity_modified                      8924 non-null   uint8  \n",
      " 53  Last Notable Activity_olark chat conversation       8924 non-null   uint8  \n",
      " 54  Last Notable Activity_page visited on website       8924 non-null   uint8  \n",
      " 55  Last Notable Activity_resubscribed to emails        8924 non-null   uint8  \n",
      " 56  Last Notable Activity_sms sent                      8924 non-null   uint8  \n",
      " 57  Last Notable Activity_unreachable                   8924 non-null   uint8  \n",
      " 58  Last Notable Activity_unsubscribed                  8924 non-null   uint8  \n",
      " 59  Last Notable Activity_view in browser link clicked  8924 non-null   uint8  \n",
      "dtypes: float64(2), int64(5), uint8(53)\n",
      "memory usage: 1019.6 KB\n"
     ]
    }
   ],
   "source": [
    "#Dropping NA values\n",
    "leads_data.dropna(inplace=True)\n",
    "leads_data.info()"
   ]
  },
  {
   "cell_type": "code",
   "execution_count": 75,
   "id": "b2bd38cf",
   "metadata": {},
   "outputs": [
    {
     "data": {
      "text/html": [
       "<div>\n",
       "<style scoped>\n",
       "    .dataframe tbody tr th:only-of-type {\n",
       "        vertical-align: middle;\n",
       "    }\n",
       "\n",
       "    .dataframe tbody tr th {\n",
       "        vertical-align: top;\n",
       "    }\n",
       "\n",
       "    .dataframe thead th {\n",
       "        text-align: right;\n",
       "    }\n",
       "</style>\n",
       "<table border=\"1\" class=\"dataframe\">\n",
       "  <thead>\n",
       "    <tr style=\"text-align: right;\">\n",
       "      <th></th>\n",
       "      <th>TotalVisits</th>\n",
       "      <th>Page Views Per Visit</th>\n",
       "    </tr>\n",
       "  </thead>\n",
       "  <tbody>\n",
       "    <tr>\n",
       "      <th>count</th>\n",
       "      <td>8924.000000</td>\n",
       "      <td>8924.00000</td>\n",
       "    </tr>\n",
       "    <tr>\n",
       "      <th>mean</th>\n",
       "      <td>3.153070</td>\n",
       "      <td>2.27400</td>\n",
       "    </tr>\n",
       "    <tr>\n",
       "      <th>std</th>\n",
       "      <td>2.903138</td>\n",
       "      <td>1.89403</td>\n",
       "    </tr>\n",
       "    <tr>\n",
       "      <th>min</th>\n",
       "      <td>0.000000</td>\n",
       "      <td>0.00000</td>\n",
       "    </tr>\n",
       "    <tr>\n",
       "      <th>25%</th>\n",
       "      <td>1.000000</td>\n",
       "      <td>1.00000</td>\n",
       "    </tr>\n",
       "    <tr>\n",
       "      <th>50%</th>\n",
       "      <td>3.000000</td>\n",
       "      <td>2.00000</td>\n",
       "    </tr>\n",
       "    <tr>\n",
       "      <th>75%</th>\n",
       "      <td>5.000000</td>\n",
       "      <td>3.00000</td>\n",
       "    </tr>\n",
       "    <tr>\n",
       "      <th>90%</th>\n",
       "      <td>7.000000</td>\n",
       "      <td>5.00000</td>\n",
       "    </tr>\n",
       "    <tr>\n",
       "      <th>95%</th>\n",
       "      <td>9.000000</td>\n",
       "      <td>6.00000</td>\n",
       "    </tr>\n",
       "    <tr>\n",
       "      <th>99%</th>\n",
       "      <td>13.000000</td>\n",
       "      <td>8.00000</td>\n",
       "    </tr>\n",
       "    <tr>\n",
       "      <th>max</th>\n",
       "      <td>17.000000</td>\n",
       "      <td>9.00000</td>\n",
       "    </tr>\n",
       "  </tbody>\n",
       "</table>\n",
       "</div>"
      ],
      "text/plain": [
       "       TotalVisits  Page Views Per Visit\n",
       "count  8924.000000            8924.00000\n",
       "mean      3.153070               2.27400\n",
       "std       2.903138               1.89403\n",
       "min       0.000000               0.00000\n",
       "25%       1.000000               1.00000\n",
       "50%       3.000000               2.00000\n",
       "75%       5.000000               3.00000\n",
       "90%       7.000000               5.00000\n",
       "95%       9.000000               6.00000\n",
       "99%      13.000000               8.00000\n",
       "max      17.000000               9.00000"
      ]
     },
     "execution_count": 75,
     "metadata": {},
     "output_type": "execute_result"
    }
   ],
   "source": [
    "# Checking the outliers at 25%,50%,75%,90%,95% and 99%\n",
    "numerical2 = leads_data[['TotalVisits','Page Views Per Visit']]\n",
    "numerical2.describe(percentiles=[.25,.5,.75,.90,.95,.99])"
   ]
  },
  {
   "cell_type": "markdown",
   "id": "2f5c7318",
   "metadata": {},
   "source": [
    "## Checking for variance among dummy variables"
   ]
  },
  {
   "cell_type": "code",
   "execution_count": 76,
   "id": "3ea7c2eb",
   "metadata": {},
   "outputs": [
    {
     "data": {
      "text/html": [
       "<div>\n",
       "<style scoped>\n",
       "    .dataframe tbody tr th:only-of-type {\n",
       "        vertical-align: middle;\n",
       "    }\n",
       "\n",
       "    .dataframe tbody tr th {\n",
       "        vertical-align: top;\n",
       "    }\n",
       "\n",
       "    .dataframe thead th {\n",
       "        text-align: right;\n",
       "    }\n",
       "</style>\n",
       "<table border=\"1\" class=\"dataframe\">\n",
       "  <thead>\n",
       "    <tr style=\"text-align: right;\">\n",
       "      <th></th>\n",
       "      <th>values</th>\n",
       "    </tr>\n",
       "  </thead>\n",
       "  <tbody>\n",
       "    <tr>\n",
       "      <th>Do Not Email</th>\n",
       "      <td>92.28</td>\n",
       "    </tr>\n",
       "    <tr>\n",
       "      <th>Converted</th>\n",
       "      <td>62.25</td>\n",
       "    </tr>\n",
       "    <tr>\n",
       "      <th>A free copy of Mastering The Interview</th>\n",
       "      <td>68.65</td>\n",
       "    </tr>\n",
       "    <tr>\n",
       "      <th>Lead Origin_landing page submission</th>\n",
       "      <td>46.57</td>\n",
       "    </tr>\n",
       "    <tr>\n",
       "      <th>Lead Origin_lead add form</th>\n",
       "      <td>93.50</td>\n",
       "    </tr>\n",
       "    <tr>\n",
       "      <th>Lead Origin_lead import</th>\n",
       "      <td>99.66</td>\n",
       "    </tr>\n",
       "    <tr>\n",
       "      <th>Lead Source_blog</th>\n",
       "      <td>99.99</td>\n",
       "    </tr>\n",
       "    <tr>\n",
       "      <th>Lead Source_click2call</th>\n",
       "      <td>99.96</td>\n",
       "    </tr>\n",
       "    <tr>\n",
       "      <th>Lead Source_direct traffic</th>\n",
       "      <td>72.00</td>\n",
       "    </tr>\n",
       "    <tr>\n",
       "      <th>Lead Source_facebook</th>\n",
       "      <td>99.65</td>\n",
       "    </tr>\n",
       "    <tr>\n",
       "      <th>Lead Source_google</th>\n",
       "      <td>68.16</td>\n",
       "    </tr>\n",
       "    <tr>\n",
       "      <th>Lead Source_live chat</th>\n",
       "      <td>99.98</td>\n",
       "    </tr>\n",
       "    <tr>\n",
       "      <th>Lead Source_nc_edm</th>\n",
       "      <td>99.99</td>\n",
       "    </tr>\n",
       "    <tr>\n",
       "      <th>Lead Source_olark chat</th>\n",
       "      <td>80.38</td>\n",
       "    </tr>\n",
       "    <tr>\n",
       "      <th>Lead Source_organic search</th>\n",
       "      <td>87.76</td>\n",
       "    </tr>\n",
       "    <tr>\n",
       "      <th>Lead Source_pay per click ads</th>\n",
       "      <td>99.99</td>\n",
       "    </tr>\n",
       "    <tr>\n",
       "      <th>Lead Source_press_release</th>\n",
       "      <td>99.99</td>\n",
       "    </tr>\n",
       "    <tr>\n",
       "      <th>Lead Source_reference</th>\n",
       "      <td>95.05</td>\n",
       "    </tr>\n",
       "    <tr>\n",
       "      <th>Lead Source_referral sites</th>\n",
       "      <td>98.69</td>\n",
       "    </tr>\n",
       "    <tr>\n",
       "      <th>Lead Source_social media</th>\n",
       "      <td>99.98</td>\n",
       "    </tr>\n",
       "    <tr>\n",
       "      <th>Lead Source_testone</th>\n",
       "      <td>99.99</td>\n",
       "    </tr>\n",
       "    <tr>\n",
       "      <th>Lead Source_welearn</th>\n",
       "      <td>99.99</td>\n",
       "    </tr>\n",
       "    <tr>\n",
       "      <th>Lead Source_welearnblog_home</th>\n",
       "      <td>99.99</td>\n",
       "    </tr>\n",
       "    <tr>\n",
       "      <th>Lead Source_welingak website</th>\n",
       "      <td>98.55</td>\n",
       "    </tr>\n",
       "    <tr>\n",
       "      <th>Lead Source_youtubechannel</th>\n",
       "      <td>99.99</td>\n",
       "    </tr>\n",
       "    <tr>\n",
       "      <th>Last Activity_converted to lead</th>\n",
       "      <td>95.20</td>\n",
       "    </tr>\n",
       "    <tr>\n",
       "      <th>Last Activity_email bounced</th>\n",
       "      <td>96.53</td>\n",
       "    </tr>\n",
       "    <tr>\n",
       "      <th>Last Activity_email link clicked</th>\n",
       "      <td>97.04</td>\n",
       "    </tr>\n",
       "    <tr>\n",
       "      <th>Last Activity_email marked spam</th>\n",
       "      <td>99.98</td>\n",
       "    </tr>\n",
       "    <tr>\n",
       "      <th>Last Activity_email opened</th>\n",
       "      <td>62.07</td>\n",
       "    </tr>\n",
       "    <tr>\n",
       "      <th>Last Activity_email received</th>\n",
       "      <td>99.98</td>\n",
       "    </tr>\n",
       "    <tr>\n",
       "      <th>Last Activity_form submitted on website</th>\n",
       "      <td>98.72</td>\n",
       "    </tr>\n",
       "    <tr>\n",
       "      <th>Last Activity_had a phone conversation</th>\n",
       "      <td>99.73</td>\n",
       "    </tr>\n",
       "    <tr>\n",
       "      <th>Last Activity_olark chat conversation</th>\n",
       "      <td>89.18</td>\n",
       "    </tr>\n",
       "    <tr>\n",
       "      <th>Last Activity_page visited on website</th>\n",
       "      <td>93.34</td>\n",
       "    </tr>\n",
       "    <tr>\n",
       "      <th>Last Activity_resubscribed to emails</th>\n",
       "      <td>99.99</td>\n",
       "    </tr>\n",
       "    <tr>\n",
       "      <th>Last Activity_sms sent</th>\n",
       "      <td>69.99</td>\n",
       "    </tr>\n",
       "    <tr>\n",
       "      <th>Last Activity_unreachable</th>\n",
       "      <td>99.01</td>\n",
       "    </tr>\n",
       "    <tr>\n",
       "      <th>Last Activity_unsubscribed</th>\n",
       "      <td>99.35</td>\n",
       "    </tr>\n",
       "    <tr>\n",
       "      <th>Last Activity_view in browser link clicked</th>\n",
       "      <td>99.96</td>\n",
       "    </tr>\n",
       "    <tr>\n",
       "      <th>Last Activity_visited booth in tradeshow</th>\n",
       "      <td>99.99</td>\n",
       "    </tr>\n",
       "    <tr>\n",
       "      <th>Last Notable Activity_email bounced</th>\n",
       "      <td>99.34</td>\n",
       "    </tr>\n",
       "    <tr>\n",
       "      <th>Last Notable Activity_email link clicked</th>\n",
       "      <td>98.10</td>\n",
       "    </tr>\n",
       "    <tr>\n",
       "      <th>Last Notable Activity_email marked spam</th>\n",
       "      <td>99.98</td>\n",
       "    </tr>\n",
       "    <tr>\n",
       "      <th>Last Notable Activity_email opened</th>\n",
       "      <td>68.79</td>\n",
       "    </tr>\n",
       "    <tr>\n",
       "      <th>Last Notable Activity_email received</th>\n",
       "      <td>99.99</td>\n",
       "    </tr>\n",
       "    <tr>\n",
       "      <th>Last Notable Activity_form submitted on website</th>\n",
       "      <td>99.99</td>\n",
       "    </tr>\n",
       "    <tr>\n",
       "      <th>Last Notable Activity_had a phone conversation</th>\n",
       "      <td>99.85</td>\n",
       "    </tr>\n",
       "    <tr>\n",
       "      <th>Last Notable Activity_modified</th>\n",
       "      <td>63.91</td>\n",
       "    </tr>\n",
       "    <tr>\n",
       "      <th>Last Notable Activity_olark chat conversation</th>\n",
       "      <td>97.96</td>\n",
       "    </tr>\n",
       "    <tr>\n",
       "      <th>Last Notable Activity_page visited on website</th>\n",
       "      <td>96.77</td>\n",
       "    </tr>\n",
       "    <tr>\n",
       "      <th>Last Notable Activity_resubscribed to emails</th>\n",
       "      <td>99.99</td>\n",
       "    </tr>\n",
       "    <tr>\n",
       "      <th>Last Notable Activity_sms sent</th>\n",
       "      <td>76.21</td>\n",
       "    </tr>\n",
       "    <tr>\n",
       "      <th>Last Notable Activity_unreachable</th>\n",
       "      <td>99.64</td>\n",
       "    </tr>\n",
       "    <tr>\n",
       "      <th>Last Notable Activity_unsubscribed</th>\n",
       "      <td>99.51</td>\n",
       "    </tr>\n",
       "    <tr>\n",
       "      <th>Last Notable Activity_view in browser link clicked</th>\n",
       "      <td>99.99</td>\n",
       "    </tr>\n",
       "  </tbody>\n",
       "</table>\n",
       "</div>"
      ],
      "text/plain": [
       "                                                    values\n",
       "Do Not Email                                         92.28\n",
       "Converted                                            62.25\n",
       "A free copy of Mastering The Interview               68.65\n",
       "Lead Origin_landing page submission                  46.57\n",
       "Lead Origin_lead add form                            93.50\n",
       "Lead Origin_lead import                              99.66\n",
       "Lead Source_blog                                     99.99\n",
       "Lead Source_click2call                               99.96\n",
       "Lead Source_direct traffic                           72.00\n",
       "Lead Source_facebook                                 99.65\n",
       "Lead Source_google                                   68.16\n",
       "Lead Source_live chat                                99.98\n",
       "Lead Source_nc_edm                                   99.99\n",
       "Lead Source_olark chat                               80.38\n",
       "Lead Source_organic search                           87.76\n",
       "Lead Source_pay per click ads                        99.99\n",
       "Lead Source_press_release                            99.99\n",
       "Lead Source_reference                                95.05\n",
       "Lead Source_referral sites                           98.69\n",
       "Lead Source_social media                             99.98\n",
       "Lead Source_testone                                  99.99\n",
       "Lead Source_welearn                                  99.99\n",
       "Lead Source_welearnblog_home                         99.99\n",
       "Lead Source_welingak website                         98.55\n",
       "Lead Source_youtubechannel                           99.99\n",
       "Last Activity_converted to lead                      95.20\n",
       "Last Activity_email bounced                          96.53\n",
       "Last Activity_email link clicked                     97.04\n",
       "Last Activity_email marked spam                      99.98\n",
       "Last Activity_email opened                           62.07\n",
       "Last Activity_email received                         99.98\n",
       "Last Activity_form submitted on website              98.72\n",
       "Last Activity_had a phone conversation               99.73\n",
       "Last Activity_olark chat conversation                89.18\n",
       "Last Activity_page visited on website                93.34\n",
       "Last Activity_resubscribed to emails                 99.99\n",
       "Last Activity_sms sent                               69.99\n",
       "Last Activity_unreachable                            99.01\n",
       "Last Activity_unsubscribed                           99.35\n",
       "Last Activity_view in browser link clicked           99.96\n",
       "Last Activity_visited booth in tradeshow             99.99\n",
       "Last Notable Activity_email bounced                  99.34\n",
       "Last Notable Activity_email link clicked             98.10\n",
       "Last Notable Activity_email marked spam              99.98\n",
       "Last Notable Activity_email opened                   68.79\n",
       "Last Notable Activity_email received                 99.99\n",
       "Last Notable Activity_form submitted on website      99.99\n",
       "Last Notable Activity_had a phone conversation       99.85\n",
       "Last Notable Activity_modified                       63.91\n",
       "Last Notable Activity_olark chat conversation        97.96\n",
       "Last Notable Activity_page visited on website        96.77\n",
       "Last Notable Activity_resubscribed to emails         99.99\n",
       "Last Notable Activity_sms sent                       76.21\n",
       "Last Notable Activity_unreachable                    99.64\n",
       "Last Notable Activity_unsubscribed                   99.51\n",
       "Last Notable Activity_view in browser link clicked   99.99"
      ]
     },
     "execution_count": 76,
     "metadata": {},
     "output_type": "execute_result"
    }
   ],
   "source": [
    "variance = round(100*((len(leads_data.index)-leads_data.loc[:, ~leads_data.columns.isin(['Lead Number','TotalVisits','Total Time Spent on Website','Page Views Per Visit'])].sum())/len(leads_data.index)), 2)\n",
    "data_frame = pd.DataFrame(variance,columns=['values'])\n",
    "data_frame"
   ]
  },
  {
   "cell_type": "markdown",
   "id": "3889ffc9",
   "metadata": {},
   "source": [
    "Comments-<br>\n",
    "       - It can be seen that most of the columns don't capture any variance. So, we'll drop the columns having around 99% same values."
   ]
  },
  {
   "cell_type": "code",
   "execution_count": 77,
   "id": "d91c8f58",
   "metadata": {},
   "outputs": [
    {
     "data": {
      "text/plain": [
       "['Lead Origin_lead import',\n",
       " 'Lead Source_blog',\n",
       " 'Lead Source_click2call',\n",
       " 'Lead Source_facebook',\n",
       " 'Lead Source_live chat',\n",
       " 'Lead Source_nc_edm',\n",
       " 'Lead Source_pay per click ads',\n",
       " 'Lead Source_press_release',\n",
       " 'Lead Source_referral sites',\n",
       " 'Lead Source_social media',\n",
       " 'Lead Source_testone',\n",
       " 'Lead Source_welearn',\n",
       " 'Lead Source_welearnblog_home',\n",
       " 'Lead Source_welingak website',\n",
       " 'Lead Source_youtubechannel',\n",
       " 'Last Activity_email marked spam',\n",
       " 'Last Activity_email received',\n",
       " 'Last Activity_form submitted on website',\n",
       " 'Last Activity_had a phone conversation',\n",
       " 'Last Activity_resubscribed to emails',\n",
       " 'Last Activity_unreachable',\n",
       " 'Last Activity_unsubscribed',\n",
       " 'Last Activity_view in browser link clicked',\n",
       " 'Last Activity_visited booth in tradeshow',\n",
       " 'Last Notable Activity_email bounced',\n",
       " 'Last Notable Activity_email marked spam',\n",
       " 'Last Notable Activity_email received',\n",
       " 'Last Notable Activity_form submitted on website',\n",
       " 'Last Notable Activity_had a phone conversation',\n",
       " 'Last Notable Activity_resubscribed to emails',\n",
       " 'Last Notable Activity_unreachable',\n",
       " 'Last Notable Activity_unsubscribed',\n",
       " 'Last Notable Activity_view in browser link clicked']"
      ]
     },
     "execution_count": 77,
     "metadata": {},
     "output_type": "execute_result"
    }
   ],
   "source": [
    "column = (data_frame[data_frame['values'] > 98.50]).index.values.tolist()  \n",
    "column"
   ]
  },
  {
   "cell_type": "code",
   "execution_count": 78,
   "id": "132f76f5",
   "metadata": {},
   "outputs": [],
   "source": [
    "# Dropping all columns which do not capture any variance\n",
    "leads_data = leads_data.drop(column, 1)"
   ]
  },
  {
   "cell_type": "code",
   "execution_count": 79,
   "id": "cb7b878f",
   "metadata": {},
   "outputs": [
    {
     "data": {
      "text/plain": [
       "(8924, 27)"
      ]
     },
     "execution_count": 79,
     "metadata": {},
     "output_type": "execute_result"
    }
   ],
   "source": [
    "leads_data.shape"
   ]
  },
  {
   "cell_type": "code",
   "execution_count": 80,
   "id": "fc620e78",
   "metadata": {},
   "outputs": [
    {
     "data": {
      "text/html": [
       "<div>\n",
       "<style scoped>\n",
       "    .dataframe tbody tr th:only-of-type {\n",
       "        vertical-align: middle;\n",
       "    }\n",
       "\n",
       "    .dataframe tbody tr th {\n",
       "        vertical-align: top;\n",
       "    }\n",
       "\n",
       "    .dataframe thead th {\n",
       "        text-align: right;\n",
       "    }\n",
       "</style>\n",
       "<table border=\"1\" class=\"dataframe\">\n",
       "  <thead>\n",
       "    <tr style=\"text-align: right;\">\n",
       "      <th></th>\n",
       "      <th>Lead Number</th>\n",
       "      <th>Do Not Email</th>\n",
       "      <th>Converted</th>\n",
       "      <th>Total Time Spent on Website</th>\n",
       "      <th>A free copy of Mastering The Interview</th>\n",
       "      <th>TotalVisits</th>\n",
       "      <th>Page Views Per Visit</th>\n",
       "      <th>Lead Origin_landing page submission</th>\n",
       "      <th>Lead Origin_lead add form</th>\n",
       "      <th>Lead Source_direct traffic</th>\n",
       "      <th>...</th>\n",
       "      <th>Last Activity_email opened</th>\n",
       "      <th>Last Activity_olark chat conversation</th>\n",
       "      <th>Last Activity_page visited on website</th>\n",
       "      <th>Last Activity_sms sent</th>\n",
       "      <th>Last Notable Activity_email link clicked</th>\n",
       "      <th>Last Notable Activity_email opened</th>\n",
       "      <th>Last Notable Activity_modified</th>\n",
       "      <th>Last Notable Activity_olark chat conversation</th>\n",
       "      <th>Last Notable Activity_page visited on website</th>\n",
       "      <th>Last Notable Activity_sms sent</th>\n",
       "    </tr>\n",
       "  </thead>\n",
       "  <tbody>\n",
       "    <tr>\n",
       "      <th>0</th>\n",
       "      <td>660737</td>\n",
       "      <td>0</td>\n",
       "      <td>0</td>\n",
       "      <td>0</td>\n",
       "      <td>0</td>\n",
       "      <td>0.0</td>\n",
       "      <td>0.0</td>\n",
       "      <td>0</td>\n",
       "      <td>0</td>\n",
       "      <td>0</td>\n",
       "      <td>...</td>\n",
       "      <td>0</td>\n",
       "      <td>0</td>\n",
       "      <td>1</td>\n",
       "      <td>0</td>\n",
       "      <td>0</td>\n",
       "      <td>0</td>\n",
       "      <td>1</td>\n",
       "      <td>0</td>\n",
       "      <td>0</td>\n",
       "      <td>0</td>\n",
       "    </tr>\n",
       "    <tr>\n",
       "      <th>1</th>\n",
       "      <td>660728</td>\n",
       "      <td>0</td>\n",
       "      <td>0</td>\n",
       "      <td>674</td>\n",
       "      <td>0</td>\n",
       "      <td>5.0</td>\n",
       "      <td>2.5</td>\n",
       "      <td>0</td>\n",
       "      <td>0</td>\n",
       "      <td>0</td>\n",
       "      <td>...</td>\n",
       "      <td>1</td>\n",
       "      <td>0</td>\n",
       "      <td>0</td>\n",
       "      <td>0</td>\n",
       "      <td>0</td>\n",
       "      <td>1</td>\n",
       "      <td>0</td>\n",
       "      <td>0</td>\n",
       "      <td>0</td>\n",
       "      <td>0</td>\n",
       "    </tr>\n",
       "    <tr>\n",
       "      <th>2</th>\n",
       "      <td>660727</td>\n",
       "      <td>0</td>\n",
       "      <td>1</td>\n",
       "      <td>1532</td>\n",
       "      <td>1</td>\n",
       "      <td>2.0</td>\n",
       "      <td>2.0</td>\n",
       "      <td>1</td>\n",
       "      <td>0</td>\n",
       "      <td>1</td>\n",
       "      <td>...</td>\n",
       "      <td>1</td>\n",
       "      <td>0</td>\n",
       "      <td>0</td>\n",
       "      <td>0</td>\n",
       "      <td>0</td>\n",
       "      <td>1</td>\n",
       "      <td>0</td>\n",
       "      <td>0</td>\n",
       "      <td>0</td>\n",
       "      <td>0</td>\n",
       "    </tr>\n",
       "    <tr>\n",
       "      <th>3</th>\n",
       "      <td>660719</td>\n",
       "      <td>0</td>\n",
       "      <td>0</td>\n",
       "      <td>305</td>\n",
       "      <td>0</td>\n",
       "      <td>1.0</td>\n",
       "      <td>1.0</td>\n",
       "      <td>1</td>\n",
       "      <td>0</td>\n",
       "      <td>1</td>\n",
       "      <td>...</td>\n",
       "      <td>0</td>\n",
       "      <td>0</td>\n",
       "      <td>0</td>\n",
       "      <td>0</td>\n",
       "      <td>0</td>\n",
       "      <td>0</td>\n",
       "      <td>1</td>\n",
       "      <td>0</td>\n",
       "      <td>0</td>\n",
       "      <td>0</td>\n",
       "    </tr>\n",
       "    <tr>\n",
       "      <th>4</th>\n",
       "      <td>660681</td>\n",
       "      <td>0</td>\n",
       "      <td>1</td>\n",
       "      <td>1428</td>\n",
       "      <td>0</td>\n",
       "      <td>2.0</td>\n",
       "      <td>1.0</td>\n",
       "      <td>1</td>\n",
       "      <td>0</td>\n",
       "      <td>0</td>\n",
       "      <td>...</td>\n",
       "      <td>0</td>\n",
       "      <td>0</td>\n",
       "      <td>0</td>\n",
       "      <td>0</td>\n",
       "      <td>0</td>\n",
       "      <td>0</td>\n",
       "      <td>1</td>\n",
       "      <td>0</td>\n",
       "      <td>0</td>\n",
       "      <td>0</td>\n",
       "    </tr>\n",
       "  </tbody>\n",
       "</table>\n",
       "<p>5 rows × 27 columns</p>\n",
       "</div>"
      ],
      "text/plain": [
       "   Lead Number  Do Not Email  Converted  Total Time Spent on Website  \\\n",
       "0       660737             0          0                            0   \n",
       "1       660728             0          0                          674   \n",
       "2       660727             0          1                         1532   \n",
       "3       660719             0          0                          305   \n",
       "4       660681             0          1                         1428   \n",
       "\n",
       "   A free copy of Mastering The Interview  TotalVisits  Page Views Per Visit  \\\n",
       "0                                       0          0.0                   0.0   \n",
       "1                                       0          5.0                   2.5   \n",
       "2                                       1          2.0                   2.0   \n",
       "3                                       0          1.0                   1.0   \n",
       "4                                       0          2.0                   1.0   \n",
       "\n",
       "   Lead Origin_landing page submission  Lead Origin_lead add form  \\\n",
       "0                                    0                          0   \n",
       "1                                    0                          0   \n",
       "2                                    1                          0   \n",
       "3                                    1                          0   \n",
       "4                                    1                          0   \n",
       "\n",
       "   Lead Source_direct traffic  ...  Last Activity_email opened  \\\n",
       "0                           0  ...                           0   \n",
       "1                           0  ...                           1   \n",
       "2                           1  ...                           1   \n",
       "3                           1  ...                           0   \n",
       "4                           0  ...                           0   \n",
       "\n",
       "   Last Activity_olark chat conversation  \\\n",
       "0                                      0   \n",
       "1                                      0   \n",
       "2                                      0   \n",
       "3                                      0   \n",
       "4                                      0   \n",
       "\n",
       "   Last Activity_page visited on website  Last Activity_sms sent  \\\n",
       "0                                      1                       0   \n",
       "1                                      0                       0   \n",
       "2                                      0                       0   \n",
       "3                                      0                       0   \n",
       "4                                      0                       0   \n",
       "\n",
       "   Last Notable Activity_email link clicked  \\\n",
       "0                                         0   \n",
       "1                                         0   \n",
       "2                                         0   \n",
       "3                                         0   \n",
       "4                                         0   \n",
       "\n",
       "   Last Notable Activity_email opened  Last Notable Activity_modified  \\\n",
       "0                                   0                               1   \n",
       "1                                   1                               0   \n",
       "2                                   1                               0   \n",
       "3                                   0                               1   \n",
       "4                                   0                               1   \n",
       "\n",
       "   Last Notable Activity_olark chat conversation  \\\n",
       "0                                              0   \n",
       "1                                              0   \n",
       "2                                              0   \n",
       "3                                              0   \n",
       "4                                              0   \n",
       "\n",
       "   Last Notable Activity_page visited on website  \\\n",
       "0                                              0   \n",
       "1                                              0   \n",
       "2                                              0   \n",
       "3                                              0   \n",
       "4                                              0   \n",
       "\n",
       "   Last Notable Activity_sms sent  \n",
       "0                               0  \n",
       "1                               0  \n",
       "2                               0  \n",
       "3                               0  \n",
       "4                               0  \n",
       "\n",
       "[5 rows x 27 columns]"
      ]
     },
     "execution_count": 80,
     "metadata": {},
     "output_type": "execute_result"
    }
   ],
   "source": [
    "leads_data.head()"
   ]
  },
  {
   "cell_type": "markdown",
   "id": "a697b9d5",
   "metadata": {},
   "source": [
    "## Checking the lead conversion rate"
   ]
  },
  {
   "cell_type": "code",
   "execution_count": 82,
   "id": "594fa951",
   "metadata": {},
   "outputs": [
    {
     "data": {
      "text/plain": [
       "37.75212909009413"
      ]
     },
     "execution_count": 82,
     "metadata": {},
     "output_type": "execute_result"
    }
   ],
   "source": [
    "converted_leads = (sum(leads_data['Converted'])/len(leads_data['Converted'].index))*100\n",
    "converted_leads"
   ]
  },
  {
   "cell_type": "markdown",
   "id": "19d5c469",
   "metadata": {},
   "source": [
    "Comments-<br>\n",
    "         - It can be sseen that in the dataframe,the leads conversion rate is around 38%. We can proceed to model building now."
   ]
  },
  {
   "cell_type": "markdown",
   "id": "073d682b",
   "metadata": {},
   "source": [
    "# Train Test Split"
   ]
  },
  {
   "cell_type": "code",
   "execution_count": 83,
   "id": "f3ea785c",
   "metadata": {},
   "outputs": [],
   "source": [
    "from sklearn.model_selection import train_test_split"
   ]
  },
  {
   "cell_type": "code",
   "execution_count": 86,
   "id": "39675592",
   "metadata": {},
   "outputs": [
    {
     "data": {
      "text/html": [
       "<div>\n",
       "<style scoped>\n",
       "    .dataframe tbody tr th:only-of-type {\n",
       "        vertical-align: middle;\n",
       "    }\n",
       "\n",
       "    .dataframe tbody tr th {\n",
       "        vertical-align: top;\n",
       "    }\n",
       "\n",
       "    .dataframe thead th {\n",
       "        text-align: right;\n",
       "    }\n",
       "</style>\n",
       "<table border=\"1\" class=\"dataframe\">\n",
       "  <thead>\n",
       "    <tr style=\"text-align: right;\">\n",
       "      <th></th>\n",
       "      <th>Do Not Email</th>\n",
       "      <th>Total Time Spent on Website</th>\n",
       "      <th>A free copy of Mastering The Interview</th>\n",
       "      <th>TotalVisits</th>\n",
       "      <th>Page Views Per Visit</th>\n",
       "      <th>Lead Origin_landing page submission</th>\n",
       "      <th>Lead Origin_lead add form</th>\n",
       "      <th>Lead Source_direct traffic</th>\n",
       "      <th>Lead Source_google</th>\n",
       "      <th>Lead Source_olark chat</th>\n",
       "      <th>...</th>\n",
       "      <th>Last Activity_email opened</th>\n",
       "      <th>Last Activity_olark chat conversation</th>\n",
       "      <th>Last Activity_page visited on website</th>\n",
       "      <th>Last Activity_sms sent</th>\n",
       "      <th>Last Notable Activity_email link clicked</th>\n",
       "      <th>Last Notable Activity_email opened</th>\n",
       "      <th>Last Notable Activity_modified</th>\n",
       "      <th>Last Notable Activity_olark chat conversation</th>\n",
       "      <th>Last Notable Activity_page visited on website</th>\n",
       "      <th>Last Notable Activity_sms sent</th>\n",
       "    </tr>\n",
       "  </thead>\n",
       "  <tbody>\n",
       "    <tr>\n",
       "      <th>0</th>\n",
       "      <td>0</td>\n",
       "      <td>0</td>\n",
       "      <td>0</td>\n",
       "      <td>0.0</td>\n",
       "      <td>0.0</td>\n",
       "      <td>0</td>\n",
       "      <td>0</td>\n",
       "      <td>0</td>\n",
       "      <td>0</td>\n",
       "      <td>1</td>\n",
       "      <td>...</td>\n",
       "      <td>0</td>\n",
       "      <td>0</td>\n",
       "      <td>1</td>\n",
       "      <td>0</td>\n",
       "      <td>0</td>\n",
       "      <td>0</td>\n",
       "      <td>1</td>\n",
       "      <td>0</td>\n",
       "      <td>0</td>\n",
       "      <td>0</td>\n",
       "    </tr>\n",
       "    <tr>\n",
       "      <th>1</th>\n",
       "      <td>0</td>\n",
       "      <td>674</td>\n",
       "      <td>0</td>\n",
       "      <td>5.0</td>\n",
       "      <td>2.5</td>\n",
       "      <td>0</td>\n",
       "      <td>0</td>\n",
       "      <td>0</td>\n",
       "      <td>0</td>\n",
       "      <td>0</td>\n",
       "      <td>...</td>\n",
       "      <td>1</td>\n",
       "      <td>0</td>\n",
       "      <td>0</td>\n",
       "      <td>0</td>\n",
       "      <td>0</td>\n",
       "      <td>1</td>\n",
       "      <td>0</td>\n",
       "      <td>0</td>\n",
       "      <td>0</td>\n",
       "      <td>0</td>\n",
       "    </tr>\n",
       "    <tr>\n",
       "      <th>2</th>\n",
       "      <td>0</td>\n",
       "      <td>1532</td>\n",
       "      <td>1</td>\n",
       "      <td>2.0</td>\n",
       "      <td>2.0</td>\n",
       "      <td>1</td>\n",
       "      <td>0</td>\n",
       "      <td>1</td>\n",
       "      <td>0</td>\n",
       "      <td>0</td>\n",
       "      <td>...</td>\n",
       "      <td>1</td>\n",
       "      <td>0</td>\n",
       "      <td>0</td>\n",
       "      <td>0</td>\n",
       "      <td>0</td>\n",
       "      <td>1</td>\n",
       "      <td>0</td>\n",
       "      <td>0</td>\n",
       "      <td>0</td>\n",
       "      <td>0</td>\n",
       "    </tr>\n",
       "    <tr>\n",
       "      <th>3</th>\n",
       "      <td>0</td>\n",
       "      <td>305</td>\n",
       "      <td>0</td>\n",
       "      <td>1.0</td>\n",
       "      <td>1.0</td>\n",
       "      <td>1</td>\n",
       "      <td>0</td>\n",
       "      <td>1</td>\n",
       "      <td>0</td>\n",
       "      <td>0</td>\n",
       "      <td>...</td>\n",
       "      <td>0</td>\n",
       "      <td>0</td>\n",
       "      <td>0</td>\n",
       "      <td>0</td>\n",
       "      <td>0</td>\n",
       "      <td>0</td>\n",
       "      <td>1</td>\n",
       "      <td>0</td>\n",
       "      <td>0</td>\n",
       "      <td>0</td>\n",
       "    </tr>\n",
       "    <tr>\n",
       "      <th>4</th>\n",
       "      <td>0</td>\n",
       "      <td>1428</td>\n",
       "      <td>0</td>\n",
       "      <td>2.0</td>\n",
       "      <td>1.0</td>\n",
       "      <td>1</td>\n",
       "      <td>0</td>\n",
       "      <td>0</td>\n",
       "      <td>1</td>\n",
       "      <td>0</td>\n",
       "      <td>...</td>\n",
       "      <td>0</td>\n",
       "      <td>0</td>\n",
       "      <td>0</td>\n",
       "      <td>0</td>\n",
       "      <td>0</td>\n",
       "      <td>0</td>\n",
       "      <td>1</td>\n",
       "      <td>0</td>\n",
       "      <td>0</td>\n",
       "      <td>0</td>\n",
       "    </tr>\n",
       "  </tbody>\n",
       "</table>\n",
       "<p>5 rows × 25 columns</p>\n",
       "</div>"
      ],
      "text/plain": [
       "   Do Not Email  Total Time Spent on Website  \\\n",
       "0             0                            0   \n",
       "1             0                          674   \n",
       "2             0                         1532   \n",
       "3             0                          305   \n",
       "4             0                         1428   \n",
       "\n",
       "   A free copy of Mastering The Interview  TotalVisits  Page Views Per Visit  \\\n",
       "0                                       0          0.0                   0.0   \n",
       "1                                       0          5.0                   2.5   \n",
       "2                                       1          2.0                   2.0   \n",
       "3                                       0          1.0                   1.0   \n",
       "4                                       0          2.0                   1.0   \n",
       "\n",
       "   Lead Origin_landing page submission  Lead Origin_lead add form  \\\n",
       "0                                    0                          0   \n",
       "1                                    0                          0   \n",
       "2                                    1                          0   \n",
       "3                                    1                          0   \n",
       "4                                    1                          0   \n",
       "\n",
       "   Lead Source_direct traffic  Lead Source_google  Lead Source_olark chat  \\\n",
       "0                           0                   0                       1   \n",
       "1                           0                   0                       0   \n",
       "2                           1                   0                       0   \n",
       "3                           1                   0                       0   \n",
       "4                           0                   1                       0   \n",
       "\n",
       "   ...  Last Activity_email opened  Last Activity_olark chat conversation  \\\n",
       "0  ...                           0                                      0   \n",
       "1  ...                           1                                      0   \n",
       "2  ...                           1                                      0   \n",
       "3  ...                           0                                      0   \n",
       "4  ...                           0                                      0   \n",
       "\n",
       "   Last Activity_page visited on website  Last Activity_sms sent  \\\n",
       "0                                      1                       0   \n",
       "1                                      0                       0   \n",
       "2                                      0                       0   \n",
       "3                                      0                       0   \n",
       "4                                      0                       0   \n",
       "\n",
       "   Last Notable Activity_email link clicked  \\\n",
       "0                                         0   \n",
       "1                                         0   \n",
       "2                                         0   \n",
       "3                                         0   \n",
       "4                                         0   \n",
       "\n",
       "   Last Notable Activity_email opened  Last Notable Activity_modified  \\\n",
       "0                                   0                               1   \n",
       "1                                   1                               0   \n",
       "2                                   1                               0   \n",
       "3                                   0                               1   \n",
       "4                                   0                               1   \n",
       "\n",
       "   Last Notable Activity_olark chat conversation  \\\n",
       "0                                              0   \n",
       "1                                              0   \n",
       "2                                              0   \n",
       "3                                              0   \n",
       "4                                              0   \n",
       "\n",
       "   Last Notable Activity_page visited on website  \\\n",
       "0                                              0   \n",
       "1                                              0   \n",
       "2                                              0   \n",
       "3                                              0   \n",
       "4                                              0   \n",
       "\n",
       "   Last Notable Activity_sms sent  \n",
       "0                               0  \n",
       "1                               0  \n",
       "2                               0  \n",
       "3                               0  \n",
       "4                               0  \n",
       "\n",
       "[5 rows x 25 columns]"
      ]
     },
     "execution_count": 86,
     "metadata": {},
     "output_type": "execute_result"
    }
   ],
   "source": [
    "X = leads_data.drop(['Converted', 'Lead Number'], 1)\n",
    "X.head()"
   ]
  },
  {
   "cell_type": "code",
   "execution_count": 85,
   "id": "d29bbf5c",
   "metadata": {
    "scrolled": true
   },
   "outputs": [
    {
     "data": {
      "text/plain": [
       "0    0\n",
       "1    0\n",
       "2    1\n",
       "3    0\n",
       "4    1\n",
       "Name: Converted, dtype: int64"
      ]
     },
     "execution_count": 85,
     "metadata": {},
     "output_type": "execute_result"
    }
   ],
   "source": [
    "# Putting the target variable in y\n",
    "y = leads_data['Converted']\n",
    "y.head() "
   ]
  },
  {
   "cell_type": "code",
   "execution_count": 87,
   "id": "a7939048",
   "metadata": {},
   "outputs": [],
   "source": [
    "# Split the dataset into 70% and 30% for train and test respectively\n",
    "X_train, X_test, y_train, y_test = train_test_split(X, y, train_size=0.7, test_size=0.3, random_state=10)"
   ]
  },
  {
   "cell_type": "code",
   "execution_count": 88,
   "id": "ac079aed",
   "metadata": {
    "scrolled": true
   },
   "outputs": [
    {
     "data": {
      "text/html": [
       "<div>\n",
       "<style scoped>\n",
       "    .dataframe tbody tr th:only-of-type {\n",
       "        vertical-align: middle;\n",
       "    }\n",
       "\n",
       "    .dataframe tbody tr th {\n",
       "        vertical-align: top;\n",
       "    }\n",
       "\n",
       "    .dataframe thead th {\n",
       "        text-align: right;\n",
       "    }\n",
       "</style>\n",
       "<table border=\"1\" class=\"dataframe\">\n",
       "  <thead>\n",
       "    <tr style=\"text-align: right;\">\n",
       "      <th></th>\n",
       "      <th>Do Not Email</th>\n",
       "      <th>Total Time Spent on Website</th>\n",
       "      <th>A free copy of Mastering The Interview</th>\n",
       "      <th>TotalVisits</th>\n",
       "      <th>Page Views Per Visit</th>\n",
       "      <th>Lead Origin_landing page submission</th>\n",
       "      <th>Lead Origin_lead add form</th>\n",
       "      <th>Lead Source_direct traffic</th>\n",
       "      <th>Lead Source_google</th>\n",
       "      <th>Lead Source_olark chat</th>\n",
       "      <th>...</th>\n",
       "      <th>Last Activity_email opened</th>\n",
       "      <th>Last Activity_olark chat conversation</th>\n",
       "      <th>Last Activity_page visited on website</th>\n",
       "      <th>Last Activity_sms sent</th>\n",
       "      <th>Last Notable Activity_email link clicked</th>\n",
       "      <th>Last Notable Activity_email opened</th>\n",
       "      <th>Last Notable Activity_modified</th>\n",
       "      <th>Last Notable Activity_olark chat conversation</th>\n",
       "      <th>Last Notable Activity_page visited on website</th>\n",
       "      <th>Last Notable Activity_sms sent</th>\n",
       "    </tr>\n",
       "  </thead>\n",
       "  <tbody>\n",
       "    <tr>\n",
       "      <th>8823</th>\n",
       "      <td>0</td>\n",
       "      <td>0.524648</td>\n",
       "      <td>0</td>\n",
       "      <td>0.235294</td>\n",
       "      <td>0.444444</td>\n",
       "      <td>1</td>\n",
       "      <td>0</td>\n",
       "      <td>1</td>\n",
       "      <td>0</td>\n",
       "      <td>0</td>\n",
       "      <td>...</td>\n",
       "      <td>1</td>\n",
       "      <td>0</td>\n",
       "      <td>0</td>\n",
       "      <td>0</td>\n",
       "      <td>0</td>\n",
       "      <td>0</td>\n",
       "      <td>1</td>\n",
       "      <td>0</td>\n",
       "      <td>0</td>\n",
       "      <td>0</td>\n",
       "    </tr>\n",
       "    <tr>\n",
       "      <th>7671</th>\n",
       "      <td>0</td>\n",
       "      <td>0.000000</td>\n",
       "      <td>0</td>\n",
       "      <td>0.000000</td>\n",
       "      <td>0.000000</td>\n",
       "      <td>0</td>\n",
       "      <td>0</td>\n",
       "      <td>0</td>\n",
       "      <td>0</td>\n",
       "      <td>1</td>\n",
       "      <td>...</td>\n",
       "      <td>0</td>\n",
       "      <td>1</td>\n",
       "      <td>0</td>\n",
       "      <td>0</td>\n",
       "      <td>0</td>\n",
       "      <td>0</td>\n",
       "      <td>0</td>\n",
       "      <td>1</td>\n",
       "      <td>0</td>\n",
       "      <td>0</td>\n",
       "    </tr>\n",
       "    <tr>\n",
       "      <th>1371</th>\n",
       "      <td>0</td>\n",
       "      <td>0.706866</td>\n",
       "      <td>0</td>\n",
       "      <td>0.117647</td>\n",
       "      <td>0.222222</td>\n",
       "      <td>0</td>\n",
       "      <td>0</td>\n",
       "      <td>0</td>\n",
       "      <td>1</td>\n",
       "      <td>0</td>\n",
       "      <td>...</td>\n",
       "      <td>1</td>\n",
       "      <td>0</td>\n",
       "      <td>0</td>\n",
       "      <td>0</td>\n",
       "      <td>0</td>\n",
       "      <td>1</td>\n",
       "      <td>0</td>\n",
       "      <td>0</td>\n",
       "      <td>0</td>\n",
       "      <td>0</td>\n",
       "    </tr>\n",
       "    <tr>\n",
       "      <th>3143</th>\n",
       "      <td>0</td>\n",
       "      <td>0.000000</td>\n",
       "      <td>0</td>\n",
       "      <td>0.000000</td>\n",
       "      <td>0.000000</td>\n",
       "      <td>0</td>\n",
       "      <td>0</td>\n",
       "      <td>0</td>\n",
       "      <td>0</td>\n",
       "      <td>1</td>\n",
       "      <td>...</td>\n",
       "      <td>0</td>\n",
       "      <td>1</td>\n",
       "      <td>0</td>\n",
       "      <td>0</td>\n",
       "      <td>0</td>\n",
       "      <td>0</td>\n",
       "      <td>1</td>\n",
       "      <td>0</td>\n",
       "      <td>0</td>\n",
       "      <td>0</td>\n",
       "    </tr>\n",
       "    <tr>\n",
       "      <th>1376</th>\n",
       "      <td>0</td>\n",
       "      <td>0.081426</td>\n",
       "      <td>0</td>\n",
       "      <td>0.235294</td>\n",
       "      <td>0.444444</td>\n",
       "      <td>0</td>\n",
       "      <td>0</td>\n",
       "      <td>0</td>\n",
       "      <td>1</td>\n",
       "      <td>0</td>\n",
       "      <td>...</td>\n",
       "      <td>0</td>\n",
       "      <td>0</td>\n",
       "      <td>1</td>\n",
       "      <td>0</td>\n",
       "      <td>0</td>\n",
       "      <td>0</td>\n",
       "      <td>1</td>\n",
       "      <td>0</td>\n",
       "      <td>0</td>\n",
       "      <td>0</td>\n",
       "    </tr>\n",
       "  </tbody>\n",
       "</table>\n",
       "<p>5 rows × 25 columns</p>\n",
       "</div>"
      ],
      "text/plain": [
       "      Do Not Email  Total Time Spent on Website  \\\n",
       "8823             0                     0.524648   \n",
       "7671             0                     0.000000   \n",
       "1371             0                     0.706866   \n",
       "3143             0                     0.000000   \n",
       "1376             0                     0.081426   \n",
       "\n",
       "      A free copy of Mastering The Interview  TotalVisits  \\\n",
       "8823                                       0     0.235294   \n",
       "7671                                       0     0.000000   \n",
       "1371                                       0     0.117647   \n",
       "3143                                       0     0.000000   \n",
       "1376                                       0     0.235294   \n",
       "\n",
       "      Page Views Per Visit  Lead Origin_landing page submission  \\\n",
       "8823              0.444444                                    1   \n",
       "7671              0.000000                                    0   \n",
       "1371              0.222222                                    0   \n",
       "3143              0.000000                                    0   \n",
       "1376              0.444444                                    0   \n",
       "\n",
       "      Lead Origin_lead add form  Lead Source_direct traffic  \\\n",
       "8823                          0                           1   \n",
       "7671                          0                           0   \n",
       "1371                          0                           0   \n",
       "3143                          0                           0   \n",
       "1376                          0                           0   \n",
       "\n",
       "      Lead Source_google  Lead Source_olark chat  ...  \\\n",
       "8823                   0                       0  ...   \n",
       "7671                   0                       1  ...   \n",
       "1371                   1                       0  ...   \n",
       "3143                   0                       1  ...   \n",
       "1376                   1                       0  ...   \n",
       "\n",
       "      Last Activity_email opened  Last Activity_olark chat conversation  \\\n",
       "8823                           1                                      0   \n",
       "7671                           0                                      1   \n",
       "1371                           1                                      0   \n",
       "3143                           0                                      1   \n",
       "1376                           0                                      0   \n",
       "\n",
       "      Last Activity_page visited on website  Last Activity_sms sent  \\\n",
       "8823                                      0                       0   \n",
       "7671                                      0                       0   \n",
       "1371                                      0                       0   \n",
       "3143                                      0                       0   \n",
       "1376                                      1                       0   \n",
       "\n",
       "      Last Notable Activity_email link clicked  \\\n",
       "8823                                         0   \n",
       "7671                                         0   \n",
       "1371                                         0   \n",
       "3143                                         0   \n",
       "1376                                         0   \n",
       "\n",
       "      Last Notable Activity_email opened  Last Notable Activity_modified  \\\n",
       "8823                                   0                               1   \n",
       "7671                                   0                               0   \n",
       "1371                                   1                               0   \n",
       "3143                                   0                               1   \n",
       "1376                                   0                               1   \n",
       "\n",
       "      Last Notable Activity_olark chat conversation  \\\n",
       "8823                                              0   \n",
       "7671                                              1   \n",
       "1371                                              0   \n",
       "3143                                              0   \n",
       "1376                                              0   \n",
       "\n",
       "      Last Notable Activity_page visited on website  \\\n",
       "8823                                              0   \n",
       "7671                                              0   \n",
       "1371                                              0   \n",
       "3143                                              0   \n",
       "1376                                              0   \n",
       "\n",
       "      Last Notable Activity_sms sent  \n",
       "8823                               0  \n",
       "7671                               0  \n",
       "1371                               0  \n",
       "3143                               0  \n",
       "1376                               0  \n",
       "\n",
       "[5 rows x 25 columns]"
      ]
     },
     "execution_count": 88,
     "metadata": {},
     "output_type": "execute_result"
    }
   ],
   "source": [
    "# Import MinMax scaler\n",
    "from sklearn.preprocessing import MinMaxScaler\n",
    "# Scale the three numeric features\n",
    "scaler = MinMaxScaler()\n",
    "X_train[['TotalVisits', 'Page Views Per Visit', 'Total Time Spent on Website']] = scaler.fit_transform(X_train[['TotalVisits', 'Page Views Per Visit', 'Total Time Spent on Website']])\n",
    "X_train.head()"
   ]
  },
  {
   "cell_type": "code",
   "execution_count": 89,
   "id": "97cf02db",
   "metadata": {},
   "outputs": [
    {
     "data": {
      "image/png": "[encoded data removed]",
      "text/plain": [
       "<Figure size 1440x2160 with 2 Axes>"
      ]
     },
     "metadata": {
      "needs_background": "light"
     },
     "output_type": "display_data"
    }
   ],
   "source": [
    "# To check the correlation among varibles\n",
    "plt.figure(figsize=(20,30))\n",
    "sns.heatmap(X_train.corr())\n",
    "plt.show()"
   ]
  },
  {
   "cell_type": "markdown",
   "id": "b5b7eaaf",
   "metadata": {},
   "source": [
    "Comments-<br>\n",
    "         - Some correlations can be observed. So, the top variables needs to be selected using RFE."
   ]
  },
  {
   "cell_type": "markdown",
   "id": "cfb3dbb1",
   "metadata": {},
   "source": [
    "# Model Building"
   ]
  },
  {
   "cell_type": "code",
   "execution_count": 90,
   "id": "72b4b45f",
   "metadata": {},
   "outputs": [],
   "source": [
    "# Importing 'LogisticRegression'\n",
    "from sklearn.linear_model import LogisticRegression\n",
    "logreg = LogisticRegression()"
   ]
  },
  {
   "cell_type": "code",
   "execution_count": 91,
   "id": "41236e42",
   "metadata": {},
   "outputs": [],
   "source": [
    "# Importing RFE\n",
    "from sklearn.feature_selection import RFE"
   ]
  },
  {
   "cell_type": "code",
   "execution_count": 92,
   "id": "d08866b1",
   "metadata": {},
   "outputs": [],
   "source": [
    "# Running RFE to select top 15 variables\n",
    "rfe = RFE(logreg, 15)\n",
    "rfe = rfe.fit(X_train, y_train)"
   ]
  },
  {
   "cell_type": "code",
   "execution_count": 93,
   "id": "c37675d4",
   "metadata": {},
   "outputs": [
    {
     "data": {
      "text/plain": [
       "[('Do Not Email', True, 1),\n",
       " ('Total Time Spent on Website', True, 1),\n",
       " ('A free copy of Mastering The Interview', False, 8),\n",
       " ('TotalVisits', True, 1),\n",
       " ('Page Views Per Visit', True, 1),\n",
       " ('Lead Origin_landing page submission', False, 10),\n",
       " ('Lead Origin_lead add form', True, 1),\n",
       " ('Lead Source_direct traffic', False, 2),\n",
       " ('Lead Source_google', False, 4),\n",
       " ('Lead Source_olark chat', True, 1),\n",
       " ('Lead Source_organic search', False, 3),\n",
       " ('Lead Source_reference', False, 7),\n",
       " ('Last Activity_converted to lead', True, 1),\n",
       " ('Last Activity_email bounced', True, 1),\n",
       " ('Last Activity_email link clicked', False, 9),\n",
       " ('Last Activity_email opened', False, 6),\n",
       " ('Last Activity_olark chat conversation', True, 1),\n",
       " ('Last Activity_page visited on website', True, 1),\n",
       " ('Last Activity_sms sent', False, 5),\n",
       " ('Last Notable Activity_email link clicked', True, 1),\n",
       " ('Last Notable Activity_email opened', True, 1),\n",
       " ('Last Notable Activity_modified', True, 1),\n",
       " ('Last Notable Activity_olark chat conversation', True, 1),\n",
       " ('Last Notable Activity_page visited on website', True, 1),\n",
       " ('Last Notable Activity_sms sent', False, 11)]"
      ]
     },
     "execution_count": 93,
     "metadata": {},
     "output_type": "execute_result"
    }
   ],
   "source": [
    "# Checking out the features that have been selected by RFE\n",
    "list(zip(X_train.columns, rfe.support_, rfe.ranking_))"
   ]
  },
  {
   "cell_type": "code",
   "execution_count": 94,
   "id": "1d06a395",
   "metadata": {},
   "outputs": [],
   "source": [
    "# Putting all the columns selected by RFE in the variable 'imp'\n",
    "imp = X_train.columns[rfe.support_]"
   ]
  },
  {
   "cell_type": "markdown",
   "id": "7dd57cf1",
   "metadata": {},
   "source": [
    "Comments-<br>\n",
    "         All the top features have been selected using RFE. Now it's time to look after the P- Value and VIF."
   ]
  },
  {
   "cell_type": "code",
   "execution_count": 95,
   "id": "7d3ae07b",
   "metadata": {},
   "outputs": [],
   "source": [
    "# Selecting columns selected by RFE\n",
    "X_train = X_train[imp]"
   ]
  },
  {
   "cell_type": "code",
   "execution_count": 96,
   "id": "e62dc70b",
   "metadata": {},
   "outputs": [],
   "source": [
    "# Importing statsmodels\n",
    "import statsmodels.api as sm"
   ]
  },
  {
   "cell_type": "code",
   "execution_count": 97,
   "id": "a6d89f55",
   "metadata": {},
   "outputs": [
    {
     "data": {
      "text/html": [
       "<table class=\"simpletable\">\n",
       "<caption>Generalized Linear Model Regression Results</caption>\n",
       "<tr>\n",
       "  <th>Dep. Variable:</th>       <td>Converted</td>    <th>  No. Observations:  </th>  <td>  6246</td> \n",
       "</tr>\n",
       "<tr>\n",
       "  <th>Model:</th>                  <td>GLM</td>       <th>  Df Residuals:      </th>  <td>  6230</td> \n",
       "</tr>\n",
       "<tr>\n",
       "  <th>Model Family:</th>        <td>Binomial</td>     <th>  Df Model:          </th>  <td>    15</td> \n",
       "</tr>\n",
       "<tr>\n",
       "  <th>Link Function:</th>         <td>logit</td>      <th>  Scale:             </th> <td>  1.0000</td>\n",
       "</tr>\n",
       "<tr>\n",
       "  <th>Method:</th>                <td>IRLS</td>       <th>  Log-Likelihood:    </th> <td> -2696.9</td>\n",
       "</tr>\n",
       "<tr>\n",
       "  <th>Date:</th>            <td>Mon, 17 Oct 2022</td> <th>  Deviance:          </th> <td>  5393.8</td>\n",
       "</tr>\n",
       "<tr>\n",
       "  <th>Time:</th>                <td>19:09:28</td>     <th>  Pearson chi2:      </th> <td>6.52e+03</td>\n",
       "</tr>\n",
       "<tr>\n",
       "  <th>No. Iterations:</th>          <td>6</td>        <th>                     </th>     <td> </td>   \n",
       "</tr>\n",
       "<tr>\n",
       "  <th>Covariance Type:</th>     <td>nonrobust</td>    <th>                     </th>     <td> </td>   \n",
       "</tr>\n",
       "</table>\n",
       "<table class=\"simpletable\">\n",
       "<tr>\n",
       "                        <td></td>                           <th>coef</th>     <th>std err</th>      <th>z</th>      <th>P>|z|</th>  <th>[0.025</th>    <th>0.975]</th>  \n",
       "</tr>\n",
       "<tr>\n",
       "  <th>const</th>                                         <td>   -0.6414</td> <td>    0.114</td> <td>   -5.606</td> <td> 0.000</td> <td>   -0.866</td> <td>   -0.417</td>\n",
       "</tr>\n",
       "<tr>\n",
       "  <th>Do Not Email</th>                                  <td>   -1.5410</td> <td>    0.194</td> <td>   -7.934</td> <td> 0.000</td> <td>   -1.922</td> <td>   -1.160</td>\n",
       "</tr>\n",
       "<tr>\n",
       "  <th>Total Time Spent on Website</th>                   <td>    4.7817</td> <td>    0.167</td> <td>   28.636</td> <td> 0.000</td> <td>    4.454</td> <td>    5.109</td>\n",
       "</tr>\n",
       "<tr>\n",
       "  <th>TotalVisits</th>                                   <td>    1.6742</td> <td>    0.288</td> <td>    5.803</td> <td> 0.000</td> <td>    1.109</td> <td>    2.240</td>\n",
       "</tr>\n",
       "<tr>\n",
       "  <th>Page Views Per Visit</th>                          <td>   -1.1876</td> <td>    0.254</td> <td>   -4.679</td> <td> 0.000</td> <td>   -1.685</td> <td>   -0.690</td>\n",
       "</tr>\n",
       "<tr>\n",
       "  <th>Lead Origin_lead add form</th>                     <td>    4.5301</td> <td>    0.235</td> <td>   19.293</td> <td> 0.000</td> <td>    4.070</td> <td>    4.990</td>\n",
       "</tr>\n",
       "<tr>\n",
       "  <th>Lead Source_olark chat</th>                        <td>    1.1197</td> <td>    0.125</td> <td>    8.983</td> <td> 0.000</td> <td>    0.875</td> <td>    1.364</td>\n",
       "</tr>\n",
       "<tr>\n",
       "  <th>Last Activity_converted to lead</th>               <td>   -1.1697</td> <td>    0.224</td> <td>   -5.227</td> <td> 0.000</td> <td>   -1.608</td> <td>   -0.731</td>\n",
       "</tr>\n",
       "<tr>\n",
       "  <th>Last Activity_email bounced</th>                   <td>   -1.0153</td> <td>    0.357</td> <td>   -2.847</td> <td> 0.004</td> <td>   -1.714</td> <td>   -0.316</td>\n",
       "</tr>\n",
       "<tr>\n",
       "  <th>Last Activity_olark chat conversation</th>         <td>   -1.5700</td> <td>    0.201</td> <td>   -7.796</td> <td> 0.000</td> <td>   -1.965</td> <td>   -1.175</td>\n",
       "</tr>\n",
       "<tr>\n",
       "  <th>Last Activity_page visited on website</th>         <td>   -0.6998</td> <td>    0.237</td> <td>   -2.949</td> <td> 0.003</td> <td>   -1.165</td> <td>   -0.235</td>\n",
       "</tr>\n",
       "<tr>\n",
       "  <th>Last Notable Activity_email link clicked</th>      <td>   -1.9832</td> <td>    0.254</td> <td>   -7.802</td> <td> 0.000</td> <td>   -2.481</td> <td>   -1.485</td>\n",
       "</tr>\n",
       "<tr>\n",
       "  <th>Last Notable Activity_email opened</th>            <td>   -1.4526</td> <td>    0.087</td> <td>  -16.765</td> <td> 0.000</td> <td>   -1.622</td> <td>   -1.283</td>\n",
       "</tr>\n",
       "<tr>\n",
       "  <th>Last Notable Activity_modified</th>                <td>   -1.6331</td> <td>    0.103</td> <td>  -15.870</td> <td> 0.000</td> <td>   -1.835</td> <td>   -1.431</td>\n",
       "</tr>\n",
       "<tr>\n",
       "  <th>Last Notable Activity_olark chat conversation</th> <td>   -1.8648</td> <td>    0.395</td> <td>   -4.717</td> <td> 0.000</td> <td>   -2.640</td> <td>   -1.090</td>\n",
       "</tr>\n",
       "<tr>\n",
       "  <th>Last Notable Activity_page visited on website</th> <td>   -1.3674</td> <td>    0.317</td> <td>   -4.317</td> <td> 0.000</td> <td>   -1.988</td> <td>   -0.747</td>\n",
       "</tr>\n",
       "</table>"
      ],
      "text/plain": [
       "<class 'statsmodels.iolib.summary.Summary'>\n",
       "\"\"\"\n",
       "                 Generalized Linear Model Regression Results                  \n",
       "==============================================================================\n",
       "Dep. Variable:              Converted   No. Observations:                 6246\n",
       "Model:                            GLM   Df Residuals:                     6230\n",
       "Model Family:                Binomial   Df Model:                           15\n",
       "Link Function:                  logit   Scale:                          1.0000\n",
       "Method:                          IRLS   Log-Likelihood:                -2696.9\n",
       "Date:                Mon, 17 Oct 2022   Deviance:                       5393.8\n",
       "Time:                        19:09:28   Pearson chi2:                 6.52e+03\n",
       "No. Iterations:                     6                                         \n",
       "Covariance Type:            nonrobust                                         \n",
       "=================================================================================================================\n",
       "                                                    coef    std err          z      P>|z|      [0.025      0.975]\n",
       "-----------------------------------------------------------------------------------------------------------------\n",
       "const                                            -0.6414      0.114     -5.606      0.000      -0.866      -0.417\n",
       "Do Not Email                                     -1.5410      0.194     -7.934      0.000      -1.922      -1.160\n",
       "Total Time Spent on Website                       4.7817      0.167     28.636      0.000       4.454       5.109\n",
       "TotalVisits                                       1.6742      0.288      5.803      0.000       1.109       2.240\n",
       "Page Views Per Visit                             -1.1876      0.254     -4.679      0.000      -1.685      -0.690\n",
       "Lead Origin_lead add form                         4.5301      0.235     19.293      0.000       4.070       4.990\n",
       "Lead Source_olark chat                            1.1197      0.125      8.983      0.000       0.875       1.364\n",
       "Last Activity_converted to lead                  -1.1697      0.224     -5.227      0.000      -1.608      -0.731\n",
       "Last Activity_email bounced                      -1.0153      0.357     -2.847      0.004      -1.714      -0.316\n",
       "Last Activity_olark chat conversation            -1.5700      0.201     -7.796      0.000      -1.965      -1.175\n",
       "Last Activity_page visited on website            -0.6998      0.237     -2.949      0.003      -1.165      -0.235\n",
       "Last Notable Activity_email link clicked         -1.9832      0.254     -7.802      0.000      -2.481      -1.485\n",
       "Last Notable Activity_email opened               -1.4526      0.087    -16.765      0.000      -1.622      -1.283\n",
       "Last Notable Activity_modified                   -1.6331      0.103    -15.870      0.000      -1.835      -1.431\n",
       "Last Notable Activity_olark chat conversation    -1.8648      0.395     -4.717      0.000      -2.640      -1.090\n",
       "Last Notable Activity_page visited on website    -1.3674      0.317     -4.317      0.000      -1.988      -0.747\n",
       "=================================================================================================================\n",
       "\"\"\""
      ]
     },
     "execution_count": 97,
     "metadata": {},
     "output_type": "execute_result"
    }
   ],
   "source": [
    "X_train_sm = sm.add_constant(X_train)\n",
    "logm1 = sm.GLM(y_train, X_train_sm, family = sm.families.Binomial())\n",
    "res = logm1.fit()\n",
    "res.summary()"
   ]
  },
  {
   "cell_type": "code",
   "execution_count": 98,
   "id": "a662a339",
   "metadata": {},
   "outputs": [],
   "source": [
    "# Importing 'variance_inflation_factor'\n",
    "from statsmodels.stats.outliers_influence import variance_inflation_factor"
   ]
  },
  {
   "cell_type": "code",
   "execution_count": 99,
   "id": "e1b53517",
   "metadata": {},
   "outputs": [
    {
     "data": {
      "text/html": [
       "<div>\n",
       "<style scoped>\n",
       "    .dataframe tbody tr th:only-of-type {\n",
       "        vertical-align: middle;\n",
       "    }\n",
       "\n",
       "    .dataframe tbody tr th {\n",
       "        vertical-align: top;\n",
       "    }\n",
       "\n",
       "    .dataframe thead th {\n",
       "        text-align: right;\n",
       "    }\n",
       "</style>\n",
       "<table border=\"1\" class=\"dataframe\">\n",
       "  <thead>\n",
       "    <tr style=\"text-align: right;\">\n",
       "      <th></th>\n",
       "      <th>Features</th>\n",
       "      <th>VIF</th>\n",
       "    </tr>\n",
       "  </thead>\n",
       "  <tbody>\n",
       "    <tr>\n",
       "      <th>3</th>\n",
       "      <td>Page Views Per Visit</td>\n",
       "      <td>5.15</td>\n",
       "    </tr>\n",
       "    <tr>\n",
       "      <th>2</th>\n",
       "      <td>TotalVisits</td>\n",
       "      <td>4.95</td>\n",
       "    </tr>\n",
       "    <tr>\n",
       "      <th>12</th>\n",
       "      <td>Last Notable Activity_modified</td>\n",
       "      <td>2.82</td>\n",
       "    </tr>\n",
       "    <tr>\n",
       "      <th>9</th>\n",
       "      <td>Last Activity_page visited on website</td>\n",
       "      <td>2.41</td>\n",
       "    </tr>\n",
       "    <tr>\n",
       "      <th>14</th>\n",
       "      <td>Last Notable Activity_page visited on website</td>\n",
       "      <td>2.28</td>\n",
       "    </tr>\n",
       "    <tr>\n",
       "      <th>8</th>\n",
       "      <td>Last Activity_olark chat conversation</td>\n",
       "      <td>2.12</td>\n",
       "    </tr>\n",
       "    <tr>\n",
       "      <th>1</th>\n",
       "      <td>Total Time Spent on Website</td>\n",
       "      <td>1.96</td>\n",
       "    </tr>\n",
       "    <tr>\n",
       "      <th>0</th>\n",
       "      <td>Do Not Email</td>\n",
       "      <td>1.87</td>\n",
       "    </tr>\n",
       "    <tr>\n",
       "      <th>7</th>\n",
       "      <td>Last Activity_email bounced</td>\n",
       "      <td>1.86</td>\n",
       "    </tr>\n",
       "    <tr>\n",
       "      <th>11</th>\n",
       "      <td>Last Notable Activity_email opened</td>\n",
       "      <td>1.78</td>\n",
       "    </tr>\n",
       "    <tr>\n",
       "      <th>5</th>\n",
       "      <td>Lead Source_olark chat</td>\n",
       "      <td>1.70</td>\n",
       "    </tr>\n",
       "    <tr>\n",
       "      <th>13</th>\n",
       "      <td>Last Notable Activity_olark chat conversation</td>\n",
       "      <td>1.45</td>\n",
       "    </tr>\n",
       "    <tr>\n",
       "      <th>6</th>\n",
       "      <td>Last Activity_converted to lead</td>\n",
       "      <td>1.30</td>\n",
       "    </tr>\n",
       "    <tr>\n",
       "      <th>4</th>\n",
       "      <td>Lead Origin_lead add form</td>\n",
       "      <td>1.07</td>\n",
       "    </tr>\n",
       "    <tr>\n",
       "      <th>10</th>\n",
       "      <td>Last Notable Activity_email link clicked</td>\n",
       "      <td>1.05</td>\n",
       "    </tr>\n",
       "  </tbody>\n",
       "</table>\n",
       "</div>"
      ],
      "text/plain": [
       "                                         Features   VIF\n",
       "3                            Page Views Per Visit  5.15\n",
       "2                                     TotalVisits  4.95\n",
       "12                 Last Notable Activity_modified  2.82\n",
       "9           Last Activity_page visited on website  2.41\n",
       "14  Last Notable Activity_page visited on website  2.28\n",
       "8           Last Activity_olark chat conversation  2.12\n",
       "1                     Total Time Spent on Website  1.96\n",
       "0                                    Do Not Email  1.87\n",
       "7                     Last Activity_email bounced  1.86\n",
       "11             Last Notable Activity_email opened  1.78\n",
       "5                          Lead Source_olark chat  1.70\n",
       "13  Last Notable Activity_olark chat conversation  1.45\n",
       "6                 Last Activity_converted to lead  1.30\n",
       "4                       Lead Origin_lead add form  1.07\n",
       "10       Last Notable Activity_email link clicked  1.05"
      ]
     },
     "execution_count": 99,
     "metadata": {},
     "output_type": "execute_result"
    }
   ],
   "source": [
    "# Creating a VIF dataframe for all the variables present\n",
    "vif = pd.DataFrame()\n",
    "vif['Features'] = X_train.columns\n",
    "vif['VIF'] = [variance_inflation_factor(X_train.values, i) for i in range(X_train.shape[1])]\n",
    "vif['VIF'] = round(vif['VIF'], 2)\n",
    "vif = vif.sort_values(by = \"VIF\", ascending = False)\n",
    "vif\n"
   ]
  },
  {
   "cell_type": "markdown",
   "id": "0d70d143",
   "metadata": {},
   "source": [
    "Comments-<br>\n",
    "         - All the P Values look fine but VIF values aren't. So, the column 'Page Views Per Visit' needs to be removed."
   ]
  },
  {
   "cell_type": "code",
   "execution_count": 100,
   "id": "4ac77815",
   "metadata": {},
   "outputs": [],
   "source": [
    "X_train.drop('Page Views Per Visit', axis = 1, inplace = True)"
   ]
  },
  {
   "cell_type": "code",
   "execution_count": 101,
   "id": "c05dbd86",
   "metadata": {},
   "outputs": [
    {
     "data": {
      "text/html": [
       "<table class=\"simpletable\">\n",
       "<caption>Generalized Linear Model Regression Results</caption>\n",
       "<tr>\n",
       "  <th>Dep. Variable:</th>       <td>Converted</td>    <th>  No. Observations:  </th>  <td>  6246</td> \n",
       "</tr>\n",
       "<tr>\n",
       "  <th>Model:</th>                  <td>GLM</td>       <th>  Df Residuals:      </th>  <td>  6231</td> \n",
       "</tr>\n",
       "<tr>\n",
       "  <th>Model Family:</th>        <td>Binomial</td>     <th>  Df Model:          </th>  <td>    14</td> \n",
       "</tr>\n",
       "<tr>\n",
       "  <th>Link Function:</th>         <td>logit</td>      <th>  Scale:             </th> <td>  1.0000</td>\n",
       "</tr>\n",
       "<tr>\n",
       "  <th>Method:</th>                <td>IRLS</td>       <th>  Log-Likelihood:    </th> <td> -2708.0</td>\n",
       "</tr>\n",
       "<tr>\n",
       "  <th>Date:</th>            <td>Mon, 17 Oct 2022</td> <th>  Deviance:          </th> <td>  5416.0</td>\n",
       "</tr>\n",
       "<tr>\n",
       "  <th>Time:</th>                <td>19:17:40</td>     <th>  Pearson chi2:      </th> <td>6.54e+03</td>\n",
       "</tr>\n",
       "<tr>\n",
       "  <th>No. Iterations:</th>          <td>6</td>        <th>                     </th>     <td> </td>   \n",
       "</tr>\n",
       "<tr>\n",
       "  <th>Covariance Type:</th>     <td>nonrobust</td>    <th>                     </th>     <td> </td>   \n",
       "</tr>\n",
       "</table>\n",
       "<table class=\"simpletable\">\n",
       "<tr>\n",
       "                        <td></td>                           <th>coef</th>     <th>std err</th>      <th>z</th>      <th>P>|z|</th>  <th>[0.025</th>    <th>0.975]</th>  \n",
       "</tr>\n",
       "<tr>\n",
       "  <th>const</th>                                         <td>   -0.9020</td> <td>    0.100</td> <td>   -9.002</td> <td> 0.000</td> <td>   -1.098</td> <td>   -0.706</td>\n",
       "</tr>\n",
       "<tr>\n",
       "  <th>Do Not Email</th>                                  <td>   -1.5580</td> <td>    0.194</td> <td>   -8.051</td> <td> 0.000</td> <td>   -1.937</td> <td>   -1.179</td>\n",
       "</tr>\n",
       "<tr>\n",
       "  <th>Total Time Spent on Website</th>                   <td>    4.7773</td> <td>    0.167</td> <td>   28.644</td> <td> 0.000</td> <td>    4.450</td> <td>    5.104</td>\n",
       "</tr>\n",
       "<tr>\n",
       "  <th>TotalVisits</th>                                   <td>    0.9852</td> <td>    0.248</td> <td>    3.975</td> <td> 0.000</td> <td>    0.499</td> <td>    1.471</td>\n",
       "</tr>\n",
       "<tr>\n",
       "  <th>Lead Origin_lead add form</th>                     <td>    4.7628</td> <td>    0.230</td> <td>   20.717</td> <td> 0.000</td> <td>    4.312</td> <td>    5.213</td>\n",
       "</tr>\n",
       "<tr>\n",
       "  <th>Lead Source_olark chat</th>                        <td>    1.3457</td> <td>    0.116</td> <td>   11.634</td> <td> 0.000</td> <td>    1.119</td> <td>    1.572</td>\n",
       "</tr>\n",
       "<tr>\n",
       "  <th>Last Activity_converted to lead</th>               <td>   -1.0880</td> <td>    0.223</td> <td>   -4.876</td> <td> 0.000</td> <td>   -1.525</td> <td>   -0.651</td>\n",
       "</tr>\n",
       "<tr>\n",
       "  <th>Last Activity_email bounced</th>                   <td>   -0.9335</td> <td>    0.355</td> <td>   -2.631</td> <td> 0.009</td> <td>   -1.629</td> <td>   -0.238</td>\n",
       "</tr>\n",
       "<tr>\n",
       "  <th>Last Activity_olark chat conversation</th>         <td>   -1.5433</td> <td>    0.201</td> <td>   -7.676</td> <td> 0.000</td> <td>   -1.937</td> <td>   -1.149</td>\n",
       "</tr>\n",
       "<tr>\n",
       "  <th>Last Activity_page visited on website</th>         <td>   -0.6867</td> <td>    0.235</td> <td>   -2.916</td> <td> 0.004</td> <td>   -1.148</td> <td>   -0.225</td>\n",
       "</tr>\n",
       "<tr>\n",
       "  <th>Last Notable Activity_email link clicked</th>      <td>   -1.9118</td> <td>    0.251</td> <td>   -7.603</td> <td> 0.000</td> <td>   -2.405</td> <td>   -1.419</td>\n",
       "</tr>\n",
       "<tr>\n",
       "  <th>Last Notable Activity_email opened</th>            <td>   -1.4245</td> <td>    0.086</td> <td>  -16.536</td> <td> 0.000</td> <td>   -1.593</td> <td>   -1.256</td>\n",
       "</tr>\n",
       "<tr>\n",
       "  <th>Last Notable Activity_modified</th>                <td>   -1.6099</td> <td>    0.103</td> <td>  -15.699</td> <td> 0.000</td> <td>   -1.811</td> <td>   -1.409</td>\n",
       "</tr>\n",
       "<tr>\n",
       "  <th>Last Notable Activity_olark chat conversation</th> <td>   -1.8348</td> <td>    0.395</td> <td>   -4.641</td> <td> 0.000</td> <td>   -2.610</td> <td>   -1.060</td>\n",
       "</tr>\n",
       "<tr>\n",
       "  <th>Last Notable Activity_page visited on website</th> <td>   -1.2226</td> <td>    0.312</td> <td>   -3.914</td> <td> 0.000</td> <td>   -1.835</td> <td>   -0.610</td>\n",
       "</tr>\n",
       "</table>"
      ],
      "text/plain": [
       "<class 'statsmodels.iolib.summary.Summary'>\n",
       "\"\"\"\n",
       "                 Generalized Linear Model Regression Results                  \n",
       "==============================================================================\n",
       "Dep. Variable:              Converted   No. Observations:                 6246\n",
       "Model:                            GLM   Df Residuals:                     6231\n",
       "Model Family:                Binomial   Df Model:                           14\n",
       "Link Function:                  logit   Scale:                          1.0000\n",
       "Method:                          IRLS   Log-Likelihood:                -2708.0\n",
       "Date:                Mon, 17 Oct 2022   Deviance:                       5416.0\n",
       "Time:                        19:17:40   Pearson chi2:                 6.54e+03\n",
       "No. Iterations:                     6                                         \n",
       "Covariance Type:            nonrobust                                         \n",
       "=================================================================================================================\n",
       "                                                    coef    std err          z      P>|z|      [0.025      0.975]\n",
       "-----------------------------------------------------------------------------------------------------------------\n",
       "const                                            -0.9020      0.100     -9.002      0.000      -1.098      -0.706\n",
       "Do Not Email                                     -1.5580      0.194     -8.051      0.000      -1.937      -1.179\n",
       "Total Time Spent on Website                       4.7773      0.167     28.644      0.000       4.450       5.104\n",
       "TotalVisits                                       0.9852      0.248      3.975      0.000       0.499       1.471\n",
       "Lead Origin_lead add form                         4.7628      0.230     20.717      0.000       4.312       5.213\n",
       "Lead Source_olark chat                            1.3457      0.116     11.634      0.000       1.119       1.572\n",
       "Last Activity_converted to lead                  -1.0880      0.223     -4.876      0.000      -1.525      -0.651\n",
       "Last Activity_email bounced                      -0.9335      0.355     -2.631      0.009      -1.629      -0.238\n",
       "Last Activity_olark chat conversation            -1.5433      0.201     -7.676      0.000      -1.937      -1.149\n",
       "Last Activity_page visited on website            -0.6867      0.235     -2.916      0.004      -1.148      -0.225\n",
       "Last Notable Activity_email link clicked         -1.9118      0.251     -7.603      0.000      -2.405      -1.419\n",
       "Last Notable Activity_email opened               -1.4245      0.086    -16.536      0.000      -1.593      -1.256\n",
       "Last Notable Activity_modified                   -1.6099      0.103    -15.699      0.000      -1.811      -1.409\n",
       "Last Notable Activity_olark chat conversation    -1.8348      0.395     -4.641      0.000      -2.610      -1.060\n",
       "Last Notable Activity_page visited on website    -1.2226      0.312     -3.914      0.000      -1.835      -0.610\n",
       "=================================================================================================================\n",
       "\"\"\""
      ]
     },
     "execution_count": 101,
     "metadata": {},
     "output_type": "execute_result"
    }
   ],
   "source": [
    "# Refitting the model with the new set of features\n",
    "X_train_sm = sm.add_constant(X_train)\n",
    "logm2 = sm.GLM(y_train, X_train_sm, family = sm.families.Binomial())\n",
    "res = logm2.fit()\n",
    "res.summary()"
   ]
  },
  {
   "cell_type": "code",
   "execution_count": 102,
   "id": "38d3991c",
   "metadata": {},
   "outputs": [
    {
     "data": {
      "text/html": [
       "<div>\n",
       "<style scoped>\n",
       "    .dataframe tbody tr th:only-of-type {\n",
       "        vertical-align: middle;\n",
       "    }\n",
       "\n",
       "    .dataframe tbody tr th {\n",
       "        vertical-align: top;\n",
       "    }\n",
       "\n",
       "    .dataframe thead th {\n",
       "        text-align: right;\n",
       "    }\n",
       "</style>\n",
       "<table border=\"1\" class=\"dataframe\">\n",
       "  <thead>\n",
       "    <tr style=\"text-align: right;\">\n",
       "      <th></th>\n",
       "      <th>Features</th>\n",
       "      <th>VIF</th>\n",
       "    </tr>\n",
       "  </thead>\n",
       "  <tbody>\n",
       "    <tr>\n",
       "      <th>11</th>\n",
       "      <td>Last Notable Activity_modified</td>\n",
       "      <td>2.71</td>\n",
       "    </tr>\n",
       "    <tr>\n",
       "      <th>2</th>\n",
       "      <td>TotalVisits</td>\n",
       "      <td>2.59</td>\n",
       "    </tr>\n",
       "    <tr>\n",
       "      <th>8</th>\n",
       "      <td>Last Activity_page visited on website</td>\n",
       "      <td>2.41</td>\n",
       "    </tr>\n",
       "    <tr>\n",
       "      <th>13</th>\n",
       "      <td>Last Notable Activity_page visited on website</td>\n",
       "      <td>2.27</td>\n",
       "    </tr>\n",
       "    <tr>\n",
       "      <th>7</th>\n",
       "      <td>Last Activity_olark chat conversation</td>\n",
       "      <td>2.12</td>\n",
       "    </tr>\n",
       "    <tr>\n",
       "      <th>1</th>\n",
       "      <td>Total Time Spent on Website</td>\n",
       "      <td>1.88</td>\n",
       "    </tr>\n",
       "    <tr>\n",
       "      <th>6</th>\n",
       "      <td>Last Activity_email bounced</td>\n",
       "      <td>1.85</td>\n",
       "    </tr>\n",
       "    <tr>\n",
       "      <th>0</th>\n",
       "      <td>Do Not Email</td>\n",
       "      <td>1.84</td>\n",
       "    </tr>\n",
       "    <tr>\n",
       "      <th>10</th>\n",
       "      <td>Last Notable Activity_email opened</td>\n",
       "      <td>1.68</td>\n",
       "    </tr>\n",
       "    <tr>\n",
       "      <th>4</th>\n",
       "      <td>Lead Source_olark chat</td>\n",
       "      <td>1.66</td>\n",
       "    </tr>\n",
       "    <tr>\n",
       "      <th>12</th>\n",
       "      <td>Last Notable Activity_olark chat conversation</td>\n",
       "      <td>1.45</td>\n",
       "    </tr>\n",
       "    <tr>\n",
       "      <th>5</th>\n",
       "      <td>Last Activity_converted to lead</td>\n",
       "      <td>1.30</td>\n",
       "    </tr>\n",
       "    <tr>\n",
       "      <th>3</th>\n",
       "      <td>Lead Origin_lead add form</td>\n",
       "      <td>1.07</td>\n",
       "    </tr>\n",
       "    <tr>\n",
       "      <th>9</th>\n",
       "      <td>Last Notable Activity_email link clicked</td>\n",
       "      <td>1.05</td>\n",
       "    </tr>\n",
       "  </tbody>\n",
       "</table>\n",
       "</div>"
      ],
      "text/plain": [
       "                                         Features   VIF\n",
       "11                 Last Notable Activity_modified  2.71\n",
       "2                                     TotalVisits  2.59\n",
       "8           Last Activity_page visited on website  2.41\n",
       "13  Last Notable Activity_page visited on website  2.27\n",
       "7           Last Activity_olark chat conversation  2.12\n",
       "1                     Total Time Spent on Website  1.88\n",
       "6                     Last Activity_email bounced  1.85\n",
       "0                                    Do Not Email  1.84\n",
       "10             Last Notable Activity_email opened  1.68\n",
       "4                          Lead Source_olark chat  1.66\n",
       "12  Last Notable Activity_olark chat conversation  1.45\n",
       "5                 Last Activity_converted to lead  1.30\n",
       "3                       Lead Origin_lead add form  1.07\n",
       "9        Last Notable Activity_email link clicked  1.05"
      ]
     },
     "execution_count": 102,
     "metadata": {},
     "output_type": "execute_result"
    }
   ],
   "source": [
    "# Make a VIF dataframe for all the variables present\n",
    "vif = pd.DataFrame()\n",
    "vif['Features'] = X_train.columns\n",
    "vif['VIF'] = [variance_inflation_factor(X_train.values, i) for i in range(X_train.shape[1])]\n",
    "vif['VIF'] = round(vif['VIF'], 2)\n",
    "vif = vif.sort_values(by = \"VIF\", ascending = False)\n",
    "vif"
   ]
  },
  {
   "cell_type": "markdown",
   "id": "d8d8f01b",
   "metadata": {},
   "source": [
    "comments-<br>\n",
    "        - All the P values and VIF values look fine. So, we can fix this as our final model."
   ]
  },
  {
   "cell_type": "markdown",
   "id": "c4a93369",
   "metadata": {},
   "source": [
    "# Making Predictions"
   ]
  },
  {
   "cell_type": "code",
   "execution_count": 103,
   "id": "a4c54ff8",
   "metadata": {},
   "outputs": [
    {
     "data": {
      "text/plain": [
       "8823    0.556330\n",
       "7671    0.050480\n",
       "1371    0.762488\n",
       "3143    0.062411\n",
       "1376    0.070581\n",
       "8477    0.172492\n",
       "385     0.197402\n",
       "8918    0.623252\n",
       "7600    0.147699\n",
       "1090    0.710199\n",
       "dtype: float64"
      ]
     },
     "execution_count": 103,
     "metadata": {},
     "output_type": "execute_result"
    }
   ],
   "source": [
    "# Predicting the probabilities on the train set\n",
    "y_train_pred = res.predict(X_train_sm)\n",
    "y_train_pred[:10]"
   ]
  },
  {
   "cell_type": "code",
   "execution_count": 104,
   "id": "72ca175e",
   "metadata": {},
   "outputs": [
    {
     "data": {
      "text/plain": [
       "array([0.5563302 , 0.05047959, 0.76248814, 0.06241072, 0.07058067,\n",
       "       0.17249208, 0.19740177, 0.62325155, 0.14769919, 0.71019945])"
      ]
     },
     "execution_count": 104,
     "metadata": {},
     "output_type": "execute_result"
    }
   ],
   "source": [
    "# Reshaping to an array\n",
    "y_train_pred = y_train_pred.values.reshape(-1)\n",
    "y_train_pred[:10]"
   ]
  },
  {
   "cell_type": "code",
   "execution_count": 105,
   "id": "d3fe557f",
   "metadata": {},
   "outputs": [
    {
     "data": {
      "text/html": [
       "<div>\n",
       "<style scoped>\n",
       "    .dataframe tbody tr th:only-of-type {\n",
       "        vertical-align: middle;\n",
       "    }\n",
       "\n",
       "    .dataframe tbody tr th {\n",
       "        vertical-align: top;\n",
       "    }\n",
       "\n",
       "    .dataframe thead th {\n",
       "        text-align: right;\n",
       "    }\n",
       "</style>\n",
       "<table border=\"1\" class=\"dataframe\">\n",
       "  <thead>\n",
       "    <tr style=\"text-align: right;\">\n",
       "      <th></th>\n",
       "      <th>Converted</th>\n",
       "      <th>Conversion_Prob</th>\n",
       "      <th>Lead Number</th>\n",
       "    </tr>\n",
       "  </thead>\n",
       "  <tbody>\n",
       "    <tr>\n",
       "      <th>0</th>\n",
       "      <td>1</td>\n",
       "      <td>0.556330</td>\n",
       "      <td>8823</td>\n",
       "    </tr>\n",
       "    <tr>\n",
       "      <th>1</th>\n",
       "      <td>0</td>\n",
       "      <td>0.050480</td>\n",
       "      <td>7671</td>\n",
       "    </tr>\n",
       "    <tr>\n",
       "      <th>2</th>\n",
       "      <td>1</td>\n",
       "      <td>0.762488</td>\n",
       "      <td>1371</td>\n",
       "    </tr>\n",
       "    <tr>\n",
       "      <th>3</th>\n",
       "      <td>0</td>\n",
       "      <td>0.062411</td>\n",
       "      <td>3143</td>\n",
       "    </tr>\n",
       "    <tr>\n",
       "      <th>4</th>\n",
       "      <td>0</td>\n",
       "      <td>0.070581</td>\n",
       "      <td>1376</td>\n",
       "    </tr>\n",
       "  </tbody>\n",
       "</table>\n",
       "</div>"
      ],
      "text/plain": [
       "   Converted  Conversion_Prob  Lead Number\n",
       "0          1         0.556330         8823\n",
       "1          0         0.050480         7671\n",
       "2          1         0.762488         1371\n",
       "3          0         0.062411         3143\n",
       "4          0         0.070581         1376"
      ]
     },
     "execution_count": 105,
     "metadata": {},
     "output_type": "execute_result"
    }
   ],
   "source": [
    "# Data frame with given convertion rate and probablity of predicted ones and using 'Lead Number' as the identifier\n",
    "y_train_pred_final = pd.DataFrame({'Converted':y_train.values, 'Conversion_Prob':y_train_pred})\n",
    "y_train_pred_final['Lead Number'] = y_train.index\n",
    "y_train_pred_final.head()"
   ]
  },
  {
   "cell_type": "code",
   "execution_count": 107,
   "id": "14cce688",
   "metadata": {},
   "outputs": [
    {
     "data": {
      "text/html": [
       "<div>\n",
       "<style scoped>\n",
       "    .dataframe tbody tr th:only-of-type {\n",
       "        vertical-align: middle;\n",
       "    }\n",
       "\n",
       "    .dataframe tbody tr th {\n",
       "        vertical-align: top;\n",
       "    }\n",
       "\n",
       "    .dataframe thead th {\n",
       "        text-align: right;\n",
       "    }\n",
       "</style>\n",
       "<table border=\"1\" class=\"dataframe\">\n",
       "  <thead>\n",
       "    <tr style=\"text-align: right;\">\n",
       "      <th></th>\n",
       "      <th>Converted</th>\n",
       "      <th>Conversion_Prob</th>\n",
       "      <th>Lead Number</th>\n",
       "      <th>Predicted</th>\n",
       "      <th>Lead Score</th>\n",
       "    </tr>\n",
       "  </thead>\n",
       "  <tbody>\n",
       "    <tr>\n",
       "      <th>0</th>\n",
       "      <td>1</td>\n",
       "      <td>0.556330</td>\n",
       "      <td>8823</td>\n",
       "      <td>1</td>\n",
       "      <td>56.0</td>\n",
       "    </tr>\n",
       "    <tr>\n",
       "      <th>1</th>\n",
       "      <td>0</td>\n",
       "      <td>0.050480</td>\n",
       "      <td>7671</td>\n",
       "      <td>0</td>\n",
       "      <td>5.0</td>\n",
       "    </tr>\n",
       "    <tr>\n",
       "      <th>2</th>\n",
       "      <td>1</td>\n",
       "      <td>0.762488</td>\n",
       "      <td>1371</td>\n",
       "      <td>1</td>\n",
       "      <td>76.0</td>\n",
       "    </tr>\n",
       "    <tr>\n",
       "      <th>3</th>\n",
       "      <td>0</td>\n",
       "      <td>0.062411</td>\n",
       "      <td>3143</td>\n",
       "      <td>0</td>\n",
       "      <td>6.0</td>\n",
       "    </tr>\n",
       "    <tr>\n",
       "      <th>4</th>\n",
       "      <td>0</td>\n",
       "      <td>0.070581</td>\n",
       "      <td>1376</td>\n",
       "      <td>0</td>\n",
       "      <td>7.0</td>\n",
       "    </tr>\n",
       "  </tbody>\n",
       "</table>\n",
       "</div>"
      ],
      "text/plain": [
       "   Converted  Conversion_Prob  Lead Number  Predicted  Lead Score\n",
       "0          1         0.556330         8823          1        56.0\n",
       "1          0         0.050480         7671          0         5.0\n",
       "2          1         0.762488         1371          1        76.0\n",
       "3          0         0.062411         3143          0         6.0\n",
       "4          0         0.070581         1376          0         7.0"
      ]
     },
     "execution_count": 107,
     "metadata": {},
     "output_type": "execute_result"
    }
   ],
   "source": [
    "# Substituting 0 or 1 with the cut off as 0.5\n",
    "y_train_pred_final['Predicted'] = y_train_pred_final.Conversion_Prob.map(lambda x: 1 if x > 0.5 else 0)\n",
    "y_train_pred_final['Lead Score'] = y_train_pred_final.Conversion_Prob.map(lambda x: round(x*100,0))\n",
    "y_train_pred_final.head()"
   ]
  },
  {
   "cell_type": "markdown",
   "id": "9424a196",
   "metadata": {},
   "source": [
    "# Model Evaluation"
   ]
  },
  {
   "cell_type": "code",
   "execution_count": 108,
   "id": "44116545",
   "metadata": {},
   "outputs": [],
   "source": [
    "# Importing metrics from sklearn for evaluation\n",
    "from sklearn import metrics"
   ]
  },
  {
   "cell_type": "code",
   "execution_count": 109,
   "id": "97e9169f",
   "metadata": {},
   "outputs": [
    {
     "data": {
      "text/plain": [
       "array([[3398,  474],\n",
       "       [ 739, 1635]], dtype=int64)"
      ]
     },
     "execution_count": 109,
     "metadata": {},
     "output_type": "execute_result"
    }
   ],
   "source": [
    "# Creating confusion matrix \n",
    "confusion = metrics.confusion_matrix(y_train_pred_final.Converted, y_train_pred_final.Predicted )\n",
    "confusion"
   ]
  },
  {
   "cell_type": "code",
   "execution_count": 110,
   "id": "e4924e23",
   "metadata": {},
   "outputs": [
    {
     "data": {
      "text/plain": [
       "0.8057957092539225"
      ]
     },
     "execution_count": 110,
     "metadata": {},
     "output_type": "execute_result"
    }
   ],
   "source": [
    "# Check the overall accuracy\n",
    "metrics.accuracy_score(y_train_pred_final.Converted, y_train_pred_final.Predicted)"
   ]
  },
  {
   "cell_type": "markdown",
   "id": "c427d58c",
   "metadata": {},
   "source": [
    "Comments-<br>\n",
    "         - The accuracy over here is around 81% which is quite good."
   ]
  },
  {
   "cell_type": "code",
   "execution_count": 111,
   "id": "6153ac08",
   "metadata": {},
   "outputs": [],
   "source": [
    "# Substituting the value of true positive\n",
    "TP = confusion[1,1]\n",
    "# Substituting the value of true negatives\n",
    "TN = confusion[0,0]\n",
    "# Substituting the value of false positives\n",
    "FP = confusion[0,1] \n",
    "# Substituting the value of false negatives\n",
    "FN = confusion[1,0]"
   ]
  },
  {
   "cell_type": "code",
   "execution_count": 112,
   "id": "0a342a34",
   "metadata": {},
   "outputs": [
    {
     "data": {
      "text/plain": [
       "0.6887110362257792"
      ]
     },
     "execution_count": 112,
     "metadata": {},
     "output_type": "execute_result"
    }
   ],
   "source": [
    "# Calculating the sensitivity\n",
    "TP/(TP+FN)"
   ]
  },
  {
   "cell_type": "code",
   "execution_count": 113,
   "id": "21e2981c",
   "metadata": {},
   "outputs": [
    {
     "data": {
      "text/plain": [
       "0.8775826446280992"
      ]
     },
     "execution_count": 113,
     "metadata": {},
     "output_type": "execute_result"
    }
   ],
   "source": [
    "# Calculating the specificity\n",
    "TN/(TN+FP)"
   ]
  },
  {
   "cell_type": "markdown",
   "id": "cca7ac5b",
   "metadata": {},
   "source": [
    "Comments- <br>\n",
    "         \n",
    "         - It can be seen that with the current cut off of 0.5, the accuracy is around 81%, sensitivity is around 69% and                  specificity is around 88%."
   ]
  },
  {
   "cell_type": "markdown",
   "id": "22e51473",
   "metadata": {},
   "source": [
    "# Optimising cut off using ROC Curve"
   ]
  },
  {
   "cell_type": "code",
   "execution_count": 114,
   "id": "92aa7c61",
   "metadata": {},
   "outputs": [],
   "source": [
    "# ROC function\n",
    "def draw_roc( actual, probs ):\n",
    "    fpr, tpr, thresholds = metrics.roc_curve( actual, probs,\n",
    "                                              drop_intermediate = False )\n",
    "    auc_score = metrics.roc_auc_score( actual, probs )\n",
    "    plt.figure(figsize=(5, 5))\n",
    "    plt.plot( fpr, tpr, label='ROC curve (area = %0.2f)' % auc_score )\n",
    "    plt.plot([0, 1], [0, 1], 'k--')\n",
    "    plt.xlim([0.0, 1.0])\n",
    "    plt.ylim([0.0, 1.05])\n",
    "    plt.xlabel('False Positive Rate or [1 - True Negative Rate]')\n",
    "    plt.ylabel('True Positive Rate')\n",
    "    plt.title('Receiver operating characteristic example')\n",
    "    plt.legend(loc=\"lower right\")\n",
    "    plt.show()\n",
    "\n",
    "    return None"
   ]
  },
  {
   "cell_type": "code",
   "execution_count": 115,
   "id": "977ca044",
   "metadata": {},
   "outputs": [],
   "source": [
    "fpr, tpr, thresholds = metrics.roc_curve( y_train_pred_final.Converted, y_train_pred_final.Conversion_Prob, drop_intermediate = False )"
   ]
  },
  {
   "cell_type": "code",
   "execution_count": 116,
   "id": "3c800e17",
   "metadata": {},
   "outputs": [
    {
     "data": {
      "image/png": "[encoded data removed]",
      "text/plain": [
       "<Figure size 360x360 with 1 Axes>"
      ]
     },
     "metadata": {
      "needs_background": "light"
     },
     "output_type": "display_data"
    }
   ],
   "source": [
    "# Calling the ROC function\n",
    "draw_roc(y_train_pred_final.Converted, y_train_pred_final.Conversion_Prob)"
   ]
  },
  {
   "cell_type": "markdown",
   "id": "979c4cdd",
   "metadata": {},
   "source": [
    "Comments-<br>\n",
    "          - The area under curve is 0.87 which is a nice value."
   ]
  },
  {
   "cell_type": "code",
   "execution_count": 117,
   "id": "cf2faf90",
   "metadata": {},
   "outputs": [
    {
     "data": {
      "text/html": [
       "<div>\n",
       "<style scoped>\n",
       "    .dataframe tbody tr th:only-of-type {\n",
       "        vertical-align: middle;\n",
       "    }\n",
       "\n",
       "    .dataframe tbody tr th {\n",
       "        vertical-align: top;\n",
       "    }\n",
       "\n",
       "    .dataframe thead th {\n",
       "        text-align: right;\n",
       "    }\n",
       "</style>\n",
       "<table border=\"1\" class=\"dataframe\">\n",
       "  <thead>\n",
       "    <tr style=\"text-align: right;\">\n",
       "      <th></th>\n",
       "      <th>Converted</th>\n",
       "      <th>Conversion_Prob</th>\n",
       "      <th>Lead Number</th>\n",
       "      <th>Predicted</th>\n",
       "      <th>Lead Score</th>\n",
       "      <th>0.0</th>\n",
       "      <th>0.1</th>\n",
       "      <th>0.2</th>\n",
       "      <th>0.3</th>\n",
       "      <th>0.4</th>\n",
       "      <th>0.5</th>\n",
       "      <th>0.6</th>\n",
       "      <th>0.7</th>\n",
       "      <th>0.8</th>\n",
       "      <th>0.9</th>\n",
       "    </tr>\n",
       "  </thead>\n",
       "  <tbody>\n",
       "    <tr>\n",
       "      <th>0</th>\n",
       "      <td>1</td>\n",
       "      <td>0.556330</td>\n",
       "      <td>8823</td>\n",
       "      <td>1</td>\n",
       "      <td>56.0</td>\n",
       "      <td>1</td>\n",
       "      <td>1</td>\n",
       "      <td>1</td>\n",
       "      <td>1</td>\n",
       "      <td>1</td>\n",
       "      <td>1</td>\n",
       "      <td>0</td>\n",
       "      <td>0</td>\n",
       "      <td>0</td>\n",
       "      <td>0</td>\n",
       "    </tr>\n",
       "    <tr>\n",
       "      <th>1</th>\n",
       "      <td>0</td>\n",
       "      <td>0.050480</td>\n",
       "      <td>7671</td>\n",
       "      <td>0</td>\n",
       "      <td>5.0</td>\n",
       "      <td>1</td>\n",
       "      <td>0</td>\n",
       "      <td>0</td>\n",
       "      <td>0</td>\n",
       "      <td>0</td>\n",
       "      <td>0</td>\n",
       "      <td>0</td>\n",
       "      <td>0</td>\n",
       "      <td>0</td>\n",
       "      <td>0</td>\n",
       "    </tr>\n",
       "    <tr>\n",
       "      <th>2</th>\n",
       "      <td>1</td>\n",
       "      <td>0.762488</td>\n",
       "      <td>1371</td>\n",
       "      <td>1</td>\n",
       "      <td>76.0</td>\n",
       "      <td>1</td>\n",
       "      <td>1</td>\n",
       "      <td>1</td>\n",
       "      <td>1</td>\n",
       "      <td>1</td>\n",
       "      <td>1</td>\n",
       "      <td>1</td>\n",
       "      <td>1</td>\n",
       "      <td>0</td>\n",
       "      <td>0</td>\n",
       "    </tr>\n",
       "    <tr>\n",
       "      <th>3</th>\n",
       "      <td>0</td>\n",
       "      <td>0.062411</td>\n",
       "      <td>3143</td>\n",
       "      <td>0</td>\n",
       "      <td>6.0</td>\n",
       "      <td>1</td>\n",
       "      <td>0</td>\n",
       "      <td>0</td>\n",
       "      <td>0</td>\n",
       "      <td>0</td>\n",
       "      <td>0</td>\n",
       "      <td>0</td>\n",
       "      <td>0</td>\n",
       "      <td>0</td>\n",
       "      <td>0</td>\n",
       "    </tr>\n",
       "    <tr>\n",
       "      <th>4</th>\n",
       "      <td>0</td>\n",
       "      <td>0.070581</td>\n",
       "      <td>1376</td>\n",
       "      <td>0</td>\n",
       "      <td>7.0</td>\n",
       "      <td>1</td>\n",
       "      <td>0</td>\n",
       "      <td>0</td>\n",
       "      <td>0</td>\n",
       "      <td>0</td>\n",
       "      <td>0</td>\n",
       "      <td>0</td>\n",
       "      <td>0</td>\n",
       "      <td>0</td>\n",
       "      <td>0</td>\n",
       "    </tr>\n",
       "  </tbody>\n",
       "</table>\n",
       "</div>"
      ],
      "text/plain": [
       "   Converted  Conversion_Prob  Lead Number  Predicted  Lead Score  0.0  0.1  \\\n",
       "0          1         0.556330         8823          1        56.0    1    1   \n",
       "1          0         0.050480         7671          0         5.0    1    0   \n",
       "2          1         0.762488         1371          1        76.0    1    1   \n",
       "3          0         0.062411         3143          0         6.0    1    0   \n",
       "4          0         0.070581         1376          0         7.0    1    0   \n",
       "\n",
       "   0.2  0.3  0.4  0.5  0.6  0.7  0.8  0.9  \n",
       "0    1    1    1    1    0    0    0    0  \n",
       "1    0    0    0    0    0    0    0    0  \n",
       "2    1    1    1    1    1    1    0    0  \n",
       "3    0    0    0    0    0    0    0    0  \n",
       "4    0    0    0    0    0    0    0    0  "
      ]
     },
     "execution_count": 117,
     "metadata": {},
     "output_type": "execute_result"
    }
   ],
   "source": [
    "# Creating columns with different probability cutoffs \n",
    "numbers = [float(x)/10 for x in range(10)]\n",
    "for i in numbers:\n",
    "    y_train_pred_final[i]= y_train_pred_final.Conversion_Prob.map(lambda x: 1 if x > i else 0)\n",
    "y_train_pred_final.head()"
   ]
  },
  {
   "cell_type": "code",
   "execution_count": 118,
   "id": "2e5aefbb",
   "metadata": {},
   "outputs": [
    {
     "data": {
      "text/html": [
       "<div>\n",
       "<style scoped>\n",
       "    .dataframe tbody tr th:only-of-type {\n",
       "        vertical-align: middle;\n",
       "    }\n",
       "\n",
       "    .dataframe tbody tr th {\n",
       "        vertical-align: top;\n",
       "    }\n",
       "\n",
       "    .dataframe thead th {\n",
       "        text-align: right;\n",
       "    }\n",
       "</style>\n",
       "<table border=\"1\" class=\"dataframe\">\n",
       "  <thead>\n",
       "    <tr style=\"text-align: right;\">\n",
       "      <th></th>\n",
       "      <th>prob</th>\n",
       "      <th>accuracy</th>\n",
       "      <th>sensi</th>\n",
       "      <th>speci</th>\n",
       "    </tr>\n",
       "  </thead>\n",
       "  <tbody>\n",
       "    <tr>\n",
       "      <th>0.0</th>\n",
       "      <td>0.0</td>\n",
       "      <td>0.380083</td>\n",
       "      <td>1.000000</td>\n",
       "      <td>0.000000</td>\n",
       "    </tr>\n",
       "    <tr>\n",
       "      <th>0.1</th>\n",
       "      <td>0.1</td>\n",
       "      <td>0.572847</td>\n",
       "      <td>0.972620</td>\n",
       "      <td>0.327738</td>\n",
       "    </tr>\n",
       "    <tr>\n",
       "      <th>0.2</th>\n",
       "      <td>0.2</td>\n",
       "      <td>0.731028</td>\n",
       "      <td>0.912805</td>\n",
       "      <td>0.619576</td>\n",
       "    </tr>\n",
       "    <tr>\n",
       "      <th>0.3</th>\n",
       "      <td>0.3</td>\n",
       "      <td>0.798111</td>\n",
       "      <td>0.828981</td>\n",
       "      <td>0.779184</td>\n",
       "    </tr>\n",
       "    <tr>\n",
       "      <th>0.4</th>\n",
       "      <td>0.4</td>\n",
       "      <td>0.806916</td>\n",
       "      <td>0.764954</td>\n",
       "      <td>0.832645</td>\n",
       "    </tr>\n",
       "    <tr>\n",
       "      <th>0.5</th>\n",
       "      <td>0.5</td>\n",
       "      <td>0.805796</td>\n",
       "      <td>0.688711</td>\n",
       "      <td>0.877583</td>\n",
       "    </tr>\n",
       "    <tr>\n",
       "      <th>0.6</th>\n",
       "      <td>0.6</td>\n",
       "      <td>0.797150</td>\n",
       "      <td>0.606150</td>\n",
       "      <td>0.914256</td>\n",
       "    </tr>\n",
       "    <tr>\n",
       "      <th>0.7</th>\n",
       "      <td>0.7</td>\n",
       "      <td>0.766571</td>\n",
       "      <td>0.470093</td>\n",
       "      <td>0.948347</td>\n",
       "    </tr>\n",
       "    <tr>\n",
       "      <th>0.8</th>\n",
       "      <td>0.8</td>\n",
       "      <td>0.743196</td>\n",
       "      <td>0.377843</td>\n",
       "      <td>0.967200</td>\n",
       "    </tr>\n",
       "    <tr>\n",
       "      <th>0.9</th>\n",
       "      <td>0.9</td>\n",
       "      <td>0.705411</td>\n",
       "      <td>0.248526</td>\n",
       "      <td>0.985537</td>\n",
       "    </tr>\n",
       "  </tbody>\n",
       "</table>\n",
       "</div>"
      ],
      "text/plain": [
       "     prob  accuracy     sensi     speci\n",
       "0.0   0.0  0.380083  1.000000  0.000000\n",
       "0.1   0.1  0.572847  0.972620  0.327738\n",
       "0.2   0.2  0.731028  0.912805  0.619576\n",
       "0.3   0.3  0.798111  0.828981  0.779184\n",
       "0.4   0.4  0.806916  0.764954  0.832645\n",
       "0.5   0.5  0.805796  0.688711  0.877583\n",
       "0.6   0.6  0.797150  0.606150  0.914256\n",
       "0.7   0.7  0.766571  0.470093  0.948347\n",
       "0.8   0.8  0.743196  0.377843  0.967200\n",
       "0.9   0.9  0.705411  0.248526  0.985537"
      ]
     },
     "execution_count": 118,
     "metadata": {},
     "output_type": "execute_result"
    }
   ],
   "source": [
    "# Creating a dataframe to see the values of accuracy, sensitivity, and specificity at different values of probabiity cutoffs\n",
    "cutoff_df = pd.DataFrame( columns = ['prob','accuracy','sensi','speci'])\n",
    "# Making confusing matrix to find values of sensitivity, accurace and specificity for each level of probablity\n",
    "from sklearn.metrics import confusion_matrix\n",
    "num = [0.0,0.1,0.2,0.3,0.4,0.5,0.6,0.7,0.8,0.9]\n",
    "for i in num:\n",
    "    cm1 = metrics.confusion_matrix(y_train_pred_final.Converted, y_train_pred_final[i] )\n",
    "    total1=sum(sum(cm1))\n",
    "    accuracy = (cm1[0,0]+cm1[1,1])/total1\n",
    "    \n",
    "    speci = cm1[0,0]/(cm1[0,0]+cm1[0,1])\n",
    "    sensi = cm1[1,1]/(cm1[1,0]+cm1[1,1])\n",
    "    cutoff_df.loc[i] =[ i ,accuracy,sensi,speci]\n",
    "cutoff_df"
   ]
  },
  {
   "cell_type": "code",
   "execution_count": 119,
   "id": "6386a791",
   "metadata": {},
   "outputs": [
    {
     "data": {
      "image/png": "[encoded data removed]",
      "text/plain": [
       "<Figure size 432x288 with 1 Axes>"
      ]
     },
     "metadata": {
      "needs_background": "light"
     },
     "output_type": "display_data"
    }
   ],
   "source": [
    "# Plotting it\n",
    "cutoff_df.plot.line(x='prob', y=['accuracy','sensi','speci'])\n",
    "plt.show()"
   ]
  },
  {
   "cell_type": "markdown",
   "id": "af2be9db",
   "metadata": {},
   "source": [
    "Comments-<br>\n",
    "        - After checking the graph and as per the requirement of client (target lead conversion rate to be around 80%), we'll take the cutoff as 0.3."
   ]
  },
  {
   "cell_type": "code",
   "execution_count": 120,
   "id": "e7af5752",
   "metadata": {},
   "outputs": [
    {
     "data": {
      "text/html": [
       "<div>\n",
       "<style scoped>\n",
       "    .dataframe tbody tr th:only-of-type {\n",
       "        vertical-align: middle;\n",
       "    }\n",
       "\n",
       "    .dataframe tbody tr th {\n",
       "        vertical-align: top;\n",
       "    }\n",
       "\n",
       "    .dataframe thead th {\n",
       "        text-align: right;\n",
       "    }\n",
       "</style>\n",
       "<table border=\"1\" class=\"dataframe\">\n",
       "  <thead>\n",
       "    <tr style=\"text-align: right;\">\n",
       "      <th></th>\n",
       "      <th>Converted</th>\n",
       "      <th>Conversion_Prob</th>\n",
       "      <th>Lead Number</th>\n",
       "      <th>Predicted</th>\n",
       "      <th>Lead Score</th>\n",
       "      <th>0.0</th>\n",
       "      <th>0.1</th>\n",
       "      <th>0.2</th>\n",
       "      <th>0.3</th>\n",
       "      <th>0.4</th>\n",
       "      <th>0.5</th>\n",
       "      <th>0.6</th>\n",
       "      <th>0.7</th>\n",
       "      <th>0.8</th>\n",
       "      <th>0.9</th>\n",
       "      <th>final_predicted</th>\n",
       "    </tr>\n",
       "  </thead>\n",
       "  <tbody>\n",
       "    <tr>\n",
       "      <th>0</th>\n",
       "      <td>1</td>\n",
       "      <td>0.556330</td>\n",
       "      <td>8823</td>\n",
       "      <td>1</td>\n",
       "      <td>56.0</td>\n",
       "      <td>1</td>\n",
       "      <td>1</td>\n",
       "      <td>1</td>\n",
       "      <td>1</td>\n",
       "      <td>1</td>\n",
       "      <td>1</td>\n",
       "      <td>0</td>\n",
       "      <td>0</td>\n",
       "      <td>0</td>\n",
       "      <td>0</td>\n",
       "      <td>1</td>\n",
       "    </tr>\n",
       "    <tr>\n",
       "      <th>1</th>\n",
       "      <td>0</td>\n",
       "      <td>0.050480</td>\n",
       "      <td>7671</td>\n",
       "      <td>0</td>\n",
       "      <td>5.0</td>\n",
       "      <td>1</td>\n",
       "      <td>0</td>\n",
       "      <td>0</td>\n",
       "      <td>0</td>\n",
       "      <td>0</td>\n",
       "      <td>0</td>\n",
       "      <td>0</td>\n",
       "      <td>0</td>\n",
       "      <td>0</td>\n",
       "      <td>0</td>\n",
       "      <td>0</td>\n",
       "    </tr>\n",
       "    <tr>\n",
       "      <th>2</th>\n",
       "      <td>1</td>\n",
       "      <td>0.762488</td>\n",
       "      <td>1371</td>\n",
       "      <td>1</td>\n",
       "      <td>76.0</td>\n",
       "      <td>1</td>\n",
       "      <td>1</td>\n",
       "      <td>1</td>\n",
       "      <td>1</td>\n",
       "      <td>1</td>\n",
       "      <td>1</td>\n",
       "      <td>1</td>\n",
       "      <td>1</td>\n",
       "      <td>0</td>\n",
       "      <td>0</td>\n",
       "      <td>1</td>\n",
       "    </tr>\n",
       "    <tr>\n",
       "      <th>3</th>\n",
       "      <td>0</td>\n",
       "      <td>0.062411</td>\n",
       "      <td>3143</td>\n",
       "      <td>0</td>\n",
       "      <td>6.0</td>\n",
       "      <td>1</td>\n",
       "      <td>0</td>\n",
       "      <td>0</td>\n",
       "      <td>0</td>\n",
       "      <td>0</td>\n",
       "      <td>0</td>\n",
       "      <td>0</td>\n",
       "      <td>0</td>\n",
       "      <td>0</td>\n",
       "      <td>0</td>\n",
       "      <td>0</td>\n",
       "    </tr>\n",
       "    <tr>\n",
       "      <th>4</th>\n",
       "      <td>0</td>\n",
       "      <td>0.070581</td>\n",
       "      <td>1376</td>\n",
       "      <td>0</td>\n",
       "      <td>7.0</td>\n",
       "      <td>1</td>\n",
       "      <td>0</td>\n",
       "      <td>0</td>\n",
       "      <td>0</td>\n",
       "      <td>0</td>\n",
       "      <td>0</td>\n",
       "      <td>0</td>\n",
       "      <td>0</td>\n",
       "      <td>0</td>\n",
       "      <td>0</td>\n",
       "      <td>0</td>\n",
       "    </tr>\n",
       "  </tbody>\n",
       "</table>\n",
       "</div>"
      ],
      "text/plain": [
       "   Converted  Conversion_Prob  Lead Number  Predicted  Lead Score  0.0  0.1  \\\n",
       "0          1         0.556330         8823          1        56.0    1    1   \n",
       "1          0         0.050480         7671          0         5.0    1    0   \n",
       "2          1         0.762488         1371          1        76.0    1    1   \n",
       "3          0         0.062411         3143          0         6.0    1    0   \n",
       "4          0         0.070581         1376          0         7.0    1    0   \n",
       "\n",
       "   0.2  0.3  0.4  0.5  0.6  0.7  0.8  0.9  final_predicted  \n",
       "0    1    1    1    1    0    0    0    0                1  \n",
       "1    0    0    0    0    0    0    0    0                0  \n",
       "2    1    1    1    1    1    1    0    0                1  \n",
       "3    0    0    0    0    0    0    0    0                0  \n",
       "4    0    0    0    0    0    0    0    0                0  "
      ]
     },
     "execution_count": 120,
     "metadata": {},
     "output_type": "execute_result"
    }
   ],
   "source": [
    "y_train_pred_final['final_predicted'] = y_train_pred_final.Conversion_Prob.map( lambda x: 1 if x > 0.3 else 0)\n",
    "y_train_pred_final.head()"
   ]
  },
  {
   "cell_type": "code",
   "execution_count": 121,
   "id": "bb311892",
   "metadata": {},
   "outputs": [
    {
     "data": {
      "text/plain": [
       "0.79811079090618"
      ]
     },
     "execution_count": 121,
     "metadata": {},
     "output_type": "execute_result"
    }
   ],
   "source": [
    "# Checking the overall accuracy\n",
    "metrics.accuracy_score(y_train_pred_final.Converted, y_train_pred_final.final_predicted)"
   ]
  },
  {
   "cell_type": "code",
   "execution_count": 122,
   "id": "9e0304a2",
   "metadata": {},
   "outputs": [
    {
     "data": {
      "text/plain": [
       "array([[3017,  855],\n",
       "       [ 406, 1968]], dtype=int64)"
      ]
     },
     "execution_count": 122,
     "metadata": {},
     "output_type": "execute_result"
    }
   ],
   "source": [
    "# Forming confusion matrix \n",
    "confusion2 = metrics.confusion_matrix(y_train_pred_final.Converted, y_train_pred_final.final_predicted )\n",
    "confusion2"
   ]
  },
  {
   "cell_type": "code",
   "execution_count": 123,
   "id": "c9cc2ce2",
   "metadata": {},
   "outputs": [],
   "source": [
    "# Substituting the value of true positive\n",
    "TP = confusion2[1,1]\n",
    "# Substituting the value of true negatives\n",
    "TN = confusion2[0,0]\n",
    "# Substituting the value of false positives\n",
    "FP = confusion2[0,1] \n",
    "# Substituting the value of false negatives\n",
    "FN = confusion2[1,0]"
   ]
  },
  {
   "cell_type": "code",
   "execution_count": 124,
   "id": "54ff7fc9",
   "metadata": {},
   "outputs": [
    {
     "data": {
      "text/plain": [
       "0.8289806234203876"
      ]
     },
     "execution_count": 124,
     "metadata": {},
     "output_type": "execute_result"
    }
   ],
   "source": [
    "# Calculating the sensitivity\n",
    "TP/(TP+FN)"
   ]
  },
  {
   "cell_type": "code",
   "execution_count": 141,
   "id": "b10213c9",
   "metadata": {},
   "outputs": [
    {
     "name": "stdout",
     "output_type": "stream",
     "text": [
      "0.77918388429\n"
     ]
    }
   ],
   "source": [
    "# Calculating the specificity\n",
    "TN/(TN+FP)"
   ]
  },
  {
   "cell_type": "markdown",
   "id": "d0f49ec1",
   "metadata": {},
   "source": [
    "Comments-<br>\n",
    "         - With the current cut off of 0.3, it can be seen that the accuracy is around 80%, the sensitivity is around 83% and the specificity is around 78%."
   ]
  },
  {
   "cell_type": "markdown",
   "id": "fef09a83",
   "metadata": {},
   "source": [
    "# Prediction on Test data"
   ]
  },
  {
   "cell_type": "code",
   "execution_count": 126,
   "id": "87b90233",
   "metadata": {},
   "outputs": [],
   "source": [
    "# Scaling numeric values\n",
    "X_test[['TotalVisits', 'Page Views Per Visit', 'Total Time Spent on Website']] = scaler.transform(X_test[['TotalVisits', 'Page Views Per Visit', 'Total Time Spent on Website']])"
   ]
  },
  {
   "cell_type": "code",
   "execution_count": 127,
   "id": "e1e636ac",
   "metadata": {},
   "outputs": [],
   "source": [
    "# Substituting all the columns in the final train model\n",
    "imp = X_train.columns"
   ]
  },
  {
   "cell_type": "code",
   "execution_count": 128,
   "id": "bc680ab3",
   "metadata": {},
   "outputs": [
    {
     "data": {
      "text/html": [
       "<div>\n",
       "<style scoped>\n",
       "    .dataframe tbody tr th:only-of-type {\n",
       "        vertical-align: middle;\n",
       "    }\n",
       "\n",
       "    .dataframe tbody tr th {\n",
       "        vertical-align: top;\n",
       "    }\n",
       "\n",
       "    .dataframe thead th {\n",
       "        text-align: right;\n",
       "    }\n",
       "</style>\n",
       "<table border=\"1\" class=\"dataframe\">\n",
       "  <thead>\n",
       "    <tr style=\"text-align: right;\">\n",
       "      <th></th>\n",
       "      <th>const</th>\n",
       "      <th>Do Not Email</th>\n",
       "      <th>Total Time Spent on Website</th>\n",
       "      <th>TotalVisits</th>\n",
       "      <th>Lead Origin_lead add form</th>\n",
       "      <th>Lead Source_olark chat</th>\n",
       "      <th>Last Activity_converted to lead</th>\n",
       "      <th>Last Activity_email bounced</th>\n",
       "      <th>Last Activity_olark chat conversation</th>\n",
       "      <th>Last Activity_page visited on website</th>\n",
       "      <th>Last Notable Activity_email link clicked</th>\n",
       "      <th>Last Notable Activity_email opened</th>\n",
       "      <th>Last Notable Activity_modified</th>\n",
       "      <th>Last Notable Activity_olark chat conversation</th>\n",
       "      <th>Last Notable Activity_page visited on website</th>\n",
       "    </tr>\n",
       "  </thead>\n",
       "  <tbody>\n",
       "    <tr>\n",
       "      <th>6732</th>\n",
       "      <td>1.0</td>\n",
       "      <td>0</td>\n",
       "      <td>0.000000</td>\n",
       "      <td>0.000000</td>\n",
       "      <td>0</td>\n",
       "      <td>1</td>\n",
       "      <td>0</td>\n",
       "      <td>0</td>\n",
       "      <td>0</td>\n",
       "      <td>0</td>\n",
       "      <td>0</td>\n",
       "      <td>1</td>\n",
       "      <td>0</td>\n",
       "      <td>0</td>\n",
       "      <td>0</td>\n",
       "    </tr>\n",
       "    <tr>\n",
       "      <th>6828</th>\n",
       "      <td>1.0</td>\n",
       "      <td>0</td>\n",
       "      <td>0.184859</td>\n",
       "      <td>0.647059</td>\n",
       "      <td>0</td>\n",
       "      <td>0</td>\n",
       "      <td>0</td>\n",
       "      <td>0</td>\n",
       "      <td>0</td>\n",
       "      <td>0</td>\n",
       "      <td>0</td>\n",
       "      <td>1</td>\n",
       "      <td>0</td>\n",
       "      <td>0</td>\n",
       "      <td>0</td>\n",
       "    </tr>\n",
       "    <tr>\n",
       "      <th>7751</th>\n",
       "      <td>1.0</td>\n",
       "      <td>0</td>\n",
       "      <td>0.209947</td>\n",
       "      <td>0.176471</td>\n",
       "      <td>0</td>\n",
       "      <td>0</td>\n",
       "      <td>0</td>\n",
       "      <td>0</td>\n",
       "      <td>0</td>\n",
       "      <td>1</td>\n",
       "      <td>0</td>\n",
       "      <td>0</td>\n",
       "      <td>1</td>\n",
       "      <td>0</td>\n",
       "      <td>0</td>\n",
       "    </tr>\n",
       "    <tr>\n",
       "      <th>279</th>\n",
       "      <td>1.0</td>\n",
       "      <td>0</td>\n",
       "      <td>0.191901</td>\n",
       "      <td>0.235294</td>\n",
       "      <td>0</td>\n",
       "      <td>0</td>\n",
       "      <td>0</td>\n",
       "      <td>0</td>\n",
       "      <td>0</td>\n",
       "      <td>0</td>\n",
       "      <td>1</td>\n",
       "      <td>0</td>\n",
       "      <td>0</td>\n",
       "      <td>0</td>\n",
       "      <td>0</td>\n",
       "    </tr>\n",
       "    <tr>\n",
       "      <th>4742</th>\n",
       "      <td>1.0</td>\n",
       "      <td>0</td>\n",
       "      <td>0.484595</td>\n",
       "      <td>0.176471</td>\n",
       "      <td>0</td>\n",
       "      <td>0</td>\n",
       "      <td>0</td>\n",
       "      <td>0</td>\n",
       "      <td>0</td>\n",
       "      <td>0</td>\n",
       "      <td>0</td>\n",
       "      <td>0</td>\n",
       "      <td>0</td>\n",
       "      <td>0</td>\n",
       "      <td>0</td>\n",
       "    </tr>\n",
       "    <tr>\n",
       "      <th>...</th>\n",
       "      <td>...</td>\n",
       "      <td>...</td>\n",
       "      <td>...</td>\n",
       "      <td>...</td>\n",
       "      <td>...</td>\n",
       "      <td>...</td>\n",
       "      <td>...</td>\n",
       "      <td>...</td>\n",
       "      <td>...</td>\n",
       "      <td>...</td>\n",
       "      <td>...</td>\n",
       "      <td>...</td>\n",
       "      <td>...</td>\n",
       "      <td>...</td>\n",
       "      <td>...</td>\n",
       "    </tr>\n",
       "    <tr>\n",
       "      <th>124</th>\n",
       "      <td>1.0</td>\n",
       "      <td>0</td>\n",
       "      <td>0.720951</td>\n",
       "      <td>0.235294</td>\n",
       "      <td>0</td>\n",
       "      <td>0</td>\n",
       "      <td>0</td>\n",
       "      <td>0</td>\n",
       "      <td>0</td>\n",
       "      <td>0</td>\n",
       "      <td>0</td>\n",
       "      <td>1</td>\n",
       "      <td>0</td>\n",
       "      <td>0</td>\n",
       "      <td>0</td>\n",
       "    </tr>\n",
       "    <tr>\n",
       "      <th>2003</th>\n",
       "      <td>1.0</td>\n",
       "      <td>0</td>\n",
       "      <td>0.023768</td>\n",
       "      <td>0.058824</td>\n",
       "      <td>0</td>\n",
       "      <td>0</td>\n",
       "      <td>1</td>\n",
       "      <td>0</td>\n",
       "      <td>0</td>\n",
       "      <td>0</td>\n",
       "      <td>0</td>\n",
       "      <td>0</td>\n",
       "      <td>1</td>\n",
       "      <td>0</td>\n",
       "      <td>0</td>\n",
       "    </tr>\n",
       "    <tr>\n",
       "      <th>2147</th>\n",
       "      <td>1.0</td>\n",
       "      <td>0</td>\n",
       "      <td>0.502201</td>\n",
       "      <td>0.411765</td>\n",
       "      <td>0</td>\n",
       "      <td>0</td>\n",
       "      <td>0</td>\n",
       "      <td>0</td>\n",
       "      <td>1</td>\n",
       "      <td>0</td>\n",
       "      <td>0</td>\n",
       "      <td>0</td>\n",
       "      <td>0</td>\n",
       "      <td>1</td>\n",
       "      <td>0</td>\n",
       "    </tr>\n",
       "    <tr>\n",
       "      <th>1330</th>\n",
       "      <td>1.0</td>\n",
       "      <td>0</td>\n",
       "      <td>0.125440</td>\n",
       "      <td>0.294118</td>\n",
       "      <td>0</td>\n",
       "      <td>0</td>\n",
       "      <td>0</td>\n",
       "      <td>0</td>\n",
       "      <td>0</td>\n",
       "      <td>0</td>\n",
       "      <td>0</td>\n",
       "      <td>1</td>\n",
       "      <td>0</td>\n",
       "      <td>0</td>\n",
       "      <td>0</td>\n",
       "    </tr>\n",
       "    <tr>\n",
       "      <th>374</th>\n",
       "      <td>1.0</td>\n",
       "      <td>0</td>\n",
       "      <td>0.606514</td>\n",
       "      <td>0.235294</td>\n",
       "      <td>0</td>\n",
       "      <td>0</td>\n",
       "      <td>0</td>\n",
       "      <td>0</td>\n",
       "      <td>0</td>\n",
       "      <td>0</td>\n",
       "      <td>0</td>\n",
       "      <td>0</td>\n",
       "      <td>1</td>\n",
       "      <td>0</td>\n",
       "      <td>0</td>\n",
       "    </tr>\n",
       "  </tbody>\n",
       "</table>\n",
       "<p>2678 rows × 15 columns</p>\n",
       "</div>"
      ],
      "text/plain": [
       "      const  Do Not Email  Total Time Spent on Website  TotalVisits  \\\n",
       "6732    1.0             0                     0.000000     0.000000   \n",
       "6828    1.0             0                     0.184859     0.647059   \n",
       "7751    1.0             0                     0.209947     0.176471   \n",
       "279     1.0             0                     0.191901     0.235294   \n",
       "4742    1.0             0                     0.484595     0.176471   \n",
       "...     ...           ...                          ...          ...   \n",
       "124     1.0             0                     0.720951     0.235294   \n",
       "2003    1.0             0                     0.023768     0.058824   \n",
       "2147    1.0             0                     0.502201     0.411765   \n",
       "1330    1.0             0                     0.125440     0.294118   \n",
       "374     1.0             0                     0.606514     0.235294   \n",
       "\n",
       "      Lead Origin_lead add form  Lead Source_olark chat  \\\n",
       "6732                          0                       1   \n",
       "6828                          0                       0   \n",
       "7751                          0                       0   \n",
       "279                           0                       0   \n",
       "4742                          0                       0   \n",
       "...                         ...                     ...   \n",
       "124                           0                       0   \n",
       "2003                          0                       0   \n",
       "2147                          0                       0   \n",
       "1330                          0                       0   \n",
       "374                           0                       0   \n",
       "\n",
       "      Last Activity_converted to lead  Last Activity_email bounced  \\\n",
       "6732                                0                            0   \n",
       "6828                                0                            0   \n",
       "7751                                0                            0   \n",
       "279                                 0                            0   \n",
       "4742                                0                            0   \n",
       "...                               ...                          ...   \n",
       "124                                 0                            0   \n",
       "2003                                1                            0   \n",
       "2147                                0                            0   \n",
       "1330                                0                            0   \n",
       "374                                 0                            0   \n",
       "\n",
       "      Last Activity_olark chat conversation  \\\n",
       "6732                                      0   \n",
       "6828                                      0   \n",
       "7751                                      0   \n",
       "279                                       0   \n",
       "4742                                      0   \n",
       "...                                     ...   \n",
       "124                                       0   \n",
       "2003                                      0   \n",
       "2147                                      1   \n",
       "1330                                      0   \n",
       "374                                       0   \n",
       "\n",
       "      Last Activity_page visited on website  \\\n",
       "6732                                      0   \n",
       "6828                                      0   \n",
       "7751                                      1   \n",
       "279                                       0   \n",
       "4742                                      0   \n",
       "...                                     ...   \n",
       "124                                       0   \n",
       "2003                                      0   \n",
       "2147                                      0   \n",
       "1330                                      0   \n",
       "374                                       0   \n",
       "\n",
       "      Last Notable Activity_email link clicked  \\\n",
       "6732                                         0   \n",
       "6828                                         0   \n",
       "7751                                         0   \n",
       "279                                          1   \n",
       "4742                                         0   \n",
       "...                                        ...   \n",
       "124                                          0   \n",
       "2003                                         0   \n",
       "2147                                         0   \n",
       "1330                                         0   \n",
       "374                                          0   \n",
       "\n",
       "      Last Notable Activity_email opened  Last Notable Activity_modified  \\\n",
       "6732                                   1                               0   \n",
       "6828                                   1                               0   \n",
       "7751                                   0                               1   \n",
       "279                                    0                               0   \n",
       "4742                                   0                               0   \n",
       "...                                  ...                             ...   \n",
       "124                                    1                               0   \n",
       "2003                                   0                               1   \n",
       "2147                                   0                               0   \n",
       "1330                                   1                               0   \n",
       "374                                    0                               1   \n",
       "\n",
       "      Last Notable Activity_olark chat conversation  \\\n",
       "6732                                              0   \n",
       "6828                                              0   \n",
       "7751                                              0   \n",
       "279                                               0   \n",
       "4742                                              0   \n",
       "...                                             ...   \n",
       "124                                               0   \n",
       "2003                                              0   \n",
       "2147                                              1   \n",
       "1330                                              0   \n",
       "374                                               0   \n",
       "\n",
       "      Last Notable Activity_page visited on website  \n",
       "6732                                              0  \n",
       "6828                                              0  \n",
       "7751                                              0  \n",
       "279                                               0  \n",
       "4742                                              0  \n",
       "...                                             ...  \n",
       "124                                               0  \n",
       "2003                                              0  \n",
       "2147                                              0  \n",
       "1330                                              0  \n",
       "374                                               0  \n",
       "\n",
       "[2678 rows x 15 columns]"
      ]
     },
     "execution_count": 128,
     "metadata": {},
     "output_type": "execute_result"
    }
   ],
   "source": [
    "# Select the columns in X_train for X_test as well\n",
    "X_test = X_test[imp]\n",
    "# Add a constant to X_test\n",
    "X_test_sm = sm.add_constant(X_test[imp])\n",
    "X_test_sm"
   ]
  },
  {
   "cell_type": "code",
   "execution_count": 130,
   "id": "4c3c31eb",
   "metadata": {},
   "outputs": [
    {
     "data": {
      "text/html": [
       "<div>\n",
       "<style scoped>\n",
       "    .dataframe tbody tr th:only-of-type {\n",
       "        vertical-align: middle;\n",
       "    }\n",
       "\n",
       "    .dataframe tbody tr th {\n",
       "        vertical-align: top;\n",
       "    }\n",
       "\n",
       "    .dataframe thead th {\n",
       "        text-align: right;\n",
       "    }\n",
       "</style>\n",
       "<table border=\"1\" class=\"dataframe\">\n",
       "  <thead>\n",
       "    <tr style=\"text-align: right;\">\n",
       "      <th></th>\n",
       "      <th>Converted</th>\n",
       "      <th>Conversion_Prob</th>\n",
       "      <th>Lead Number</th>\n",
       "    </tr>\n",
       "  </thead>\n",
       "  <tbody>\n",
       "    <tr>\n",
       "      <th>0</th>\n",
       "      <td>0</td>\n",
       "      <td>0.272742</td>\n",
       "      <td>6732</td>\n",
       "    </tr>\n",
       "    <tr>\n",
       "      <th>1</th>\n",
       "      <td>0</td>\n",
       "      <td>0.308777</td>\n",
       "      <td>6828</td>\n",
       "    </tr>\n",
       "    <tr>\n",
       "      <th>2</th>\n",
       "      <td>0</td>\n",
       "      <td>0.116936</td>\n",
       "      <td>7751</td>\n",
       "    </tr>\n",
       "    <tr>\n",
       "      <th>3</th>\n",
       "      <td>0</td>\n",
       "      <td>0.159057</td>\n",
       "      <td>279</td>\n",
       "    </tr>\n",
       "    <tr>\n",
       "      <th>4</th>\n",
       "      <td>1</td>\n",
       "      <td>0.830183</td>\n",
       "      <td>4742</td>\n",
       "    </tr>\n",
       "    <tr>\n",
       "      <th>...</th>\n",
       "      <td>...</td>\n",
       "      <td>...</td>\n",
       "      <td>...</td>\n",
       "    </tr>\n",
       "    <tr>\n",
       "      <th>2673</th>\n",
       "      <td>0</td>\n",
       "      <td>0.794059</td>\n",
       "      <td>124</td>\n",
       "    </tr>\n",
       "    <tr>\n",
       "      <th>2674</th>\n",
       "      <td>0</td>\n",
       "      <td>0.031417</td>\n",
       "      <td>2003</td>\n",
       "    </tr>\n",
       "    <tr>\n",
       "      <th>2675</th>\n",
       "      <td>1</td>\n",
       "      <td>0.186146</td>\n",
       "      <td>2147</td>\n",
       "    </tr>\n",
       "    <tr>\n",
       "      <th>2676</th>\n",
       "      <td>0</td>\n",
       "      <td>0.191942</td>\n",
       "      <td>1330</td>\n",
       "    </tr>\n",
       "    <tr>\n",
       "      <th>2677</th>\n",
       "      <td>1</td>\n",
       "      <td>0.649623</td>\n",
       "      <td>374</td>\n",
       "    </tr>\n",
       "  </tbody>\n",
       "</table>\n",
       "<p>2678 rows × 3 columns</p>\n",
       "</div>"
      ],
      "text/plain": [
       "      Converted  Conversion_Prob  Lead Number\n",
       "0             0         0.272742         6732\n",
       "1             0         0.308777         6828\n",
       "2             0         0.116936         7751\n",
       "3             0         0.159057          279\n",
       "4             1         0.830183         4742\n",
       "...         ...              ...          ...\n",
       "2673          0         0.794059          124\n",
       "2674          0         0.031417         2003\n",
       "2675          1         0.186146         2147\n",
       "2676          0         0.191942         1330\n",
       "2677          1         0.649623          374\n",
       "\n",
       "[2678 rows x 3 columns]"
      ]
     },
     "execution_count": 130,
     "metadata": {},
     "output_type": "execute_result"
    }
   ],
   "source": [
    "# Storing prediction of test set in the variable 'y_test_pred'\n",
    "y_test_pred = res.predict(X_test_sm)\n",
    "# Coverting it to df\n",
    "y_pred_df = pd.DataFrame(y_test_pred)\n",
    "# Converting y_test to dataframe\n",
    "y_test_df = pd.DataFrame(y_test)\n",
    "# Remove index for both dataframes to append them side by side \n",
    "y_pred_df.reset_index(drop=True, inplace=True)\n",
    "y_test_df.reset_index(drop=True, inplace=True)\n",
    "# Append y_test_df and y_pred_df\n",
    "y_pred_final = pd.concat([y_test_df, y_pred_df],axis=1)\n",
    "# Renaming column \n",
    "y_pred_final= y_pred_final.rename(columns = {0 : 'Conversion_Prob'})\n",
    "# Using 'Lead Number' as an index position\n",
    "y_pred_final['Lead Number'] = y_test.index\n",
    "y_pred_final"
   ]
  },
  {
   "cell_type": "code",
   "execution_count": 133,
   "id": "be6a3c7c",
   "metadata": {},
   "outputs": [
    {
     "data": {
      "text/html": [
       "<div>\n",
       "<style scoped>\n",
       "    .dataframe tbody tr th:only-of-type {\n",
       "        vertical-align: middle;\n",
       "    }\n",
       "\n",
       "    .dataframe tbody tr th {\n",
       "        vertical-align: top;\n",
       "    }\n",
       "\n",
       "    .dataframe thead th {\n",
       "        text-align: right;\n",
       "    }\n",
       "</style>\n",
       "<table border=\"1\" class=\"dataframe\">\n",
       "  <thead>\n",
       "    <tr style=\"text-align: right;\">\n",
       "      <th></th>\n",
       "      <th>Converted</th>\n",
       "      <th>Conversion_Prob</th>\n",
       "      <th>Lead Number</th>\n",
       "      <th>final_predicted</th>\n",
       "      <th>Lead Score</th>\n",
       "    </tr>\n",
       "  </thead>\n",
       "  <tbody>\n",
       "    <tr>\n",
       "      <th>0</th>\n",
       "      <td>0</td>\n",
       "      <td>0.272742</td>\n",
       "      <td>6732</td>\n",
       "      <td>0</td>\n",
       "      <td>27.0</td>\n",
       "    </tr>\n",
       "    <tr>\n",
       "      <th>1</th>\n",
       "      <td>0</td>\n",
       "      <td>0.308777</td>\n",
       "      <td>6828</td>\n",
       "      <td>1</td>\n",
       "      <td>31.0</td>\n",
       "    </tr>\n",
       "    <tr>\n",
       "      <th>2</th>\n",
       "      <td>0</td>\n",
       "      <td>0.116936</td>\n",
       "      <td>7751</td>\n",
       "      <td>0</td>\n",
       "      <td>12.0</td>\n",
       "    </tr>\n",
       "    <tr>\n",
       "      <th>3</th>\n",
       "      <td>0</td>\n",
       "      <td>0.159057</td>\n",
       "      <td>279</td>\n",
       "      <td>0</td>\n",
       "      <td>16.0</td>\n",
       "    </tr>\n",
       "    <tr>\n",
       "      <th>4</th>\n",
       "      <td>1</td>\n",
       "      <td>0.830183</td>\n",
       "      <td>4742</td>\n",
       "      <td>1</td>\n",
       "      <td>83.0</td>\n",
       "    </tr>\n",
       "  </tbody>\n",
       "</table>\n",
       "</div>"
      ],
      "text/plain": [
       "   Converted  Conversion_Prob  Lead Number  final_predicted  Lead Score\n",
       "0          0         0.272742         6732                0        27.0\n",
       "1          0         0.308777         6828                1        31.0\n",
       "2          0         0.116936         7751                0        12.0\n",
       "3          0         0.159057          279                0        16.0\n",
       "4          1         0.830183         4742                1        83.0"
      ]
     },
     "execution_count": 133,
     "metadata": {},
     "output_type": "execute_result"
    }
   ],
   "source": [
    "# Making prediction using cut off 0.3\n",
    "y_pred_final['final_predicted'] = y_pred_final.Conversion_Prob.map(lambda x: 1 if x > 0.3 else 0)\n",
    "y_pred_final['Lead Score'] = y_pred_final.Conversion_Prob.map(lambda x: round(x*100,0))\n",
    "y_pred_final.head()"
   ]
  },
  {
   "cell_type": "code",
   "execution_count": 134,
   "id": "365e385c",
   "metadata": {},
   "outputs": [
    {
     "data": {
      "text/plain": [
       "0.7781926811053025"
      ]
     },
     "execution_count": 134,
     "metadata": {},
     "output_type": "execute_result"
    }
   ],
   "source": [
    "# Check the overall accuracy\n",
    "metrics.accuracy_score(y_pred_final['Converted'], y_pred_final.final_predicted)"
   ]
  },
  {
   "cell_type": "code",
   "execution_count": 135,
   "id": "e07637ad",
   "metadata": {},
   "outputs": [
    {
     "data": {
      "text/plain": [
       "array([[1274,  409],\n",
       "       [ 185,  810]], dtype=int64)"
      ]
     },
     "execution_count": 135,
     "metadata": {},
     "output_type": "execute_result"
    }
   ],
   "source": [
    "# Creating confusion matrix \n",
    "confusion2 = metrics.confusion_matrix(y_pred_final['Converted'], y_pred_final.final_predicted )\n",
    "confusion2"
   ]
  },
  {
   "cell_type": "code",
   "execution_count": 136,
   "id": "88dfdffa",
   "metadata": {},
   "outputs": [],
   "source": [
    "# Substituting the value of true positive\n",
    "TP = confusion2[1,1]\n",
    "# Substituting the value of true negatives\n",
    "TN = confusion2[0,0]\n",
    "# Substituting the value of false positives\n",
    "FP = confusion2[0,1] \n",
    "# Substituting the value of false negatives\n",
    "FN = confusion2[1,0]"
   ]
  },
  {
   "cell_type": "code",
   "execution_count": 143,
   "id": "695683f0",
   "metadata": {},
   "outputs": [
    {
     "data": {
      "text/plain": [
       "0.8140703517587939"
      ]
     },
     "execution_count": 143,
     "metadata": {},
     "output_type": "execute_result"
    }
   ],
   "source": [
    "# Calculating the sensitivity\n",
    "TP/(TP+FN)"
   ]
  },
  {
   "cell_type": "code",
   "execution_count": 142,
   "id": "d33869e1",
   "metadata": {},
   "outputs": [
    {
     "data": {
      "text/plain": [
       "0.7569815805109923"
      ]
     },
     "execution_count": 142,
     "metadata": {},
     "output_type": "execute_result"
    }
   ],
   "source": [
    "# Calculating the specificity\n",
    "TN/(TN+FP)"
   ]
  },
  {
   "cell_type": "code",
   "execution_count": 144,
   "id": "45a5ec1c",
   "metadata": {},
   "outputs": [
    {
     "data": {
      "text/plain": [
       "0.6644790812141099"
      ]
     },
     "execution_count": 144,
     "metadata": {},
     "output_type": "execute_result"
    }
   ],
   "source": [
    "# Calculating the precison\n",
    "TP/(TP+FP)"
   ]
  },
  {
   "cell_type": "markdown",
   "id": "b2a6c082",
   "metadata": {},
   "source": [
    "## Precision and Recall"
   ]
  },
  {
   "cell_type": "code",
   "execution_count": 145,
   "id": "22396410",
   "metadata": {},
   "outputs": [
    {
     "data": {
      "text/plain": [
       "array([[3017,  855],\n",
       "       [ 406, 1968]], dtype=int64)"
      ]
     },
     "execution_count": 145,
     "metadata": {},
     "output_type": "execute_result"
    }
   ],
   "source": [
    "confusion = metrics.confusion_matrix(y_train_pred_final.Converted, y_train_pred_final.final_predicted )\n",
    "confusion"
   ]
  },
  {
   "cell_type": "code",
   "execution_count": 146,
   "id": "7254e7fd",
   "metadata": {},
   "outputs": [
    {
     "data": {
      "text/plain": [
       "0.6971307120085016"
      ]
     },
     "execution_count": 146,
     "metadata": {},
     "output_type": "execute_result"
    }
   ],
   "source": [
    "# Precision = TP / TP + FP\n",
    "confusion[1,1]/(confusion[0,1]+confusion[1,1])"
   ]
  },
  {
   "cell_type": "code",
   "execution_count": 147,
   "id": "026e3cd8",
   "metadata": {},
   "outputs": [
    {
     "data": {
      "text/plain": [
       "0.8289806234203876"
      ]
     },
     "execution_count": 147,
     "metadata": {},
     "output_type": "execute_result"
    }
   ],
   "source": [
    "#Recall = TP / TP + FN\n",
    "confusion[1,1]/(confusion[1,0]+confusion[1,1])"
   ]
  },
  {
   "cell_type": "markdown",
   "id": "13b46889",
   "metadata": {},
   "source": [
    "Comments-<br>\n",
    "          With the current cut off of 0.3, the precision is around 70% and recall is around 83%."
   ]
  },
  {
   "cell_type": "markdown",
   "id": "921a97c1",
   "metadata": {},
   "source": [
    "## Precision and Recall Tradeoff"
   ]
  },
  {
   "cell_type": "code",
   "execution_count": 148,
   "id": "e13c0b38",
   "metadata": {},
   "outputs": [],
   "source": [
    "from sklearn.metrics import precision_recall_curve"
   ]
  },
  {
   "cell_type": "code",
   "execution_count": 149,
   "id": "5d31f57c",
   "metadata": {},
   "outputs": [
    {
     "data": {
      "text/plain": [
       "(0       1\n",
       " 1       0\n",
       " 2       1\n",
       " 3       0\n",
       " 4       0\n",
       "        ..\n",
       " 6241    0\n",
       " 6242    1\n",
       " 6243    0\n",
       " 6244    0\n",
       " 6245    1\n",
       " Name: Converted, Length: 6246, dtype: int64,\n",
       " 0       1\n",
       " 1       0\n",
       " 2       1\n",
       " 3       0\n",
       " 4       0\n",
       "        ..\n",
       " 6241    0\n",
       " 6242    1\n",
       " 6243    0\n",
       " 6244    0\n",
       " 6245    0\n",
       " Name: final_predicted, Length: 6246, dtype: int64)"
      ]
     },
     "execution_count": 149,
     "metadata": {},
     "output_type": "execute_result"
    }
   ],
   "source": [
    "y_train_pred_final.Converted, y_train_pred_final.final_predicted"
   ]
  },
  {
   "cell_type": "code",
   "execution_count": 150,
   "id": "42ecc86b",
   "metadata": {},
   "outputs": [],
   "source": [
    "p, r, thresholds = precision_recall_curve(y_train_pred_final.Converted, y_train_pred_final.Conversion_Prob)"
   ]
  },
  {
   "cell_type": "code",
   "execution_count": 151,
   "id": "888eb1e3",
   "metadata": {},
   "outputs": [
    {
     "data": {
      "image/png": "[encoded data removed]",
      "text/plain": [
       "<Figure size 432x288 with 1 Axes>"
      ]
     },
     "metadata": {
      "needs_background": "light"
     },
     "output_type": "display_data"
    }
   ],
   "source": [
    "plt.plot(thresholds, p[:-1], \"g-\")\n",
    "plt.plot(thresholds, r[:-1], \"r-\")\n",
    "plt.show()"
   ]
  },
  {
   "cell_type": "code",
   "execution_count": 158,
   "id": "5dca897c",
   "metadata": {},
   "outputs": [
    {
     "data": {
      "text/html": [
       "<div>\n",
       "<style scoped>\n",
       "    .dataframe tbody tr th:only-of-type {\n",
       "        vertical-align: middle;\n",
       "    }\n",
       "\n",
       "    .dataframe tbody tr th {\n",
       "        vertical-align: top;\n",
       "    }\n",
       "\n",
       "    .dataframe thead th {\n",
       "        text-align: right;\n",
       "    }\n",
       "</style>\n",
       "<table border=\"1\" class=\"dataframe\">\n",
       "  <thead>\n",
       "    <tr style=\"text-align: right;\">\n",
       "      <th></th>\n",
       "      <th>Converted</th>\n",
       "      <th>Conversion_Prob</th>\n",
       "      <th>Lead Number</th>\n",
       "      <th>Predicted</th>\n",
       "      <th>Lead Score</th>\n",
       "      <th>0.0</th>\n",
       "      <th>0.1</th>\n",
       "      <th>0.2</th>\n",
       "      <th>0.3</th>\n",
       "      <th>0.4</th>\n",
       "      <th>0.5</th>\n",
       "      <th>0.6</th>\n",
       "      <th>0.7</th>\n",
       "      <th>0.8</th>\n",
       "      <th>0.9</th>\n",
       "      <th>final_predicted</th>\n",
       "    </tr>\n",
       "  </thead>\n",
       "  <tbody>\n",
       "    <tr>\n",
       "      <th>0</th>\n",
       "      <td>1</td>\n",
       "      <td>0.556330</td>\n",
       "      <td>8823</td>\n",
       "      <td>1</td>\n",
       "      <td>56.0</td>\n",
       "      <td>1</td>\n",
       "      <td>1</td>\n",
       "      <td>1</td>\n",
       "      <td>1</td>\n",
       "      <td>1</td>\n",
       "      <td>1</td>\n",
       "      <td>0</td>\n",
       "      <td>0</td>\n",
       "      <td>0</td>\n",
       "      <td>0</td>\n",
       "      <td>1</td>\n",
       "    </tr>\n",
       "    <tr>\n",
       "      <th>1</th>\n",
       "      <td>0</td>\n",
       "      <td>0.050480</td>\n",
       "      <td>7671</td>\n",
       "      <td>0</td>\n",
       "      <td>5.0</td>\n",
       "      <td>1</td>\n",
       "      <td>0</td>\n",
       "      <td>0</td>\n",
       "      <td>0</td>\n",
       "      <td>0</td>\n",
       "      <td>0</td>\n",
       "      <td>0</td>\n",
       "      <td>0</td>\n",
       "      <td>0</td>\n",
       "      <td>0</td>\n",
       "      <td>0</td>\n",
       "    </tr>\n",
       "    <tr>\n",
       "      <th>2</th>\n",
       "      <td>1</td>\n",
       "      <td>0.762488</td>\n",
       "      <td>1371</td>\n",
       "      <td>1</td>\n",
       "      <td>76.0</td>\n",
       "      <td>1</td>\n",
       "      <td>1</td>\n",
       "      <td>1</td>\n",
       "      <td>1</td>\n",
       "      <td>1</td>\n",
       "      <td>1</td>\n",
       "      <td>1</td>\n",
       "      <td>1</td>\n",
       "      <td>0</td>\n",
       "      <td>0</td>\n",
       "      <td>1</td>\n",
       "    </tr>\n",
       "    <tr>\n",
       "      <th>3</th>\n",
       "      <td>0</td>\n",
       "      <td>0.062411</td>\n",
       "      <td>3143</td>\n",
       "      <td>0</td>\n",
       "      <td>6.0</td>\n",
       "      <td>1</td>\n",
       "      <td>0</td>\n",
       "      <td>0</td>\n",
       "      <td>0</td>\n",
       "      <td>0</td>\n",
       "      <td>0</td>\n",
       "      <td>0</td>\n",
       "      <td>0</td>\n",
       "      <td>0</td>\n",
       "      <td>0</td>\n",
       "      <td>0</td>\n",
       "    </tr>\n",
       "    <tr>\n",
       "      <th>4</th>\n",
       "      <td>0</td>\n",
       "      <td>0.070581</td>\n",
       "      <td>1376</td>\n",
       "      <td>0</td>\n",
       "      <td>7.0</td>\n",
       "      <td>1</td>\n",
       "      <td>0</td>\n",
       "      <td>0</td>\n",
       "      <td>0</td>\n",
       "      <td>0</td>\n",
       "      <td>0</td>\n",
       "      <td>0</td>\n",
       "      <td>0</td>\n",
       "      <td>0</td>\n",
       "      <td>0</td>\n",
       "      <td>0</td>\n",
       "    </tr>\n",
       "  </tbody>\n",
       "</table>\n",
       "</div>"
      ],
      "text/plain": [
       "   Converted  Conversion_Prob  Lead Number  Predicted  Lead Score  0.0  0.1  \\\n",
       "0          1         0.556330         8823          1        56.0    1    1   \n",
       "1          0         0.050480         7671          0         5.0    1    0   \n",
       "2          1         0.762488         1371          1        76.0    1    1   \n",
       "3          0         0.062411         3143          0         6.0    1    0   \n",
       "4          0         0.070581         1376          0         7.0    1    0   \n",
       "\n",
       "   0.2  0.3  0.4  0.5  0.6  0.7  0.8  0.9  final_predicted  \n",
       "0    1    1    1    1    0    0    0    0                1  \n",
       "1    0    0    0    0    0    0    0    0                0  \n",
       "2    1    1    1    1    1    1    0    0                1  \n",
       "3    0    0    0    0    0    0    0    0                0  \n",
       "4    0    0    0    0    0    0    0    0                0  "
      ]
     },
     "execution_count": 158,
     "metadata": {},
     "output_type": "execute_result"
    }
   ],
   "source": [
    "# Choosing the cut off based on the Client needs and by looking at the graph\n",
    "y_train_pred_final['final_predicted'] = y_train_pred_final.Conversion_Prob.map(lambda x: 1 if x > 0.36 else 0)\n",
    "y_train_pred_final.head()"
   ]
  },
  {
   "cell_type": "code",
   "execution_count": 159,
   "id": "460ddb62",
   "metadata": {},
   "outputs": [
    {
     "data": {
      "text/plain": [
       "0.8046749919948767"
      ]
     },
     "execution_count": 159,
     "metadata": {},
     "output_type": "execute_result"
    }
   ],
   "source": [
    "# Accuracy\n",
    "metrics.accuracy_score(y_train_pred_final.Converted, y_train_pred_final.final_predicted)"
   ]
  },
  {
   "cell_type": "code",
   "execution_count": 160,
   "id": "4a0ccd98",
   "metadata": {},
   "outputs": [
    {
     "data": {
      "text/plain": [
       "array([[3137,  735],\n",
       "       [ 485, 1889]], dtype=int64)"
      ]
     },
     "execution_count": 160,
     "metadata": {},
     "output_type": "execute_result"
    }
   ],
   "source": [
    "# Creating confusion matrix again\n",
    "confusion2 = metrics.confusion_matrix(y_train_pred_final.Converted, y_train_pred_final.final_predicted )\n",
    "confusion2"
   ]
  },
  {
   "cell_type": "code",
   "execution_count": 161,
   "id": "458f47e1",
   "metadata": {},
   "outputs": [],
   "source": [
    "# Substituting the value of true positive\n",
    "TP = confusion2[1,1]\n",
    "# Substituting the value of true negatives\n",
    "TN = confusion2[0,0]\n",
    "# Substituting the value of false positives\n",
    "FP = confusion2[0,1] \n",
    "# Substituting the value of false negatives\n",
    "FN = confusion2[1,0]"
   ]
  },
  {
   "cell_type": "code",
   "execution_count": 162,
   "id": "7c6aac21",
   "metadata": {},
   "outputs": [
    {
     "data": {
      "text/plain": [
       "0.7198932926829268"
      ]
     },
     "execution_count": 162,
     "metadata": {},
     "output_type": "execute_result"
    }
   ],
   "source": [
    "# Precision = TP / TP + FP\n",
    "TP / (TP + FP)"
   ]
  },
  {
   "cell_type": "code",
   "execution_count": 163,
   "id": "c396e684",
   "metadata": {},
   "outputs": [
    {
     "data": {
      "text/plain": [
       "0.7957034540859309"
      ]
     },
     "execution_count": 163,
     "metadata": {},
     "output_type": "execute_result"
    }
   ],
   "source": [
    "#Recall = TP / TP + FN\n",
    "TP / (TP + FN)"
   ]
  },
  {
   "cell_type": "markdown",
   "id": "75b5c501",
   "metadata": {},
   "source": [
    "Comments-<br>\n",
    "         - With the current cut off of 0.36, the Precision is around 72% and the Recall is around 80% which seems nice."
   ]
  },
  {
   "cell_type": "markdown",
   "id": "cb64f241",
   "metadata": {},
   "source": [
    "## Prediction on Test Data"
   ]
  },
  {
   "cell_type": "code",
   "execution_count": 164,
   "id": "7a519a79",
   "metadata": {},
   "outputs": [
    {
     "data": {
      "text/html": [
       "<div>\n",
       "<style scoped>\n",
       "    .dataframe tbody tr th:only-of-type {\n",
       "        vertical-align: middle;\n",
       "    }\n",
       "\n",
       "    .dataframe tbody tr th {\n",
       "        vertical-align: top;\n",
       "    }\n",
       "\n",
       "    .dataframe thead th {\n",
       "        text-align: right;\n",
       "    }\n",
       "</style>\n",
       "<table border=\"1\" class=\"dataframe\">\n",
       "  <thead>\n",
       "    <tr style=\"text-align: right;\">\n",
       "      <th></th>\n",
       "      <th>Converted</th>\n",
       "      <th>Conversion_Prob</th>\n",
       "      <th>Lead Number</th>\n",
       "    </tr>\n",
       "  </thead>\n",
       "  <tbody>\n",
       "    <tr>\n",
       "      <th>0</th>\n",
       "      <td>0</td>\n",
       "      <td>0.272742</td>\n",
       "      <td>6732</td>\n",
       "    </tr>\n",
       "    <tr>\n",
       "      <th>1</th>\n",
       "      <td>0</td>\n",
       "      <td>0.308777</td>\n",
       "      <td>6828</td>\n",
       "    </tr>\n",
       "    <tr>\n",
       "      <th>2</th>\n",
       "      <td>0</td>\n",
       "      <td>0.116936</td>\n",
       "      <td>7751</td>\n",
       "    </tr>\n",
       "    <tr>\n",
       "      <th>3</th>\n",
       "      <td>0</td>\n",
       "      <td>0.159057</td>\n",
       "      <td>279</td>\n",
       "    </tr>\n",
       "    <tr>\n",
       "      <th>4</th>\n",
       "      <td>1</td>\n",
       "      <td>0.830183</td>\n",
       "      <td>4742</td>\n",
       "    </tr>\n",
       "  </tbody>\n",
       "</table>\n",
       "</div>"
      ],
      "text/plain": [
       "   Converted  Conversion_Prob  Lead Number\n",
       "0          0         0.272742         6732\n",
       "1          0         0.308777         6828\n",
       "2          0         0.116936         7751\n",
       "3          0         0.159057          279\n",
       "4          1         0.830183         4742"
      ]
     },
     "execution_count": 164,
     "metadata": {},
     "output_type": "execute_result"
    }
   ],
   "source": [
    "# Storing prediction of test set in the variable 'y_test_pred'\n",
    "y_test_pred = res.predict(X_test_sm)\n",
    "# Coverting it to df\n",
    "y_pred_df = pd.DataFrame(y_test_pred)\n",
    "# Converting y_test to dataframe\n",
    "y_test_df = pd.DataFrame(y_test)\n",
    "# Remove index for both dataframes to append them side by side \n",
    "y_pred_df.reset_index(drop=True, inplace=True)\n",
    "y_test_df.reset_index(drop=True, inplace=True)\n",
    "# Append y_test_df and y_pred_df\n",
    "y_pred_final = pd.concat([y_test_df, y_pred_df],axis=1)\n",
    "# Renaming column \n",
    "y_pred_final= y_pred_final.rename(columns = {0 : 'Conversion_Prob'})\n",
    "# Using 'Lead Number' as an index position\n",
    "y_pred_final['Lead Number'] = y_test.index\n",
    "y_pred_final.head()"
   ]
  },
  {
   "cell_type": "code",
   "execution_count": 165,
   "id": "065c305d",
   "metadata": {},
   "outputs": [
    {
     "data": {
      "text/html": [
       "<div>\n",
       "<style scoped>\n",
       "    .dataframe tbody tr th:only-of-type {\n",
       "        vertical-align: middle;\n",
       "    }\n",
       "\n",
       "    .dataframe tbody tr th {\n",
       "        vertical-align: top;\n",
       "    }\n",
       "\n",
       "    .dataframe thead th {\n",
       "        text-align: right;\n",
       "    }\n",
       "</style>\n",
       "<table border=\"1\" class=\"dataframe\">\n",
       "  <thead>\n",
       "    <tr style=\"text-align: right;\">\n",
       "      <th></th>\n",
       "      <th>Converted</th>\n",
       "      <th>Conversion_Prob</th>\n",
       "      <th>Lead Number</th>\n",
       "      <th>final_predicted</th>\n",
       "      <th>Lead Score</th>\n",
       "    </tr>\n",
       "  </thead>\n",
       "  <tbody>\n",
       "    <tr>\n",
       "      <th>0</th>\n",
       "      <td>0</td>\n",
       "      <td>0.272742</td>\n",
       "      <td>6732</td>\n",
       "      <td>0</td>\n",
       "      <td>27.0</td>\n",
       "    </tr>\n",
       "    <tr>\n",
       "      <th>1</th>\n",
       "      <td>0</td>\n",
       "      <td>0.308777</td>\n",
       "      <td>6828</td>\n",
       "      <td>0</td>\n",
       "      <td>31.0</td>\n",
       "    </tr>\n",
       "    <tr>\n",
       "      <th>2</th>\n",
       "      <td>0</td>\n",
       "      <td>0.116936</td>\n",
       "      <td>7751</td>\n",
       "      <td>0</td>\n",
       "      <td>12.0</td>\n",
       "    </tr>\n",
       "    <tr>\n",
       "      <th>3</th>\n",
       "      <td>0</td>\n",
       "      <td>0.159057</td>\n",
       "      <td>279</td>\n",
       "      <td>0</td>\n",
       "      <td>16.0</td>\n",
       "    </tr>\n",
       "    <tr>\n",
       "      <th>4</th>\n",
       "      <td>1</td>\n",
       "      <td>0.830183</td>\n",
       "      <td>4742</td>\n",
       "      <td>1</td>\n",
       "      <td>83.0</td>\n",
       "    </tr>\n",
       "    <tr>\n",
       "      <th>...</th>\n",
       "      <td>...</td>\n",
       "      <td>...</td>\n",
       "      <td>...</td>\n",
       "      <td>...</td>\n",
       "      <td>...</td>\n",
       "    </tr>\n",
       "    <tr>\n",
       "      <th>2673</th>\n",
       "      <td>0</td>\n",
       "      <td>0.794059</td>\n",
       "      <td>124</td>\n",
       "      <td>1</td>\n",
       "      <td>79.0</td>\n",
       "    </tr>\n",
       "    <tr>\n",
       "      <th>2674</th>\n",
       "      <td>0</td>\n",
       "      <td>0.031417</td>\n",
       "      <td>2003</td>\n",
       "      <td>0</td>\n",
       "      <td>3.0</td>\n",
       "    </tr>\n",
       "    <tr>\n",
       "      <th>2675</th>\n",
       "      <td>1</td>\n",
       "      <td>0.186146</td>\n",
       "      <td>2147</td>\n",
       "      <td>0</td>\n",
       "      <td>19.0</td>\n",
       "    </tr>\n",
       "    <tr>\n",
       "      <th>2676</th>\n",
       "      <td>0</td>\n",
       "      <td>0.191942</td>\n",
       "      <td>1330</td>\n",
       "      <td>0</td>\n",
       "      <td>19.0</td>\n",
       "    </tr>\n",
       "    <tr>\n",
       "      <th>2677</th>\n",
       "      <td>1</td>\n",
       "      <td>0.649623</td>\n",
       "      <td>374</td>\n",
       "      <td>1</td>\n",
       "      <td>65.0</td>\n",
       "    </tr>\n",
       "  </tbody>\n",
       "</table>\n",
       "<p>2678 rows × 5 columns</p>\n",
       "</div>"
      ],
      "text/plain": [
       "      Converted  Conversion_Prob  Lead Number  final_predicted  Lead Score\n",
       "0             0         0.272742         6732                0        27.0\n",
       "1             0         0.308777         6828                0        31.0\n",
       "2             0         0.116936         7751                0        12.0\n",
       "3             0         0.159057          279                0        16.0\n",
       "4             1         0.830183         4742                1        83.0\n",
       "...         ...              ...          ...              ...         ...\n",
       "2673          0         0.794059          124                1        79.0\n",
       "2674          0         0.031417         2003                0         3.0\n",
       "2675          1         0.186146         2147                0        19.0\n",
       "2676          0         0.191942         1330                0        19.0\n",
       "2677          1         0.649623          374                1        65.0\n",
       "\n",
       "[2678 rows x 5 columns]"
      ]
     },
     "execution_count": 165,
     "metadata": {},
     "output_type": "execute_result"
    }
   ],
   "source": [
    "# Making prediction using cut off 0.36\n",
    "y_pred_final['final_predicted'] = y_pred_final.Conversion_Prob.map(lambda x: 1 if x > 0.36 else 0)\n",
    "y_pred_final['Lead Score'] = y_pred_final.Conversion_Prob.map(lambda x: round(x*100,0))\n",
    "y_pred_final"
   ]
  },
  {
   "cell_type": "code",
   "execution_count": 166,
   "id": "45dd378f",
   "metadata": {},
   "outputs": [
    {
     "data": {
      "text/plain": [
       "0.7793129200896192"
      ]
     },
     "execution_count": 166,
     "metadata": {},
     "output_type": "execute_result"
    }
   ],
   "source": [
    "# Check the overall accuracy\n",
    "metrics.accuracy_score(y_pred_final['Converted'], y_pred_final.final_predicted)"
   ]
  },
  {
   "cell_type": "code",
   "execution_count": 167,
   "id": "f40901b5",
   "metadata": {},
   "outputs": [
    {
     "data": {
      "text/plain": [
       "array([[1315,  368],\n",
       "       [ 223,  772]], dtype=int64)"
      ]
     },
     "execution_count": 167,
     "metadata": {},
     "output_type": "execute_result"
    }
   ],
   "source": [
    "# Creating confusion matrix \n",
    "confusion2 = metrics.confusion_matrix(y_pred_final['Converted'], y_pred_final.final_predicted )\n",
    "confusion2"
   ]
  },
  {
   "cell_type": "code",
   "execution_count": 168,
   "id": "8c1266c8",
   "metadata": {},
   "outputs": [],
   "source": [
    "# Substituting the value of true positive\n",
    "TP = confusion2[1,1]\n",
    "# Substituting the value of true negatives\n",
    "TN = confusion2[0,0]\n",
    "# Substituting the value of false positives\n",
    "FP = confusion2[0,1] \n",
    "# Substituting the value of false negatives\n",
    "FN = confusion2[1,0]"
   ]
  },
  {
   "cell_type": "code",
   "execution_count": 169,
   "id": "6ce0d679",
   "metadata": {},
   "outputs": [
    {
     "data": {
      "text/plain": [
       "0.6771929824561403"
      ]
     },
     "execution_count": 169,
     "metadata": {},
     "output_type": "execute_result"
    }
   ],
   "source": [
    "# Precision = TP / TP + FP\n",
    "TP / (TP + FP)"
   ]
  },
  {
   "cell_type": "code",
   "execution_count": 170,
   "id": "ae7ad276",
   "metadata": {},
   "outputs": [
    {
     "data": {
      "text/plain": [
       "0.7758793969849246"
      ]
     },
     "execution_count": 170,
     "metadata": {},
     "output_type": "execute_result"
    }
   ],
   "source": [
    "#Recall = TP / TP + FN\n",
    "TP / (TP + FN)"
   ]
  },
  {
   "cell_type": "markdown",
   "id": "fd1b6737",
   "metadata": {},
   "source": [
    "Comments-<br>\n",
    "        - It can be seen that with the cut off of 0.36, the Precision on Test Data is around 68% and Recall is around 78% which seems fair.\n"
   ]
  },
  {
   "cell_type": "markdown",
   "id": "5c9ddd74",
   "metadata": {},
   "source": [
    "# Conclusion and Recommendation"
   ]
  },
  {
   "cell_type": "markdown",
   "id": "ac5ff146",
   "metadata": {},
   "source": [
    "### It was found that the variables that mattered the most in the potential buyers are (In descending order) :"
   ]
  },
  {
   "attachments": {},
   "cell_type": "markdown",
   "id": "34e092e4",
   "metadata": {},
   "source": [
    "-Total Time Spent on Website<br>\n",
    "-In Lead Origin (Lead Add Form)<br>\n",
    "-In Lead Source (Olark Chat)<br>\n",
    "-TotalVisits<br>\n",
    "-In Last Notable Activity (Email Link Clicked)<br>\n",
    "-In Last Notable Activity (Olark Chat Conversation)<br>\n",
    "-In Last Notable Activity (Modified)<br>\n",
    "-Do Not Email<br>\n",
    "-In Last Activity (Olark Chat Conversation)<br>\n",
    "-In Last Notable Activity (Email Opened)<br>\n",
    "-In Last Notable Activity (Page Visited On Website)<br>\n",
    "\n",
    "\n",
    "\n",
    "\n",
    "Keeping these in mind the X Education can flourish as they have a very high \n",
    "chance to get almost all the potential buyers to change their mind and buy their courses.\n",
    "\n",
    "\n",
    "\n",
    "\n"
   ]
  },
  {
   "cell_type": "code",
   "execution_count": null,
   "id": "a36d9c38",
   "metadata": {},
   "outputs": [],
   "source": []
  }
 ],
 "metadata": {
  "kernelspec": {
   "display_name": "Python 3 (ipykernel)",
   "language": "python",
   "name": "python3"
  },
  "language_info": {
   "codemirror_mode": {
    "name": "ipython",
    "version": 3
   },
   "file_extension": ".py",
   "mimetype": "text/x-python",
   "name": "python",
   "nbconvert_exporter": "python",
   "pygments_lexer": "ipython3",
   "version": "3.9.7"
  }
 },
 "nbformat": 4,
 "nbformat_minor": 5
}
